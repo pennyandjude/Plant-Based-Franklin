{
 "cells": [
  {
   "cell_type": "code",
   "execution_count": 1,
   "metadata": {},
   "outputs": [],
   "source": [
    "import requests\n",
    "import matplotlib.pyplot as plt\n",
    "from IPython.display import Image\n",
    "import folium\n",
    "import pandas as pd\n",
    "\n",
    "%matplotlib inline"
   ]
  },
  {
   "cell_type": "code",
   "execution_count": 2,
   "metadata": {},
   "outputs": [],
   "source": [
    "api_key = pd.read_csv('api_key.csv')"
   ]
  },
  {
   "cell_type": "code",
   "execution_count": 3,
   "metadata": {},
   "outputs": [],
   "source": [
    "yelp_api = api_key.loc[api_key['endpoint'] == 'yelp','key'].values[0]"
   ]
  },
  {
   "cell_type": "code",
   "execution_count": 4,
   "metadata": {},
   "outputs": [],
   "source": [
    "#api_key = 'Ln7rsQhrIpbMVE_EktV_cfEnNgUojcikTg6x94kOGshGZ1-jn6q4CpN3nnDgjMW6wccJveTD_r9qubuwwlooiN_pgmTC6WcKG1co9qMIXnigVDTLhZ11XKO1_6vPX3Yx'"
   ]
  },
  {
   "cell_type": "code",
   "execution_count": 5,
   "metadata": {},
   "outputs": [],
   "source": [
    "#pd.DataFrame({'endpoint':'yelp','key':api_key},index = [0]).to_csv('api_key.csv', index = False)"
   ]
  },
  {
   "cell_type": "code",
   "execution_count": 6,
   "metadata": {},
   "outputs": [],
   "source": [
    "end_point_nash = 'https://api.yelp.com/v3/businesses/search'"
   ]
  },
  {
   "cell_type": "code",
   "execution_count": 7,
   "metadata": {},
   "outputs": [],
   "source": [
    "header_nash = {'Authorization': 'bearer %s' % yelp_api}"
   ]
  },
  {
   "cell_type": "code",
   "execution_count": 8,
   "metadata": {},
   "outputs": [],
   "source": [
    "params_offset = 50"
   ]
  },
  {
   "cell_type": "code",
   "execution_count": 9,
   "metadata": {},
   "outputs": [],
   "source": [
    "params_nash = {'location':'Nashville', 'terms':'Vegan,Vegetarian','limit':50,'offset':params_offset} #'radius':'40000 meters','term': 'restaurants' "
   ]
  },
  {
   "cell_type": "code",
   "execution_count": 10,
   "metadata": {},
   "outputs": [
    {
     "data": {
      "text/plain": [
       "{'location': 'Nashville',\n",
       " 'terms': 'Vegan,Vegetarian',\n",
       " 'limit': 50,\n",
       " 'offset': 50}"
      ]
     },
     "execution_count": 10,
     "metadata": {},
     "output_type": "execute_result"
    }
   ],
   "source": [
    "params_nash"
   ]
  },
  {
   "cell_type": "code",
   "execution_count": 11,
   "metadata": {},
   "outputs": [],
   "source": [
    "nash_vegan = requests.get(url= end_point_nash, params = params_nash, headers=header_nash)"
   ]
  },
  {
   "cell_type": "code",
   "execution_count": 12,
   "metadata": {},
   "outputs": [],
   "source": [
    "#nash_vegan2 = requests.get(url= end_point_nash, params = params_nash, headers=header_nash)"
   ]
  },
  {
   "cell_type": "code",
   "execution_count": 13,
   "metadata": {},
   "outputs": [
    {
     "data": {
      "text/plain": [
       "{'businesses': [{'id': 'rx4fcNjuqoaEugMPq5PBfw',\n",
       "   'alias': 'gabbys-burgers-nashville',\n",
       "   'name': \"Gabby's Burgers\",\n",
       "   'image_url': 'https://s3-media3.fl.yelpcdn.com/bphoto/hEg2doK5BZwlgLN7anhMPw/o.jpg',\n",
       "   'is_closed': False,\n",
       "   'url': 'https://www.yelp.com/biz/gabbys-burgers-nashville?adjust_creative=vzMDis5BrNmM2sntvA6iLQ&utm_campaign=yelp_api_v3&utm_medium=api_v3_business_search&utm_source=vzMDis5BrNmM2sntvA6iLQ',\n",
       "   'review_count': 487,\n",
       "   'categories': [{'alias': 'burgers', 'title': 'Burgers'}],\n",
       "   'rating': 4.5,\n",
       "   'coordinates': {'latitude': 36.142017364502,\n",
       "    'longitude': -86.7714691162109},\n",
       "   'transactions': ['delivery'],\n",
       "   'price': '$',\n",
       "   'location': {'address1': '493 Humphreys St',\n",
       "    'address2': '',\n",
       "    'address3': '',\n",
       "    'city': 'Nashville',\n",
       "    'zip_code': '37203',\n",
       "    'country': 'US',\n",
       "    'state': 'TN',\n",
       "    'display_address': ['493 Humphreys St', 'Nashville, TN 37203']},\n",
       "   'phone': '+16157333119',\n",
       "   'display_phone': '(615) 733-3119',\n",
       "   'distance': 598.7718954374001},\n",
       "  {'id': 'HvBLY3-R1KxocZapeAAvZQ',\n",
       "   'alias': 'barcelona-wine-bar-nashville',\n",
       "   'name': 'Barcelona Wine Bar',\n",
       "   'image_url': 'https://s3-media2.fl.yelpcdn.com/bphoto/zZyQzUdpOqbB_uhT1Pxlwg/o.jpg',\n",
       "   'is_closed': False,\n",
       "   'url': 'https://www.yelp.com/biz/barcelona-wine-bar-nashville?adjust_creative=vzMDis5BrNmM2sntvA6iLQ&utm_campaign=yelp_api_v3&utm_medium=api_v3_business_search&utm_source=vzMDis5BrNmM2sntvA6iLQ',\n",
       "   'review_count': 434,\n",
       "   'categories': [{'alias': 'tapas', 'title': 'Tapas Bars'},\n",
       "    {'alias': 'wine_bars', 'title': 'Wine Bars'},\n",
       "    {'alias': 'spanish', 'title': 'Spanish'}],\n",
       "   'rating': 4.5,\n",
       "   'coordinates': {'latitude': 36.14271, 'longitude': -86.79167},\n",
       "   'transactions': ['delivery'],\n",
       "   'price': '$$',\n",
       "   'location': {'address1': '1200 Villa Pl',\n",
       "    'address2': 'Ste 110',\n",
       "    'address3': '',\n",
       "    'city': 'Nashville',\n",
       "    'zip_code': '37212',\n",
       "    'country': 'US',\n",
       "    'state': 'TN',\n",
       "    'display_address': ['1200 Villa Pl', 'Ste 110', 'Nashville, TN 37212']},\n",
       "   'phone': '+16153270600',\n",
       "   'display_phone': '(615) 327-0600',\n",
       "   'distance': 1553.1193850861268},\n",
       "  {'id': '7pwFfnB6FH4lflXWrQ2Tqw',\n",
       "   'alias': 'jacks-bar-b-que-nashville',\n",
       "   'name': \"Jack's Bar-B-Que\",\n",
       "   'image_url': 'https://s3-media2.fl.yelpcdn.com/bphoto/b_jMar6PSIbov__tuWyeJg/o.jpg',\n",
       "   'is_closed': False,\n",
       "   'url': 'https://www.yelp.com/biz/jacks-bar-b-que-nashville?adjust_creative=vzMDis5BrNmM2sntvA6iLQ&utm_campaign=yelp_api_v3&utm_medium=api_v3_business_search&utm_source=vzMDis5BrNmM2sntvA6iLQ',\n",
       "   'review_count': 1492,\n",
       "   'categories': [{'alias': 'bbq', 'title': 'Barbeque'},\n",
       "    {'alias': 'southern', 'title': 'Southern'}],\n",
       "   'rating': 3.5,\n",
       "   'coordinates': {'latitude': 36.16103, 'longitude': -86.778},\n",
       "   'transactions': ['delivery'],\n",
       "   'price': '$$',\n",
       "   'location': {'address1': '416 Broadway',\n",
       "    'address2': '',\n",
       "    'address3': '',\n",
       "    'city': 'Nashville',\n",
       "    'zip_code': '37203',\n",
       "    'country': 'US',\n",
       "    'state': 'TN',\n",
       "    'display_address': ['416 Broadway', 'Nashville, TN 37203']},\n",
       "   'phone': '+16152545715',\n",
       "   'display_phone': '(615) 254-5715',\n",
       "   'distance': 2603.472879326756},\n",
       "  {'id': '4HE6POeYQtB_k6ziyRoqlg',\n",
       "   'alias': 'nashville-jam-café-nashville',\n",
       "   'name': 'Nashville Jam Café',\n",
       "   'image_url': 'https://s3-media4.fl.yelpcdn.com/bphoto/M_KuOdnjMswltclvDgU_Vg/o.jpg',\n",
       "   'is_closed': False,\n",
       "   'url': 'https://www.yelp.com/biz/nashville-jam-caf%C3%A9-nashville?adjust_creative=vzMDis5BrNmM2sntvA6iLQ&utm_campaign=yelp_api_v3&utm_medium=api_v3_business_search&utm_source=vzMDis5BrNmM2sntvA6iLQ',\n",
       "   'review_count': 475,\n",
       "   'categories': [{'alias': 'breakfast_brunch', 'title': 'Breakfast & Brunch'},\n",
       "    {'alias': 'southern', 'title': 'Southern'},\n",
       "    {'alias': 'bbq', 'title': 'Barbeque'}],\n",
       "   'rating': 4.5,\n",
       "   'coordinates': {'latitude': 36.1155367, 'longitude': -86.7648253},\n",
       "   'transactions': ['delivery', 'pickup'],\n",
       "   'price': '$$',\n",
       "   'location': {'address1': '2806 Columbine Pl',\n",
       "    'address2': '',\n",
       "    'address3': '',\n",
       "    'city': 'Nashville',\n",
       "    'zip_code': '37204',\n",
       "    'country': 'US',\n",
       "    'state': 'TN',\n",
       "    'display_address': ['2806 Columbine Pl', 'Nashville, TN 37204']},\n",
       "   'phone': '+16159426465',\n",
       "   'display_phone': '(615) 942-6465',\n",
       "   'distance': 2644.6066721393818},\n",
       "  {'id': '01Vuw9VgqJVIwThiGg3sRA',\n",
       "   'alias': 'mitchell-delicatessen-nashville-2',\n",
       "   'name': 'Mitchell Delicatessen',\n",
       "   'image_url': 'https://s3-media2.fl.yelpcdn.com/bphoto/gKNPfNcAJx8HkQlqFdjXCg/o.jpg',\n",
       "   'is_closed': False,\n",
       "   'url': 'https://www.yelp.com/biz/mitchell-delicatessen-nashville-2?adjust_creative=vzMDis5BrNmM2sntvA6iLQ&utm_campaign=yelp_api_v3&utm_medium=api_v3_business_search&utm_source=vzMDis5BrNmM2sntvA6iLQ',\n",
       "   'review_count': 464,\n",
       "   'categories': [{'alias': 'delis', 'title': 'Delis'},\n",
       "    {'alias': 'sandwiches', 'title': 'Sandwiches'},\n",
       "    {'alias': 'breakfast_brunch', 'title': 'Breakfast & Brunch'}],\n",
       "   'rating': 4.5,\n",
       "   'coordinates': {'latitude': 36.2042208138805,\n",
       "    'longitude': -86.7249304706754},\n",
       "   'transactions': ['delivery'],\n",
       "   'price': '$',\n",
       "   'location': {'address1': '1306 McGavock Pike',\n",
       "    'address2': '',\n",
       "    'address3': '',\n",
       "    'city': 'Nashville',\n",
       "    'zip_code': '37216',\n",
       "    'country': 'US',\n",
       "    'state': 'TN',\n",
       "    'display_address': ['1306 McGavock Pike', 'Nashville, TN 37216']},\n",
       "   'phone': '+16152629862',\n",
       "   'display_phone': '(615) 262-9862',\n",
       "   'distance': 8679.300633027588},\n",
       "  {'id': 'FGGDERcsTDYt6uLHPWEKrw',\n",
       "   'alias': 'martins-bar-b-que-joint-nashville',\n",
       "   'name': \"Martin's Bar-B-Que Joint\",\n",
       "   'image_url': 'https://s3-media2.fl.yelpcdn.com/bphoto/wfiln6Vixrij9Qiz1uqbjA/o.jpg',\n",
       "   'is_closed': False,\n",
       "   'url': 'https://www.yelp.com/biz/martins-bar-b-que-joint-nashville?adjust_creative=vzMDis5BrNmM2sntvA6iLQ&utm_campaign=yelp_api_v3&utm_medium=api_v3_business_search&utm_source=vzMDis5BrNmM2sntvA6iLQ',\n",
       "   'review_count': 765,\n",
       "   'categories': [{'alias': 'bbq', 'title': 'Barbeque'}],\n",
       "   'rating': 4.0,\n",
       "   'coordinates': {'latitude': 36.118062, 'longitude': -86.796567},\n",
       "   'transactions': ['delivery'],\n",
       "   'price': '$$',\n",
       "   'location': {'address1': '3108 Belmont Blvd',\n",
       "    'address2': '',\n",
       "    'address3': '',\n",
       "    'city': 'Nashville',\n",
       "    'zip_code': '37212',\n",
       "    'country': 'US',\n",
       "    'state': 'TN',\n",
       "    'display_address': ['3108 Belmont Blvd', 'Nashville, TN 37212']},\n",
       "   'phone': '+16152001181',\n",
       "   'display_phone': '(615) 200-1181',\n",
       "   'distance': 2888.450308714294},\n",
       "  {'id': '2Z8YwDy6fUUTFFSSNXbLBg',\n",
       "   'alias': 'avo-nashville-3',\n",
       "   'name': 'Avo',\n",
       "   'image_url': 'https://s3-media1.fl.yelpcdn.com/bphoto/0s0fI9kSGRIsm2VCSlcWJg/o.jpg',\n",
       "   'is_closed': False,\n",
       "   'url': 'https://www.yelp.com/biz/avo-nashville-3?adjust_creative=vzMDis5BrNmM2sntvA6iLQ&utm_campaign=yelp_api_v3&utm_medium=api_v3_business_search&utm_source=vzMDis5BrNmM2sntvA6iLQ',\n",
       "   'review_count': 460,\n",
       "   'categories': [{'alias': 'vegan', 'title': 'Vegan'}],\n",
       "   'rating': 4.5,\n",
       "   'coordinates': {'latitude': 36.1526743487556,\n",
       "    'longitude': -86.8200841625656},\n",
       "   'transactions': ['delivery'],\n",
       "   'price': '$$',\n",
       "   'location': {'address1': '3 City Ave',\n",
       "    'address2': 'Ste 200',\n",
       "    'address3': '',\n",
       "    'city': 'Nashville',\n",
       "    'zip_code': '37209',\n",
       "    'country': 'US',\n",
       "    'state': 'TN',\n",
       "    'display_address': ['3 City Ave', 'Ste 200', 'Nashville, TN 37209']},\n",
       "   'phone': '+16153292377',\n",
       "   'display_phone': '(615) 329-2377',\n",
       "   'distance': 4334.808659302416},\n",
       "  {'id': '63wsqoXuGgehnuGrTW4y7g',\n",
       "   'alias': 'the-farm-house-nashville',\n",
       "   'name': 'The Farm House',\n",
       "   'image_url': 'https://s3-media4.fl.yelpcdn.com/bphoto/d6mFQeQ-fNB2eCx8zh5Vpg/o.jpg',\n",
       "   'is_closed': False,\n",
       "   'url': 'https://www.yelp.com/biz/the-farm-house-nashville?adjust_creative=vzMDis5BrNmM2sntvA6iLQ&utm_campaign=yelp_api_v3&utm_medium=api_v3_business_search&utm_source=vzMDis5BrNmM2sntvA6iLQ',\n",
       "   'review_count': 796,\n",
       "   'categories': [{'alias': 'southern', 'title': 'Southern'},\n",
       "    {'alias': 'newamerican', 'title': 'American (New)'}],\n",
       "   'rating': 4.0,\n",
       "   'coordinates': {'latitude': 36.1590990661171,\n",
       "    'longitude': -86.7750539508915},\n",
       "   'transactions': ['delivery'],\n",
       "   'price': '$$',\n",
       "   'location': {'address1': '210 Almond St',\n",
       "    'address2': '',\n",
       "    'address3': '',\n",
       "    'city': 'Nashville',\n",
       "    'zip_code': '37201',\n",
       "    'country': 'US',\n",
       "    'state': 'TN',\n",
       "    'display_address': ['210 Almond St', 'Nashville, TN 37201']},\n",
       "   'phone': '+16155220688',\n",
       "   'display_phone': '(615) 522-0688',\n",
       "   'distance': 2380.0041034048827},\n",
       "  {'id': '6TUOsIU1vNNQcoauKrZFCw',\n",
       "   'alias': '417-union-nashville',\n",
       "   'name': '417 Union',\n",
       "   'image_url': 'https://s3-media2.fl.yelpcdn.com/bphoto/46lk5LnbIQ69JAW1nZ3-Ew/o.jpg',\n",
       "   'is_closed': False,\n",
       "   'url': 'https://www.yelp.com/biz/417-union-nashville?adjust_creative=vzMDis5BrNmM2sntvA6iLQ&utm_campaign=yelp_api_v3&utm_medium=api_v3_business_search&utm_source=vzMDis5BrNmM2sntvA6iLQ',\n",
       "   'review_count': 853,\n",
       "   'categories': [{'alias': 'breakfast_brunch', 'title': 'Breakfast & Brunch'},\n",
       "    {'alias': 'southern', 'title': 'Southern'}],\n",
       "   'rating': 4.0,\n",
       "   'coordinates': {'latitude': 36.16457, 'longitude': -86.7804},\n",
       "   'transactions': ['pickup'],\n",
       "   'price': '$$',\n",
       "   'location': {'address1': '417 Union St',\n",
       "    'address2': '',\n",
       "    'address3': '',\n",
       "    'city': 'Nashville',\n",
       "    'zip_code': '37219',\n",
       "    'country': 'US',\n",
       "    'state': 'TN',\n",
       "    'display_address': ['417 Union St', 'Nashville, TN 37219']},\n",
       "   'phone': '+16154017241',\n",
       "   'display_phone': '(615) 401-7241',\n",
       "   'distance': 3020.7800534561557},\n",
       "  {'id': 'ooUI-JC2tu0J-vavmOHZYQ',\n",
       "   'alias': 'vn-pho-and-deli-nashville',\n",
       "   'name': 'VN Pho & Deli',\n",
       "   'image_url': 'https://s3-media2.fl.yelpcdn.com/bphoto/wtZnHpPKBNBUNOSbdFYdRg/o.jpg',\n",
       "   'is_closed': False,\n",
       "   'url': 'https://www.yelp.com/biz/vn-pho-and-deli-nashville?adjust_creative=vzMDis5BrNmM2sntvA6iLQ&utm_campaign=yelp_api_v3&utm_medium=api_v3_business_search&utm_source=vzMDis5BrNmM2sntvA6iLQ',\n",
       "   'review_count': 390,\n",
       "   'categories': [{'alias': 'vietnamese', 'title': 'Vietnamese'},\n",
       "    {'alias': 'sandwiches', 'title': 'Sandwiches'},\n",
       "    {'alias': 'coffee', 'title': 'Coffee & Tea'}],\n",
       "   'rating': 4.5,\n",
       "   'coordinates': {'latitude': 36.14921, 'longitude': -86.86406},\n",
       "   'transactions': ['delivery'],\n",
       "   'price': '$$',\n",
       "   'location': {'address1': '5906 Charlotte Pike',\n",
       "    'address2': 'Ste C',\n",
       "    'address3': '',\n",
       "    'city': 'Nashville',\n",
       "    'zip_code': '37209',\n",
       "    'country': 'US',\n",
       "    'state': 'TN',\n",
       "    'display_address': ['5906 Charlotte Pike',\n",
       "     'Ste C',\n",
       "     'Nashville, TN 37209']},\n",
       "   'phone': '+16153565995',\n",
       "   'display_phone': '(615) 356-5995',\n",
       "   'distance': 8057.4839622957925},\n",
       "  {'id': 'G8I9weN2VpCAHs2UEmwf2g',\n",
       "   'alias': 'joeys-house-of-pizza-nashville',\n",
       "   'name': \"Joey's House Of Pizza\",\n",
       "   'image_url': 'https://s3-media2.fl.yelpcdn.com/bphoto/_uCidginPfexjB2RgsE9Eg/o.jpg',\n",
       "   'is_closed': False,\n",
       "   'url': 'https://www.yelp.com/biz/joeys-house-of-pizza-nashville?adjust_creative=vzMDis5BrNmM2sntvA6iLQ&utm_campaign=yelp_api_v3&utm_medium=api_v3_business_search&utm_source=vzMDis5BrNmM2sntvA6iLQ',\n",
       "   'review_count': 341,\n",
       "   'categories': [{'alias': 'pizza', 'title': 'Pizza'},\n",
       "    {'alias': 'italian', 'title': 'Italian'}],\n",
       "   'rating': 4.5,\n",
       "   'coordinates': {'latitude': 36.14417, 'longitude': -86.74212},\n",
       "   'transactions': ['delivery'],\n",
       "   'price': '$$',\n",
       "   'location': {'address1': '897 Elm Hill Pike',\n",
       "    'address2': '',\n",
       "    'address3': '',\n",
       "    'city': 'Nashville',\n",
       "    'zip_code': '37210',\n",
       "    'country': 'US',\n",
       "    'state': 'TN',\n",
       "    'display_address': ['897 Elm Hill Pike', 'Nashville, TN 37210']},\n",
       "   'phone': '+16152545639',\n",
       "   'display_phone': '(615) 254-5639',\n",
       "   'distance': 3090.133428119491},\n",
       "  {'id': 'CTZEnTsW2JYN2NH1BCAaZw',\n",
       "   'alias': 'darfons-restaurant-and-lounge-nashville',\n",
       "   'name': 'Darfons Restaurant & Lounge',\n",
       "   'image_url': 'https://s3-media3.fl.yelpcdn.com/bphoto/nrMBowUmseiz-QsX0jBgIQ/o.jpg',\n",
       "   'is_closed': False,\n",
       "   'url': 'https://www.yelp.com/biz/darfons-restaurant-and-lounge-nashville?adjust_creative=vzMDis5BrNmM2sntvA6iLQ&utm_campaign=yelp_api_v3&utm_medium=api_v3_business_search&utm_source=vzMDis5BrNmM2sntvA6iLQ',\n",
       "   'review_count': 724,\n",
       "   'categories': [{'alias': 'tradamerican', 'title': 'American (Traditional)'},\n",
       "    {'alias': 'lounges', 'title': 'Lounges'},\n",
       "    {'alias': 'newamerican', 'title': 'American (New)'}],\n",
       "   'rating': 4.5,\n",
       "   'coordinates': {'latitude': 36.1488609, 'longitude': -86.6649704},\n",
       "   'transactions': ['delivery'],\n",
       "   'price': '$$',\n",
       "   'location': {'address1': '2810 Elm Hill Pike',\n",
       "    'address2': '',\n",
       "    'address3': '',\n",
       "    'city': 'Nashville',\n",
       "    'zip_code': '37214',\n",
       "    'country': 'US',\n",
       "    'state': 'TN',\n",
       "    'display_address': ['2810 Elm Hill Pike', 'Nashville, TN 37214']},\n",
       "   'phone': '+16158893032',\n",
       "   'display_phone': '(615) 889-3032',\n",
       "   'distance': 10007.461567016097},\n",
       "  {'id': 'lLOuLDox8qPV0Q5jCX9qtw',\n",
       "   'alias': 'the-cupcake-collection-nashville',\n",
       "   'name': 'The Cupcake Collection',\n",
       "   'image_url': 'https://s3-media2.fl.yelpcdn.com/bphoto/WEWk3aujhidiUDkQvMx-2Q/o.jpg',\n",
       "   'is_closed': False,\n",
       "   'url': 'https://www.yelp.com/biz/the-cupcake-collection-nashville?adjust_creative=vzMDis5BrNmM2sntvA6iLQ&utm_campaign=yelp_api_v3&utm_medium=api_v3_business_search&utm_source=vzMDis5BrNmM2sntvA6iLQ',\n",
       "   'review_count': 331,\n",
       "   'categories': [{'alias': 'bakeries', 'title': 'Bakeries'},\n",
       "    {'alias': 'cupcakes', 'title': 'Cupcakes'}],\n",
       "   'rating': 4.5,\n",
       "   'coordinates': {'latitude': 36.174955, 'longitude': -86.789843},\n",
       "   'transactions': ['delivery'],\n",
       "   'price': '$',\n",
       "   'location': {'address1': '1213 6th Ave N',\n",
       "    'address2': '',\n",
       "    'address3': '',\n",
       "    'city': 'Nashville',\n",
       "    'zip_code': '37208',\n",
       "    'country': 'US',\n",
       "    'state': 'TN',\n",
       "    'display_address': ['1213 6th Ave N', 'Nashville, TN 37208']},\n",
       "   'phone': '+16152442900',\n",
       "   'display_phone': '(615) 244-2900',\n",
       "   'distance': 4337.926336947053},\n",
       "  {'id': '6FX09pOrazvGT9s6_nQ7CQ',\n",
       "   'alias': 'frothy-monkey-nashville-4',\n",
       "   'name': 'Frothy Monkey',\n",
       "   'image_url': 'https://s3-media2.fl.yelpcdn.com/bphoto/1gNb8h_cXhVkgUz9YhU2pg/o.jpg',\n",
       "   'is_closed': False,\n",
       "   'url': 'https://www.yelp.com/biz/frothy-monkey-nashville-4?adjust_creative=vzMDis5BrNmM2sntvA6iLQ&utm_campaign=yelp_api_v3&utm_medium=api_v3_business_search&utm_source=vzMDis5BrNmM2sntvA6iLQ',\n",
       "   'review_count': 887,\n",
       "   'categories': [{'alias': 'newamerican', 'title': 'American (New)'},\n",
       "    {'alias': 'breakfast_brunch', 'title': 'Breakfast & Brunch'},\n",
       "    {'alias': 'sandwiches', 'title': 'Sandwiches'}],\n",
       "   'rating': 4.0,\n",
       "   'coordinates': {'latitude': 36.164, 'longitude': -86.78115},\n",
       "   'transactions': ['delivery', 'pickup'],\n",
       "   'price': '$$',\n",
       "   'location': {'address1': '235 5th Ave N',\n",
       "    'address2': '',\n",
       "    'address3': '',\n",
       "    'city': 'Nashville',\n",
       "    'zip_code': '37219',\n",
       "    'country': 'US',\n",
       "    'state': 'TN',\n",
       "    'display_address': ['235 5th Ave N', 'Nashville, TN 37219']},\n",
       "   'phone': '+16158911015',\n",
       "   'display_phone': '(615) 891-1015',\n",
       "   'distance': 2971.581528243373},\n",
       "  {'id': 'JWqbjm0wtbbciu_Gb6Eqyw',\n",
       "   'alias': 'mcnamaras-irish-pub-and-restaurant-nashville',\n",
       "   'name': \"Mcnamara's Irish Pub and Restaurant\",\n",
       "   'image_url': 'https://s3-media2.fl.yelpcdn.com/bphoto/1mzq21Yb2SK7zGJ6QvOPBw/o.jpg',\n",
       "   'is_closed': False,\n",
       "   'url': 'https://www.yelp.com/biz/mcnamaras-irish-pub-and-restaurant-nashville?adjust_creative=vzMDis5BrNmM2sntvA6iLQ&utm_campaign=yelp_api_v3&utm_medium=api_v3_business_search&utm_source=vzMDis5BrNmM2sntvA6iLQ',\n",
       "   'review_count': 661,\n",
       "   'categories': [{'alias': 'irish_pubs', 'title': 'Irish Pub'},\n",
       "    {'alias': 'irish', 'title': 'Irish'}],\n",
       "   'rating': 4.5,\n",
       "   'coordinates': {'latitude': 36.16886, 'longitude': -86.66446},\n",
       "   'transactions': [],\n",
       "   'price': '$$',\n",
       "   'location': {'address1': '2740 Old Lebanon Rd',\n",
       "    'address2': None,\n",
       "    'address3': None,\n",
       "    'city': 'Nashville',\n",
       "    'zip_code': '37214',\n",
       "    'country': 'US',\n",
       "    'state': 'TN',\n",
       "    'display_address': ['2740 Old Lebanon Rd', 'Nashville, TN 37214']},\n",
       "   'phone': '+16158857262',\n",
       "   'display_phone': '(615) 885-7262',\n",
       "   'distance': 10555.602194548514},\n",
       "  {'id': 'NT5S6JV5wPwKOd3s3Yh1zQ',\n",
       "   'alias': 'burger-up-nashville',\n",
       "   'name': 'Burger Up',\n",
       "   'image_url': 'https://s3-media1.fl.yelpcdn.com/bphoto/bTh-XgSmds5zTX2AnPtVEQ/o.jpg',\n",
       "   'is_closed': False,\n",
       "   'url': 'https://www.yelp.com/biz/burger-up-nashville?adjust_creative=vzMDis5BrNmM2sntvA6iLQ&utm_campaign=yelp_api_v3&utm_medium=api_v3_business_search&utm_source=vzMDis5BrNmM2sntvA6iLQ',\n",
       "   'review_count': 818,\n",
       "   'categories': [{'alias': 'newamerican', 'title': 'American (New)'},\n",
       "    {'alias': 'burgers', 'title': 'Burgers'}],\n",
       "   'rating': 4.0,\n",
       "   'coordinates': {'latitude': 36.12158, 'longitude': -86.79057},\n",
       "   'transactions': ['delivery'],\n",
       "   'price': '$$',\n",
       "   'location': {'address1': '2901 12th Ave S',\n",
       "    'address2': '',\n",
       "    'address3': '',\n",
       "    'city': 'Nashville',\n",
       "    'zip_code': '37212',\n",
       "    'country': 'US',\n",
       "    'state': 'TN',\n",
       "    'display_address': ['2901 12th Ave S', 'Nashville, TN 37212']},\n",
       "   'phone': '+16152793767',\n",
       "   'display_phone': '(615) 279-3767',\n",
       "   'distance': 2241.571747676826},\n",
       "  {'id': 'YV83252nBml7BmQLdAniYg',\n",
       "   'alias': 'lockeland-table-nashville',\n",
       "   'name': 'Lockeland Table',\n",
       "   'image_url': 'https://s3-media2.fl.yelpcdn.com/bphoto/0RXDG_jDrKQMWpnmi1p8fQ/o.jpg',\n",
       "   'is_closed': False,\n",
       "   'url': 'https://www.yelp.com/biz/lockeland-table-nashville?adjust_creative=vzMDis5BrNmM2sntvA6iLQ&utm_campaign=yelp_api_v3&utm_medium=api_v3_business_search&utm_source=vzMDis5BrNmM2sntvA6iLQ',\n",
       "   'review_count': 506,\n",
       "   'categories': [{'alias': 'newamerican', 'title': 'American (New)'}],\n",
       "   'rating': 4.5,\n",
       "   'coordinates': {'latitude': 36.1767768859863,\n",
       "    'longitude': -86.7420883178711},\n",
       "   'transactions': ['delivery'],\n",
       "   'price': '$$',\n",
       "   'location': {'address1': '1520 Woodland St',\n",
       "    'address2': '',\n",
       "    'address3': '',\n",
       "    'city': 'Nashville',\n",
       "    'zip_code': '37206',\n",
       "    'country': 'US',\n",
       "    'state': 'TN',\n",
       "    'display_address': ['1520 Woodland St', 'Nashville, TN 37206']},\n",
       "   'phone': '+16152284864',\n",
       "   'display_phone': '(615) 228-4864',\n",
       "   'distance': 5280.784620680541},\n",
       "  {'id': 'wP2ok4O0GsR9td7Iiv1zKA',\n",
       "   'alias': 'subculture-urban-cuisine-and-cafe-nashville-4',\n",
       "   'name': 'Subculture Urban Cuisine And Cafe',\n",
       "   'image_url': 'https://s3-media1.fl.yelpcdn.com/bphoto/wO8BKrMFkt7zlfEXWLT9YA/o.jpg',\n",
       "   'is_closed': False,\n",
       "   'url': 'https://www.yelp.com/biz/subculture-urban-cuisine-and-cafe-nashville-4?adjust_creative=vzMDis5BrNmM2sntvA6iLQ&utm_campaign=yelp_api_v3&utm_medium=api_v3_business_search&utm_source=vzMDis5BrNmM2sntvA6iLQ',\n",
       "   'review_count': 326,\n",
       "   'categories': [{'alias': 'sandwiches', 'title': 'Sandwiches'},\n",
       "    {'alias': 'newamerican', 'title': 'American (New)'},\n",
       "    {'alias': 'beerbar', 'title': 'Beer Bar'}],\n",
       "   'rating': 4.5,\n",
       "   'coordinates': {'latitude': 36.0477024018988,\n",
       "    'longitude': -86.7149514342108},\n",
       "   'transactions': ['delivery', 'pickup'],\n",
       "   'price': '$$',\n",
       "   'location': {'address1': '5737 Nolensville Pike',\n",
       "    'address2': None,\n",
       "    'address3': '',\n",
       "    'city': 'Nashville',\n",
       "    'zip_code': '37211',\n",
       "    'country': 'US',\n",
       "    'state': 'TN',\n",
       "    'display_address': ['5737 Nolensville Pike', 'Nashville, TN 37211']},\n",
       "   'phone': '+16159551223',\n",
       "   'display_phone': '(615) 955-1223',\n",
       "   'distance': 11390.89834948115},\n",
       "  {'id': 'vwrdjcP5pAhpANbSPEzAmw',\n",
       "   'alias': 'grillshack-fries-and-burgers-east-nashville-nashville',\n",
       "   'name': 'Grillshack Fries and Burgers - East Nashville',\n",
       "   'image_url': 'https://s3-media2.fl.yelpcdn.com/bphoto/1hmKNmfBMuPn1CgSa9XidA/o.jpg',\n",
       "   'is_closed': False,\n",
       "   'url': 'https://www.yelp.com/biz/grillshack-fries-and-burgers-east-nashville-nashville?adjust_creative=vzMDis5BrNmM2sntvA6iLQ&utm_campaign=yelp_api_v3&utm_medium=api_v3_business_search&utm_source=vzMDis5BrNmM2sntvA6iLQ',\n",
       "   'review_count': 321,\n",
       "   'categories': [{'alias': 'burgers', 'title': 'Burgers'},\n",
       "    {'alias': 'breakfast_brunch', 'title': 'Breakfast & Brunch'},\n",
       "    {'alias': 'chicken_wings', 'title': 'Chicken Wings'}],\n",
       "   'rating': 4.5,\n",
       "   'coordinates': {'latitude': 36.1868887671046,\n",
       "    'longitude': -86.7264403866297},\n",
       "   'transactions': ['delivery'],\n",
       "   'price': '$',\n",
       "   'location': {'address1': '1000 Riverside Dr',\n",
       "    'address2': '',\n",
       "    'address3': '',\n",
       "    'city': 'Nashville',\n",
       "    'zip_code': '37206',\n",
       "    'country': 'US',\n",
       "    'state': 'TN',\n",
       "    'display_address': ['1000 Riverside Dr', 'Nashville, TN 37206']},\n",
       "   'phone': '+16158734402',\n",
       "   'display_phone': '(615) 873-4402',\n",
       "   'distance': 7023.181514054164},\n",
       "  {'id': 'yE1raqkLX7OZsjmX3qKIKg',\n",
       "   'alias': 'butcher-and-bee-nashville',\n",
       "   'name': 'Butcher & Bee',\n",
       "   'image_url': 'https://s3-media2.fl.yelpcdn.com/bphoto/FWChDdiVFyp8XdvvDBEyAg/o.jpg',\n",
       "   'is_closed': False,\n",
       "   'url': 'https://www.yelp.com/biz/butcher-and-bee-nashville?adjust_creative=vzMDis5BrNmM2sntvA6iLQ&utm_campaign=yelp_api_v3&utm_medium=api_v3_business_search&utm_source=vzMDis5BrNmM2sntvA6iLQ',\n",
       "   'review_count': 764,\n",
       "   'categories': [{'alias': 'newamerican', 'title': 'American (New)'},\n",
       "    {'alias': 'southern', 'title': 'Southern'},\n",
       "    {'alias': 'mideastern', 'title': 'Middle Eastern'}],\n",
       "   'rating': 4.0,\n",
       "   'coordinates': {'latitude': 36.1759081, 'longitude': -86.7569761},\n",
       "   'transactions': ['delivery'],\n",
       "   'price': '$$',\n",
       "   'location': {'address1': '902 Main St',\n",
       "    'address2': '',\n",
       "    'address3': '',\n",
       "    'city': 'Nashville',\n",
       "    'zip_code': '37206',\n",
       "    'country': 'US',\n",
       "    'state': 'TN',\n",
       "    'display_address': ['902 Main St', 'Nashville, TN 37206']},\n",
       "   'phone': '+16152263322',\n",
       "   'display_phone': '(615) 226-3322',\n",
       "   'distance': 4566.873088837054},\n",
       "  {'id': '8jwsNjvVNJiYN7AnxHdMLA',\n",
       "   'alias': 'yeast-nashville-nashville',\n",
       "   'name': 'Yeast Nashville',\n",
       "   'image_url': 'https://s3-media2.fl.yelpcdn.com/bphoto/UkqhtPSBtp4eccwCLeJATQ/o.jpg',\n",
       "   'is_closed': False,\n",
       "   'url': 'https://www.yelp.com/biz/yeast-nashville-nashville?adjust_creative=vzMDis5BrNmM2sntvA6iLQ&utm_campaign=yelp_api_v3&utm_medium=api_v3_business_search&utm_source=vzMDis5BrNmM2sntvA6iLQ',\n",
       "   'review_count': 364,\n",
       "   'categories': [{'alias': 'bakeries', 'title': 'Bakeries'},\n",
       "    {'alias': 'coffee', 'title': 'Coffee & Tea'},\n",
       "    {'alias': 'breakfast_brunch', 'title': 'Breakfast & Brunch'}],\n",
       "   'rating': 4.5,\n",
       "   'coordinates': {'latitude': 36.174365, 'longitude': -86.7584621},\n",
       "   'transactions': ['delivery'],\n",
       "   'price': '$',\n",
       "   'location': {'address1': '805 Woodland St',\n",
       "    'address2': 'Ste 300',\n",
       "    'address3': '',\n",
       "    'city': 'Nashville',\n",
       "    'zip_code': '37206',\n",
       "    'country': 'US',\n",
       "    'state': 'TN',\n",
       "    'display_address': ['805 Woodland St', 'Ste 300', 'Nashville, TN 37206']},\n",
       "   'phone': '+16156784592',\n",
       "   'display_phone': '(615) 678-4592',\n",
       "   'distance': 4404.6853552916855},\n",
       "  {'id': 'QRzaTTTE7QrqjW2GOQIrtA',\n",
       "   'alias': 'vege-licious-nashville',\n",
       "   'name': 'Vege-licious',\n",
       "   'image_url': 'https://s3-media2.fl.yelpcdn.com/bphoto/7wOCNclol5LRK72aS3vxXg/o.jpg',\n",
       "   'is_closed': False,\n",
       "   'url': 'https://www.yelp.com/biz/vege-licious-nashville?adjust_creative=vzMDis5BrNmM2sntvA6iLQ&utm_campaign=yelp_api_v3&utm_medium=api_v3_business_search&utm_source=vzMDis5BrNmM2sntvA6iLQ',\n",
       "   'review_count': 268,\n",
       "   'categories': [{'alias': 'vegan', 'title': 'Vegan'},\n",
       "    {'alias': 'vegetarian', 'title': 'Vegetarian'},\n",
       "    {'alias': 'breakfast_brunch', 'title': 'Breakfast & Brunch'}],\n",
       "   'rating': 4.5,\n",
       "   'coordinates': {'latitude': 36.160499, 'longitude': -86.800702},\n",
       "   'transactions': ['delivery', 'pickup'],\n",
       "   'price': '$$',\n",
       "   'location': {'address1': '513B Fisk St',\n",
       "    'address2': None,\n",
       "    'address3': '',\n",
       "    'city': 'Nashville',\n",
       "    'zip_code': '37203',\n",
       "    'country': 'US',\n",
       "    'state': 'TN',\n",
       "    'display_address': ['513B Fisk St', 'Nashville, TN 37203']},\n",
       "   'phone': '+16159426978',\n",
       "   'display_phone': '(615) 942-6978',\n",
       "   'distance': 3397.513500988304},\n",
       "  {'id': 'dNFGbezaxeBR71BdpspKqQ',\n",
       "   'alias': 'proper-bagel-nashville',\n",
       "   'name': 'Proper Bagel',\n",
       "   'image_url': 'https://s3-media4.fl.yelpcdn.com/bphoto/YK1lQZUTB4CmHJgfTX2GuQ/o.jpg',\n",
       "   'is_closed': False,\n",
       "   'url': 'https://www.yelp.com/biz/proper-bagel-nashville?adjust_creative=vzMDis5BrNmM2sntvA6iLQ&utm_campaign=yelp_api_v3&utm_medium=api_v3_business_search&utm_source=vzMDis5BrNmM2sntvA6iLQ',\n",
       "   'review_count': 444,\n",
       "   'categories': [{'alias': 'bagels', 'title': 'Bagels'},\n",
       "    {'alias': 'breakfast_brunch', 'title': 'Breakfast & Brunch'},\n",
       "    {'alias': 'delis', 'title': 'Delis'}],\n",
       "   'rating': 4.5,\n",
       "   'coordinates': {'latitude': 36.13187, 'longitude': -86.7958699},\n",
       "   'transactions': ['delivery'],\n",
       "   'price': '$$',\n",
       "   'location': {'address1': '2011 Belmont Blvd',\n",
       "    'address2': '',\n",
       "    'address3': '',\n",
       "    'city': 'Nashville',\n",
       "    'zip_code': '37212',\n",
       "    'country': 'US',\n",
       "    'state': 'TN',\n",
       "    'display_address': ['2011 Belmont Blvd', 'Nashville, TN 37212']},\n",
       "   'phone': '+16159287276',\n",
       "   'display_phone': '(615) 928-7276',\n",
       "   'distance': 1936.9409654254675},\n",
       "  {'id': 'd4ZPdoYxDnT6f70AZPGrcw',\n",
       "   'alias': 'sky-blue-cafe-nashville',\n",
       "   'name': 'Sky Blue Cafe',\n",
       "   'image_url': 'https://s3-media3.fl.yelpcdn.com/bphoto/IawhIw77bhtE0LWHZtplow/o.jpg',\n",
       "   'is_closed': False,\n",
       "   'url': 'https://www.yelp.com/biz/sky-blue-cafe-nashville?adjust_creative=vzMDis5BrNmM2sntvA6iLQ&utm_campaign=yelp_api_v3&utm_medium=api_v3_business_search&utm_source=vzMDis5BrNmM2sntvA6iLQ',\n",
       "   'review_count': 790,\n",
       "   'categories': [{'alias': 'coffee', 'title': 'Coffee & Tea'},\n",
       "    {'alias': 'tradamerican', 'title': 'American (Traditional)'},\n",
       "    {'alias': 'breakfast_brunch', 'title': 'Breakfast & Brunch'}],\n",
       "   'rating': 4.0,\n",
       "   'coordinates': {'latitude': 36.1713600158691,\n",
       "    'longitude': -86.7588958740234},\n",
       "   'transactions': ['delivery'],\n",
       "   'price': '$$',\n",
       "   'location': {'address1': '700 Fatherland St',\n",
       "    'address2': '',\n",
       "    'address3': '',\n",
       "    'city': 'Nashville',\n",
       "    'zip_code': '37206',\n",
       "    'country': 'US',\n",
       "    'state': 'TN',\n",
       "    'display_address': ['700 Fatherland St', 'Nashville, TN 37206']},\n",
       "   'phone': '+16157707097',\n",
       "   'display_phone': '(615) 770-7097',\n",
       "   'distance': 4035.099196506927},\n",
       "  {'id': 'w520vYWEpEYBf90rSr9NVA',\n",
       "   'alias': 'the-smiling-elephant-nashville',\n",
       "   'name': 'The Smiling Elephant',\n",
       "   'image_url': 'https://s3-media2.fl.yelpcdn.com/bphoto/_nYUA8CFOfWhmr3t0L79fA/o.jpg',\n",
       "   'is_closed': False,\n",
       "   'url': 'https://www.yelp.com/biz/the-smiling-elephant-nashville?adjust_creative=vzMDis5BrNmM2sntvA6iLQ&utm_campaign=yelp_api_v3&utm_medium=api_v3_business_search&utm_source=vzMDis5BrNmM2sntvA6iLQ',\n",
       "   'review_count': 559,\n",
       "   'categories': [{'alias': 'thai', 'title': 'Thai'},\n",
       "    {'alias': 'chinese', 'title': 'Chinese'},\n",
       "    {'alias': 'seafood', 'title': 'Seafood'}],\n",
       "   'rating': 4.0,\n",
       "   'coordinates': {'latitude': 36.12933, 'longitude': -86.77861},\n",
       "   'transactions': ['delivery'],\n",
       "   'price': '$$',\n",
       "   'location': {'address1': '2213 8th Ave S',\n",
       "    'address2': '',\n",
       "    'address3': '',\n",
       "    'city': 'Nashville',\n",
       "    'zip_code': '37204',\n",
       "    'country': 'US',\n",
       "    'state': 'TN',\n",
       "    'display_address': ['2213 8th Ave S', 'Nashville, TN 37204']},\n",
       "   'phone': '+16158914488',\n",
       "   'display_phone': '(615) 891-4488',\n",
       "   'distance': 957.6665509984907},\n",
       "  {'id': 't-RHwZzlTAZeTcgrrbRtqg',\n",
       "   'alias': 'the-grilled-cheeserie-nashville-6',\n",
       "   'name': 'The Grilled Cheeserie',\n",
       "   'image_url': 'https://s3-media3.fl.yelpcdn.com/bphoto/4Z49DU0XrrVIrmKJWzNR8A/o.jpg',\n",
       "   'is_closed': False,\n",
       "   'url': 'https://www.yelp.com/biz/the-grilled-cheeserie-nashville-6?adjust_creative=vzMDis5BrNmM2sntvA6iLQ&utm_campaign=yelp_api_v3&utm_medium=api_v3_business_search&utm_source=vzMDis5BrNmM2sntvA6iLQ',\n",
       "   'review_count': 513,\n",
       "   'categories': [{'alias': 'sandwiches', 'title': 'Sandwiches'},\n",
       "    {'alias': 'foodtrucks', 'title': 'Food Trucks'},\n",
       "    {'alias': 'cheese', 'title': 'Cheese Shops'}],\n",
       "   'rating': 4.0,\n",
       "   'coordinates': {'latitude': 36.136726176345,\n",
       "    'longitude': -86.7996668485396},\n",
       "   'transactions': ['delivery', 'pickup'],\n",
       "   'price': '$$',\n",
       "   'location': {'address1': '2003 Belcourt Ave',\n",
       "    'address2': '',\n",
       "    'address3': '',\n",
       "    'city': 'Nashville',\n",
       "    'zip_code': '37212',\n",
       "    'country': 'US',\n",
       "    'state': 'TN',\n",
       "    'display_address': ['2003 Belcourt Ave', 'Nashville, TN 37212']},\n",
       "   'phone': '+16152030351',\n",
       "   'display_phone': '(615) 203-0351',\n",
       "   'distance': 2186.276308971196},\n",
       "  {'id': '5eayf0Y0TY1ufCWXAk_a3Q',\n",
       "   'alias': 'baja-burrito-nashville-2',\n",
       "   'name': 'Baja Burrito',\n",
       "   'image_url': 'https://s3-media4.fl.yelpcdn.com/bphoto/FFaGyB_WLoddyegPyefMkw/o.jpg',\n",
       "   'is_closed': False,\n",
       "   'url': 'https://www.yelp.com/biz/baja-burrito-nashville-2?adjust_creative=vzMDis5BrNmM2sntvA6iLQ&utm_campaign=yelp_api_v3&utm_medium=api_v3_business_search&utm_source=vzMDis5BrNmM2sntvA6iLQ',\n",
       "   'review_count': 431,\n",
       "   'categories': [{'alias': 'mexican', 'title': 'Mexican'}],\n",
       "   'rating': 4.5,\n",
       "   'coordinates': {'latitude': 36.11248, 'longitude': -86.76611},\n",
       "   'transactions': ['delivery'],\n",
       "   'price': '$',\n",
       "   'location': {'address1': '722 Thompson Ln',\n",
       "    'address2': '',\n",
       "    'address3': None,\n",
       "    'city': 'Nashville',\n",
       "    'zip_code': '37217',\n",
       "    'country': 'US',\n",
       "    'state': 'TN',\n",
       "    'display_address': ['722 Thompson Ln', 'Nashville, TN 37217']},\n",
       "   'phone': '+16153832252',\n",
       "   'display_phone': '(615) 383-2252',\n",
       "   'distance': 2924.5281214841475},\n",
       "  {'id': '8C-G2bwZJLyThpUL5hzg9w',\n",
       "   'alias': 'epice-nashville',\n",
       "   'name': 'Epice',\n",
       "   'image_url': 'https://s3-media2.fl.yelpcdn.com/bphoto/JPDW_HQWC8Tz77bdP_Tz0g/o.jpg',\n",
       "   'is_closed': False,\n",
       "   'url': 'https://www.yelp.com/biz/epice-nashville?adjust_creative=vzMDis5BrNmM2sntvA6iLQ&utm_campaign=yelp_api_v3&utm_medium=api_v3_business_search&utm_source=vzMDis5BrNmM2sntvA6iLQ',\n",
       "   'review_count': 380,\n",
       "   'categories': [{'alias': 'lebanese', 'title': 'Lebanese'}],\n",
       "   'rating': 4.5,\n",
       "   'coordinates': {'latitude': 36.1212469, 'longitude': -86.790155},\n",
       "   'transactions': ['delivery'],\n",
       "   'price': '$$',\n",
       "   'location': {'address1': '2902 12th Ave S',\n",
       "    'address2': '',\n",
       "    'address3': '',\n",
       "    'city': 'Nashville',\n",
       "    'zip_code': '37204',\n",
       "    'country': 'US',\n",
       "    'state': 'TN',\n",
       "    'display_address': ['2902 12th Ave S', 'Nashville, TN 37204']},\n",
       "   'phone': '+16157206765',\n",
       "   'display_phone': '(615) 720-6765',\n",
       "   'distance': 2252.934169309272},\n",
       "  {'id': 'vC2Yt0Cdm5x0K-a78vQU8g',\n",
       "   'alias': 'jeff-rubys-steakhouse-nashville-nashville',\n",
       "   'name': \"Jeff Ruby's Steakhouse- Nashville\",\n",
       "   'image_url': 'https://s3-media4.fl.yelpcdn.com/bphoto/d-cYszh9KUJFT3cTRk_jMw/o.jpg',\n",
       "   'is_closed': False,\n",
       "   'url': 'https://www.yelp.com/biz/jeff-rubys-steakhouse-nashville-nashville?adjust_creative=vzMDis5BrNmM2sntvA6iLQ&utm_campaign=yelp_api_v3&utm_medium=api_v3_business_search&utm_source=vzMDis5BrNmM2sntvA6iLQ',\n",
       "   'review_count': 351,\n",
       "   'categories': [{'alias': 'seafood', 'title': 'Seafood'},\n",
       "    {'alias': 'steak', 'title': 'Steakhouses'},\n",
       "    {'alias': 'sushi', 'title': 'Sushi Bars'}],\n",
       "   'rating': 4.5,\n",
       "   'coordinates': {'latitude': 36.165389, 'longitude': -86.779405},\n",
       "   'transactions': ['delivery'],\n",
       "   'price': '$$$',\n",
       "   'location': {'address1': '300 4th Ave N',\n",
       "    'address2': None,\n",
       "    'address3': '',\n",
       "    'city': 'Nashville',\n",
       "    'zip_code': '37219',\n",
       "    'country': 'US',\n",
       "    'state': 'TN',\n",
       "    'display_address': ['300 4th Ave N', 'Nashville, TN 37219']},\n",
       "   'phone': '+16154344300',\n",
       "   'display_phone': '(615) 434-4300',\n",
       "   'distance': 3098.824601105331},\n",
       "  {'id': 'w1rUV5W_TJ0M0MRwwrseWQ',\n",
       "   'alias': 'the-southern-v-nashville',\n",
       "   'name': 'The Southern V',\n",
       "   'image_url': 'https://s3-media3.fl.yelpcdn.com/bphoto/fpOecWj_hN1wiC-YDrO9fQ/o.jpg',\n",
       "   'is_closed': False,\n",
       "   'url': 'https://www.yelp.com/biz/the-southern-v-nashville?adjust_creative=vzMDis5BrNmM2sntvA6iLQ&utm_campaign=yelp_api_v3&utm_medium=api_v3_business_search&utm_source=vzMDis5BrNmM2sntvA6iLQ',\n",
       "   'review_count': 229,\n",
       "   'categories': [{'alias': 'vegan', 'title': 'Vegan'},\n",
       "    {'alias': 'southern', 'title': 'Southern'},\n",
       "    {'alias': 'vegetarian', 'title': 'Vegetarian'}],\n",
       "   'rating': 4.5,\n",
       "   'coordinates': {'latitude': 36.1804356, 'longitude': -86.8070067},\n",
       "   'transactions': ['delivery'],\n",
       "   'price': '$$',\n",
       "   'location': {'address1': '1200 Buchanan St',\n",
       "    'address2': None,\n",
       "    'address3': '',\n",
       "    'city': 'Nashville',\n",
       "    'zip_code': '37208',\n",
       "    'country': 'US',\n",
       "    'state': 'TN',\n",
       "    'display_address': ['1200 Buchanan St', 'Nashville, TN 37208']},\n",
       "   'phone': '+16158028136',\n",
       "   'display_phone': '(615) 802-8136',\n",
       "   'distance': 5529.680198215533},\n",
       "  {'id': '5DJ2sDvM_XRndlB24DnxYw',\n",
       "   'alias': 'adeles-nashville-7',\n",
       "   'name': \"Adele's\",\n",
       "   'image_url': 'https://s3-media3.fl.yelpcdn.com/bphoto/3nt_vTqCB2BgLaw16xfKnQ/o.jpg',\n",
       "   'is_closed': False,\n",
       "   'url': 'https://www.yelp.com/biz/adeles-nashville-7?adjust_creative=vzMDis5BrNmM2sntvA6iLQ&utm_campaign=yelp_api_v3&utm_medium=api_v3_business_search&utm_source=vzMDis5BrNmM2sntvA6iLQ',\n",
       "   'review_count': 731,\n",
       "   'categories': [{'alias': 'newamerican', 'title': 'American (New)'},\n",
       "    {'alias': 'italian', 'title': 'Italian'},\n",
       "    {'alias': 'breakfast_brunch', 'title': 'Breakfast & Brunch'}],\n",
       "   'rating': 4.0,\n",
       "   'coordinates': {'latitude': 36.1556871024354,\n",
       "    'longitude': -86.7876210785389},\n",
       "   'transactions': ['delivery', 'pickup'],\n",
       "   'price': '$$',\n",
       "   'location': {'address1': '1210 McGavock St',\n",
       "    'address2': '',\n",
       "    'address3': '',\n",
       "    'city': 'Nashville',\n",
       "    'zip_code': '37203',\n",
       "    'country': 'US',\n",
       "    'state': 'TN',\n",
       "    'display_address': ['1210 McGavock St', 'Nashville, TN 37203']},\n",
       "   'phone': '+16159889700',\n",
       "   'display_phone': '(615) 988-9700',\n",
       "   'distance': 2276.6361026526306},\n",
       "  {'id': 'DOoJrrsqGzZN2FqzvllKnQ',\n",
       "   'alias': 'taco-mamacita-nashville',\n",
       "   'name': 'Taco Mamacita',\n",
       "   'image_url': 'https://s3-media3.fl.yelpcdn.com/bphoto/DsJ4uLC5ScOdHlmXZaP4bA/o.jpg',\n",
       "   'is_closed': False,\n",
       "   'url': 'https://www.yelp.com/biz/taco-mamacita-nashville?adjust_creative=vzMDis5BrNmM2sntvA6iLQ&utm_campaign=yelp_api_v3&utm_medium=api_v3_business_search&utm_source=vzMDis5BrNmM2sntvA6iLQ',\n",
       "   'review_count': 784,\n",
       "   'categories': [{'alias': 'tacos', 'title': 'Tacos'}],\n",
       "   'rating': 4.0,\n",
       "   'coordinates': {'latitude': 36.142981, 'longitude': -86.791603},\n",
       "   'transactions': ['delivery'],\n",
       "   'price': '$$',\n",
       "   'location': {'address1': '1200 Villa Pl',\n",
       "    'address2': '',\n",
       "    'address3': '',\n",
       "    'city': 'Nashville',\n",
       "    'zip_code': '37212',\n",
       "    'country': 'US',\n",
       "    'state': 'TN',\n",
       "    'display_address': ['1200 Villa Pl', 'Nashville, TN 37212']},\n",
       "   'phone': '+16157308552',\n",
       "   'display_phone': '(615) 730-8552',\n",
       "   'distance': 1559.7171552622744},\n",
       "  {'id': 'z2FRDJSxRR3mmC9syR25xA',\n",
       "   'alias': 'the-parthenon-nashville',\n",
       "   'name': 'The Parthenon',\n",
       "   'image_url': 'https://s3-media2.fl.yelpcdn.com/bphoto/juyVpfGYbyfqXlwhrXA7GQ/o.jpg',\n",
       "   'is_closed': False,\n",
       "   'url': 'https://www.yelp.com/biz/the-parthenon-nashville?adjust_creative=vzMDis5BrNmM2sntvA6iLQ&utm_campaign=yelp_api_v3&utm_medium=api_v3_business_search&utm_source=vzMDis5BrNmM2sntvA6iLQ',\n",
       "   'review_count': 420,\n",
       "   'categories': [{'alias': 'landmarks',\n",
       "     'title': 'Landmarks & Historical Buildings'},\n",
       "    {'alias': 'artmuseums', 'title': 'Art Museums'}],\n",
       "   'rating': 4.0,\n",
       "   'coordinates': {'latitude': 36.14943, 'longitude': -86.81293},\n",
       "   'transactions': [],\n",
       "   'location': {'address1': '2500 West End Ave',\n",
       "    'address2': '',\n",
       "    'address3': 'Centennial Park',\n",
       "    'city': 'Nashville',\n",
       "    'zip_code': '37203',\n",
       "    'country': 'US',\n",
       "    'state': 'TN',\n",
       "    'display_address': ['2500 West End Ave',\n",
       "     'Centennial Park',\n",
       "     'Nashville, TN 37203']},\n",
       "   'phone': '+16158628431',\n",
       "   'display_phone': '(615) 862-8431',\n",
       "   'distance': 3594.6539028904203},\n",
       "  {'id': 'mnwTbHyIgpMvOG9705zqWA',\n",
       "   'alias': 'country-music-hall-of-fame-and-museum-nashville-3',\n",
       "   'name': 'Country Music Hall of Fame and Museum',\n",
       "   'image_url': 'https://s3-media1.fl.yelpcdn.com/bphoto/tu_EGBdIFxUbNnKFDrVNJg/o.jpg',\n",
       "   'is_closed': False,\n",
       "   'url': 'https://www.yelp.com/biz/country-music-hall-of-fame-and-museum-nashville-3?adjust_creative=vzMDis5BrNmM2sntvA6iLQ&utm_campaign=yelp_api_v3&utm_medium=api_v3_business_search&utm_source=vzMDis5BrNmM2sntvA6iLQ',\n",
       "   'review_count': 616,\n",
       "   'categories': [{'alias': 'museums', 'title': 'Museums'}],\n",
       "   'rating': 4.0,\n",
       "   'coordinates': {'latitude': 36.158266, 'longitude': -86.776126},\n",
       "   'transactions': [],\n",
       "   'location': {'address1': '222 5th Ave S',\n",
       "    'address2': '',\n",
       "    'address3': '',\n",
       "    'city': 'Nashville',\n",
       "    'zip_code': '37203',\n",
       "    'country': 'US',\n",
       "    'state': 'TN',\n",
       "    'display_address': ['222 5th Ave S', 'Nashville, TN 37203']},\n",
       "   'phone': '+16154162001',\n",
       "   'display_phone': '(615) 416-2001',\n",
       "   'distance': 2287.6779081963846},\n",
       "  {'id': 'jSYu2apG1uYq3eNzSA-OHw',\n",
       "   'alias': 'johnny-cash-museum-nashville-4',\n",
       "   'name': 'Johnny Cash Museum and Bongo Java Cafe',\n",
       "   'image_url': 'https://s3-media4.fl.yelpcdn.com/bphoto/y1qZKQFLuj7eQVcyFiU4kw/o.jpg',\n",
       "   'is_closed': False,\n",
       "   'url': 'https://www.yelp.com/biz/johnny-cash-museum-nashville-4?adjust_creative=vzMDis5BrNmM2sntvA6iLQ&utm_campaign=yelp_api_v3&utm_medium=api_v3_business_search&utm_source=vzMDis5BrNmM2sntvA6iLQ',\n",
       "   'review_count': 383,\n",
       "   'categories': [{'alias': 'museums', 'title': 'Museums'}],\n",
       "   'rating': 4.0,\n",
       "   'coordinates': {'latitude': 36.1608, 'longitude': -86.7759},\n",
       "   'transactions': [],\n",
       "   'location': {'address1': '119 3rd Ave S',\n",
       "    'address2': '',\n",
       "    'address3': '',\n",
       "    'city': 'Nashville',\n",
       "    'zip_code': '37201',\n",
       "    'country': 'US',\n",
       "    'state': 'TN',\n",
       "    'display_address': ['119 3rd Ave S', 'Nashville, TN 37201']},\n",
       "   'phone': '+16152561777',\n",
       "   'display_phone': '(615) 256-1777',\n",
       "   'distance': 2569.0180282814845},\n",
       "  {'id': 'nYuwfmjaYdeJgZU_Q_ugaA',\n",
       "   'alias': 'bangkokville-thai-cuisine-nashville-2',\n",
       "   'name': 'Bangkokville Thai Cuisine',\n",
       "   'image_url': 'https://s3-media4.fl.yelpcdn.com/bphoto/FYef8lFRSyiluyF_ubhjOg/o.jpg',\n",
       "   'is_closed': False,\n",
       "   'url': 'https://www.yelp.com/biz/bangkokville-thai-cuisine-nashville-2?adjust_creative=vzMDis5BrNmM2sntvA6iLQ&utm_campaign=yelp_api_v3&utm_medium=api_v3_business_search&utm_source=vzMDis5BrNmM2sntvA6iLQ',\n",
       "   'review_count': 306,\n",
       "   'categories': [{'alias': 'thai', 'title': 'Thai'}],\n",
       "   'rating': 4.5,\n",
       "   'coordinates': {'latitude': 36.0684127807617,\n",
       "    'longitude': -86.7179489135742},\n",
       "   'transactions': ['delivery', 'pickup'],\n",
       "   'price': '$$',\n",
       "   'location': {'address1': '395 Haywood Ln',\n",
       "    'address2': None,\n",
       "    'address3': '',\n",
       "    'city': 'Nashville',\n",
       "    'zip_code': '37211',\n",
       "    'country': 'US',\n",
       "    'state': 'TN',\n",
       "    'display_address': ['395 Haywood Ln', 'Nashville, TN 37211']},\n",
       "   'phone': '+16158349250',\n",
       "   'display_phone': '(615) 834-9250',\n",
       "   'distance': 9274.696334193495},\n",
       "  {'id': 'MXTV7gLn1GcgBIskfIXwMg',\n",
       "   'alias': 'sedona-taphouse-nashville-2',\n",
       "   'name': 'Sedona Taphouse',\n",
       "   'image_url': 'https://s3-media2.fl.yelpcdn.com/bphoto/SEhp6efaST4_95WccLRxBw/o.jpg',\n",
       "   'is_closed': False,\n",
       "   'url': 'https://www.yelp.com/biz/sedona-taphouse-nashville-2?adjust_creative=vzMDis5BrNmM2sntvA6iLQ&utm_campaign=yelp_api_v3&utm_medium=api_v3_business_search&utm_source=vzMDis5BrNmM2sntvA6iLQ',\n",
       "   'review_count': 322,\n",
       "   'categories': [{'alias': 'newamerican', 'title': 'American (New)'},\n",
       "    {'alias': 'beer_and_wine', 'title': 'Beer, Wine & Spirits'}],\n",
       "   'rating': 4.5,\n",
       "   'coordinates': {'latitude': 36.1757655, 'longitude': -86.7847052},\n",
       "   'transactions': ['delivery'],\n",
       "   'price': '$$',\n",
       "   'location': {'address1': '1120 3rd Ave N',\n",
       "    'address2': '',\n",
       "    'address3': None,\n",
       "    'city': 'Nashville',\n",
       "    'zip_code': '37208',\n",
       "    'country': 'US',\n",
       "    'state': 'TN',\n",
       "    'display_address': ['1120 3rd Ave N', 'Nashville, TN 37208']},\n",
       "   'phone': '+16159334260',\n",
       "   'display_phone': '(615) 933-4260',\n",
       "   'distance': 4312.57359058168},\n",
       "  {'id': 'v63vLjagqV609L5NweBJ6w',\n",
       "   'alias': 'merengue-cafe-nashville',\n",
       "   'name': 'Merengue Cafe',\n",
       "   'image_url': 'https://s3-media3.fl.yelpcdn.com/bphoto/4npDZAKJm7UcMfdvOHvcKg/o.jpg',\n",
       "   'is_closed': False,\n",
       "   'url': 'https://www.yelp.com/biz/merengue-cafe-nashville?adjust_creative=vzMDis5BrNmM2sntvA6iLQ&utm_campaign=yelp_api_v3&utm_medium=api_v3_business_search&utm_source=vzMDis5BrNmM2sntvA6iLQ',\n",
       "   'review_count': 206,\n",
       "   'categories': [{'alias': 'dominican', 'title': 'Dominican'},\n",
       "    {'alias': 'puertorican', 'title': 'Puerto Rican'},\n",
       "    {'alias': 'cuban', 'title': 'Cuban'}],\n",
       "   'rating': 4.5,\n",
       "   'coordinates': {'latitude': 36.1134892578468,\n",
       "    'longitude': -86.768437418801},\n",
       "   'transactions': ['delivery', 'pickup'],\n",
       "   'price': '$$',\n",
       "   'location': {'address1': '654 W Iris Dr',\n",
       "    'address2': '',\n",
       "    'address3': None,\n",
       "    'city': 'Nashville',\n",
       "    'zip_code': '37204',\n",
       "    'country': 'US',\n",
       "    'state': 'TN',\n",
       "    'display_address': ['654 W Iris Dr', 'Nashville, TN 37204']},\n",
       "   'phone': '+16159153642',\n",
       "   'display_phone': '(615) 915-3642',\n",
       "   'distance': 2765.914436232924},\n",
       "  {'id': 'XnbuS6ieFxsDSH9go88juw',\n",
       "   'alias': 'the-donut-dog-nashville',\n",
       "   'name': 'The Donut + Dog',\n",
       "   'image_url': 'https://s3-media1.fl.yelpcdn.com/bphoto/J6ZFMc_MLOWONGqgQ46Vsw/o.jpg',\n",
       "   'is_closed': False,\n",
       "   'url': 'https://www.yelp.com/biz/the-donut-dog-nashville?adjust_creative=vzMDis5BrNmM2sntvA6iLQ&utm_campaign=yelp_api_v3&utm_medium=api_v3_business_search&utm_source=vzMDis5BrNmM2sntvA6iLQ',\n",
       "   'review_count': 244,\n",
       "   'categories': [{'alias': 'donuts', 'title': 'Donuts'},\n",
       "    {'alias': 'hotdog', 'title': 'Hot Dogs'},\n",
       "    {'alias': 'coffee', 'title': 'Coffee & Tea'}],\n",
       "   'rating': 4.5,\n",
       "   'coordinates': {'latitude': 36.13658, 'longitude': -86.8032},\n",
       "   'transactions': ['delivery', 'pickup'],\n",
       "   'price': '$$',\n",
       "   'location': {'address1': '2127 Belcourt Ave',\n",
       "    'address2': None,\n",
       "    'address3': '',\n",
       "    'city': 'Nashville',\n",
       "    'zip_code': '37212',\n",
       "    'country': 'US',\n",
       "    'state': 'TN',\n",
       "    'display_address': ['2127 Belcourt Ave', 'Nashville, TN 37212']},\n",
       "   'phone': '+16154571476',\n",
       "   'display_phone': '(615) 457-1476',\n",
       "   'distance': 2492.714154928585},\n",
       "  {'id': 'CBo-YlPMKs3vdYJQRtuznQ',\n",
       "   'alias': 'monells-at-the-manor-nashville-2',\n",
       "   'name': \"Monell's at the Manor\",\n",
       "   'image_url': 'https://s3-media3.fl.yelpcdn.com/bphoto/PnW1dgHoC4sV_rNJKrZuZQ/o.jpg',\n",
       "   'is_closed': False,\n",
       "   'url': 'https://www.yelp.com/biz/monells-at-the-manor-nashville-2?adjust_creative=vzMDis5BrNmM2sntvA6iLQ&utm_campaign=yelp_api_v3&utm_medium=api_v3_business_search&utm_source=vzMDis5BrNmM2sntvA6iLQ',\n",
       "   'review_count': 435,\n",
       "   'categories': [{'alias': 'southern', 'title': 'Southern'},\n",
       "    {'alias': 'soulfood', 'title': 'Soul Food'},\n",
       "    {'alias': 'breakfast_brunch', 'title': 'Breakfast & Brunch'}],\n",
       "   'rating': 4.5,\n",
       "   'coordinates': {'latitude': 36.115335, 'longitude': -86.690199},\n",
       "   'transactions': [],\n",
       "   'price': '$$',\n",
       "   'location': {'address1': '1400 Murfreesboro Pike',\n",
       "    'address2': '',\n",
       "    'address3': '',\n",
       "    'city': 'Nashville',\n",
       "    'zip_code': '37217',\n",
       "    'country': 'US',\n",
       "    'state': 'TN',\n",
       "    'display_address': ['1400 Murfreesboro Pike', 'Nashville, TN 37217']},\n",
       "   'phone': '+16153651414',\n",
       "   'display_phone': '(615) 365-1414',\n",
       "   'distance': 8055.766356714652},\n",
       "  {'id': 'OJEiB_a2I_gxC-ZeayI94A',\n",
       "   'alias': 'another-broken-egg-cafe-nashville',\n",
       "   'name': 'Another Broken Egg Cafe',\n",
       "   'image_url': 'https://s3-media4.fl.yelpcdn.com/bphoto/-BZ_6Zjj6oBpTdxb_BNqxw/o.jpg',\n",
       "   'is_closed': False,\n",
       "   'url': 'https://www.yelp.com/biz/another-broken-egg-cafe-nashville?adjust_creative=vzMDis5BrNmM2sntvA6iLQ&utm_campaign=yelp_api_v3&utm_medium=api_v3_business_search&utm_source=vzMDis5BrNmM2sntvA6iLQ',\n",
       "   'review_count': 667,\n",
       "   'categories': [{'alias': 'breakfast_brunch', 'title': 'Breakfast & Brunch'},\n",
       "    {'alias': 'cafes', 'title': 'Cafes'},\n",
       "    {'alias': 'tradamerican', 'title': 'American (Traditional)'}],\n",
       "   'rating': 4.0,\n",
       "   'coordinates': {'latitude': 36.1632843, 'longitude': -86.7762604},\n",
       "   'transactions': ['delivery'],\n",
       "   'price': '$$',\n",
       "   'location': {'address1': '208 Commerce St',\n",
       "    'address2': None,\n",
       "    'address3': None,\n",
       "    'city': 'Nashville',\n",
       "    'zip_code': '37201',\n",
       "    'country': 'US',\n",
       "    'state': 'TN',\n",
       "    'display_address': ['208 Commerce St', 'Nashville, TN 37201']},\n",
       "   'phone': '+16159133923',\n",
       "   'display_phone': '(615) 913-3923',\n",
       "   'distance': 2850.7430551040325},\n",
       "  {'id': 'avivi8rQFEaR9iH_CZ1iBA',\n",
       "   'alias': 'henrietta-red-nashville',\n",
       "   'name': 'Henrietta Red',\n",
       "   'image_url': 'https://s3-media4.fl.yelpcdn.com/bphoto/8gbaZCk7rcUZzeKphq6ebQ/o.jpg',\n",
       "   'is_closed': False,\n",
       "   'url': 'https://www.yelp.com/biz/henrietta-red-nashville?adjust_creative=vzMDis5BrNmM2sntvA6iLQ&utm_campaign=yelp_api_v3&utm_medium=api_v3_business_search&utm_source=vzMDis5BrNmM2sntvA6iLQ',\n",
       "   'review_count': 352,\n",
       "   'categories': [{'alias': 'newamerican', 'title': 'American (New)'},\n",
       "    {'alias': 'seafood', 'title': 'Seafood'},\n",
       "    {'alias': 'bars', 'title': 'Bars'}],\n",
       "   'rating': 4.5,\n",
       "   'coordinates': {'latitude': 36.17604, 'longitude': -86.78677},\n",
       "   'transactions': [],\n",
       "   'price': '$$$',\n",
       "   'location': {'address1': '1200 4th Ave N',\n",
       "    'address2': '',\n",
       "    'address3': '',\n",
       "    'city': 'Nashville',\n",
       "    'zip_code': '37208',\n",
       "    'country': 'US',\n",
       "    'state': 'TN',\n",
       "    'display_address': ['1200 4th Ave N', 'Nashville, TN 37208']},\n",
       "   'phone': '+16154908042',\n",
       "   'display_phone': '(615) 490-8042',\n",
       "   'distance': 4382.778121450303},\n",
       "  {'id': '15c8IT8faI1-Qz4V-1lxiQ',\n",
       "   'alias': 'jenis-splendid-ice-creams-nashville-7',\n",
       "   'name': \"Jeni's Splendid Ice Creams\",\n",
       "   'image_url': 'https://s3-media4.fl.yelpcdn.com/bphoto/C0gA-abeGFSEdbmKokENhA/o.jpg',\n",
       "   'is_closed': False,\n",
       "   'url': 'https://www.yelp.com/biz/jenis-splendid-ice-creams-nashville-7?adjust_creative=vzMDis5BrNmM2sntvA6iLQ&utm_campaign=yelp_api_v3&utm_medium=api_v3_business_search&utm_source=vzMDis5BrNmM2sntvA6iLQ',\n",
       "   'review_count': 207,\n",
       "   'categories': [{'alias': 'icecream', 'title': 'Ice Cream & Frozen Yogurt'}],\n",
       "   'rating': 4.5,\n",
       "   'coordinates': {'latitude': 36.1357709030377,\n",
       "    'longitude': -86.8011597660714},\n",
       "   'transactions': ['delivery', 'pickup'],\n",
       "   'price': '$$',\n",
       "   'location': {'address1': '1819 21st Ave S',\n",
       "    'address2': '',\n",
       "    'address3': '',\n",
       "    'city': 'Nashville',\n",
       "    'zip_code': '37212',\n",
       "    'country': 'US',\n",
       "    'state': 'TN',\n",
       "    'display_address': ['1819 21st Ave S', 'Nashville, TN 37212']},\n",
       "   'phone': '+16152928636',\n",
       "   'display_phone': '(615) 292-8636',\n",
       "   'distance': 2313.11523140557},\n",
       "  {'id': '6KoyHbN2qSUsioqrjXLeEg',\n",
       "   'alias': 'answer-nashville',\n",
       "   'name': 'Answer',\n",
       "   'image_url': 'https://s3-media2.fl.yelpcdn.com/bphoto/NXXWxt25kdGxZJ9bHEx-nw/o.jpg',\n",
       "   'is_closed': False,\n",
       "   'url': 'https://www.yelp.com/biz/answer-nashville?adjust_creative=vzMDis5BrNmM2sntvA6iLQ&utm_campaign=yelp_api_v3&utm_medium=api_v3_business_search&utm_source=vzMDis5BrNmM2sntvA6iLQ',\n",
       "   'review_count': 225,\n",
       "   'categories': [{'alias': 'tapasmallplates', 'title': 'Tapas/Small Plates'},\n",
       "    {'alias': 'newamerican', 'title': 'American (New)'},\n",
       "    {'alias': 'cocktailbars', 'title': 'Cocktail Bars'}],\n",
       "   'rating': 4.5,\n",
       "   'coordinates': {'latitude': 36.14403, 'longitude': -86.84143},\n",
       "   'transactions': ['delivery'],\n",
       "   'price': '$$',\n",
       "   'location': {'address1': '132 46th Ave N',\n",
       "    'address2': '',\n",
       "    'address3': None,\n",
       "    'city': 'Nashville',\n",
       "    'zip_code': '37209',\n",
       "    'country': 'US',\n",
       "    'state': 'TN',\n",
       "    'display_address': ['132 46th Ave N', 'Nashville, TN 37209']},\n",
       "   'phone': '+16159420866',\n",
       "   'display_phone': '(615) 942-0866',\n",
       "   'distance': 5970.814402581683},\n",
       "  {'id': 'XqSLir6xs3I6ntf-xIQzrQ',\n",
       "   'alias': 'city-house-nashville',\n",
       "   'name': 'City House',\n",
       "   'image_url': 'https://s3-media4.fl.yelpcdn.com/bphoto/TCSkoXclMhA8nwAfHMaJxw/o.jpg',\n",
       "   'is_closed': False,\n",
       "   'url': 'https://www.yelp.com/biz/city-house-nashville?adjust_creative=vzMDis5BrNmM2sntvA6iLQ&utm_campaign=yelp_api_v3&utm_medium=api_v3_business_search&utm_source=vzMDis5BrNmM2sntvA6iLQ',\n",
       "   'review_count': 687,\n",
       "   'categories': [{'alias': 'italian', 'title': 'Italian'},\n",
       "    {'alias': 'southern', 'title': 'Southern'}],\n",
       "   'rating': 4.0,\n",
       "   'coordinates': {'latitude': 36.17696, 'longitude': -86.78711},\n",
       "   'transactions': ['delivery'],\n",
       "   'price': '$$',\n",
       "   'location': {'address1': '1222 4th Ave N',\n",
       "    'address2': '',\n",
       "    'address3': '',\n",
       "    'city': 'Nashville',\n",
       "    'zip_code': '37208',\n",
       "    'country': 'US',\n",
       "    'state': 'TN',\n",
       "    'display_address': ['1222 4th Ave N', 'Nashville, TN 37208']},\n",
       "   'phone': '+16157365838',\n",
       "   'display_phone': '(615) 736-5838',\n",
       "   'distance': 4487.3080303841},\n",
       "  {'id': '5quqExjLtFNhykec_na8pg',\n",
       "   'alias': 'bombay-palace-restaurant-nashville',\n",
       "   'name': 'Bombay Palace Restaurant',\n",
       "   'image_url': 'https://s3-media2.fl.yelpcdn.com/bphoto/tfUmkmEv1F-GyD85VMXUBA/o.jpg',\n",
       "   'is_closed': False,\n",
       "   'url': 'https://www.yelp.com/biz/bombay-palace-restaurant-nashville?adjust_creative=vzMDis5BrNmM2sntvA6iLQ&utm_campaign=yelp_api_v3&utm_medium=api_v3_business_search&utm_source=vzMDis5BrNmM2sntvA6iLQ',\n",
       "   'review_count': 439,\n",
       "   'categories': [{'alias': 'indpak', 'title': 'Indian'},\n",
       "    {'alias': 'seafood', 'title': 'Seafood'}],\n",
       "   'rating': 4.0,\n",
       "   'coordinates': {'latitude': 36.1445, 'longitude': -86.81392},\n",
       "   'transactions': ['delivery', 'pickup'],\n",
       "   'price': '$$',\n",
       "   'location': {'address1': '2912 W End Ave',\n",
       "    'address2': '',\n",
       "    'address3': '',\n",
       "    'city': 'Nashville',\n",
       "    'zip_code': '37203',\n",
       "    'country': 'US',\n",
       "    'state': 'TN',\n",
       "    'display_address': ['2912 W End Ave', 'Nashville, TN 37203']},\n",
       "   'phone': '+16153216140',\n",
       "   'display_phone': '(615) 321-6140',\n",
       "   'distance': 3519.316275682484},\n",
       "  {'id': 'xwjUyOwIQuFNaBCxhedwLA',\n",
       "   'alias': 'edleys-bar-b-que-nashville-2',\n",
       "   'name': \"Edley's Bar-B-Que\",\n",
       "   'image_url': 'https://s3-media3.fl.yelpcdn.com/bphoto/11oetFG6_052ftID7u5NFg/o.jpg',\n",
       "   'is_closed': False,\n",
       "   'url': 'https://www.yelp.com/biz/edleys-bar-b-que-nashville-2?adjust_creative=vzMDis5BrNmM2sntvA6iLQ&utm_campaign=yelp_api_v3&utm_medium=api_v3_business_search&utm_source=vzMDis5BrNmM2sntvA6iLQ',\n",
       "   'review_count': 674,\n",
       "   'categories': [{'alias': 'bbq', 'title': 'Barbeque'},\n",
       "    {'alias': 'southern', 'title': 'Southern'},\n",
       "    {'alias': 'cocktailbars', 'title': 'Cocktail Bars'}],\n",
       "   'rating': 4.0,\n",
       "   'coordinates': {'latitude': 36.1761265, 'longitude': -86.7567142},\n",
       "   'transactions': ['delivery', 'pickup'],\n",
       "   'price': '$$',\n",
       "   'location': {'address1': '908 Main St',\n",
       "    'address2': '',\n",
       "    'address3': '',\n",
       "    'city': 'Nashville',\n",
       "    'zip_code': '37206',\n",
       "    'country': 'US',\n",
       "    'state': 'TN',\n",
       "    'display_address': ['908 Main St', 'Nashville, TN 37206']},\n",
       "   'phone': '+16158734085',\n",
       "   'display_phone': '(615) 873-4085',\n",
       "   'distance': 4594.234183577667},\n",
       "  {'id': 'LF8UjsBRaQ4Aqwu3ARxnBg',\n",
       "   'alias': 'rodizio-grill-the-brazilian-steakhouse-nashville-2',\n",
       "   'name': 'Rodizio Grill The Brazilian Steakhouse',\n",
       "   'image_url': 'https://s3-media2.fl.yelpcdn.com/bphoto/3DpNDPYTvGx6hhSH_m6AsQ/o.jpg',\n",
       "   'is_closed': False,\n",
       "   'url': 'https://www.yelp.com/biz/rodizio-grill-the-brazilian-steakhouse-nashville-2?adjust_creative=vzMDis5BrNmM2sntvA6iLQ&utm_campaign=yelp_api_v3&utm_medium=api_v3_business_search&utm_source=vzMDis5BrNmM2sntvA6iLQ',\n",
       "   'review_count': 505,\n",
       "   'categories': [{'alias': 'steak', 'title': 'Steakhouses'},\n",
       "    {'alias': 'gluten_free', 'title': 'Gluten-Free'},\n",
       "    {'alias': 'brazilian', 'title': 'Brazilian'}],\n",
       "   'rating': 4.0,\n",
       "   'coordinates': {'latitude': 36.1640098, 'longitude': -86.7760299},\n",
       "   'transactions': ['delivery', 'pickup'],\n",
       "   'price': '$$$',\n",
       "   'location': {'address1': '166 2nd Ave N',\n",
       "    'address2': 'Ste C',\n",
       "    'address3': '',\n",
       "    'city': 'Nashville',\n",
       "    'zip_code': '37201',\n",
       "    'country': 'US',\n",
       "    'state': 'TN',\n",
       "    'display_address': ['166 2nd Ave N', 'Ste C', 'Nashville, TN 37201']},\n",
       "   'phone': '+16157308358',\n",
       "   'display_phone': '(615) 730-8358',\n",
       "   'distance': 2926.064247044298},\n",
       "  {'id': '3NmMVlz6sFsBJsVaPtm12A',\n",
       "   'alias': 'tasty-and-delicious-nashville-2',\n",
       "   'name': 'Tasty And Delicious',\n",
       "   'image_url': 'https://s3-media2.fl.yelpcdn.com/bphoto/8XtlgYnDzu97NEdHamuaCQ/o.jpg',\n",
       "   'is_closed': False,\n",
       "   'url': 'https://www.yelp.com/biz/tasty-and-delicious-nashville-2?adjust_creative=vzMDis5BrNmM2sntvA6iLQ&utm_campaign=yelp_api_v3&utm_medium=api_v3_business_search&utm_source=vzMDis5BrNmM2sntvA6iLQ',\n",
       "   'review_count': 203,\n",
       "   'categories': [{'alias': 'tradamerican', 'title': 'American (Traditional)'},\n",
       "    {'alias': 'burgers', 'title': 'Burgers'}],\n",
       "   'rating': 5.0,\n",
       "   'coordinates': {'latitude': 36.06533197307316,\n",
       "    'longitude': -86.71786196529865},\n",
       "   'transactions': ['delivery', 'pickup'],\n",
       "   'price': '$',\n",
       "   'location': {'address1': '4813 Nolensville Pike',\n",
       "    'address2': 'Ste 206A',\n",
       "    'address3': None,\n",
       "    'city': 'Nashville',\n",
       "    'zip_code': '37211',\n",
       "    'country': 'US',\n",
       "    'state': 'TN',\n",
       "    'display_address': ['4813 Nolensville Pike',\n",
       "     'Ste 206A',\n",
       "     'Nashville, TN 37211']},\n",
       "   'phone': '+16156001007',\n",
       "   'display_phone': '(615) 600-1007',\n",
       "   'distance': 9569.614857641303},\n",
       "  {'id': '-ejuzGbu3ZHUndhLTQafJg',\n",
       "   'alias': 'saint-anejo-nashville',\n",
       "   'name': 'Saint Anejo',\n",
       "   'image_url': 'https://s3-media2.fl.yelpcdn.com/bphoto/uiMdjCt8tHvMD9n0rlPHlA/o.jpg',\n",
       "   'is_closed': False,\n",
       "   'url': 'https://www.yelp.com/biz/saint-anejo-nashville?adjust_creative=vzMDis5BrNmM2sntvA6iLQ&utm_campaign=yelp_api_v3&utm_medium=api_v3_business_search&utm_source=vzMDis5BrNmM2sntvA6iLQ',\n",
       "   'review_count': 787,\n",
       "   'categories': [{'alias': 'cocktailbars', 'title': 'Cocktail Bars'},\n",
       "    {'alias': 'mexican', 'title': 'Mexican'},\n",
       "    {'alias': 'breakfast_brunch', 'title': 'Breakfast & Brunch'}],\n",
       "   'rating': 4.0,\n",
       "   'coordinates': {'latitude': 36.15608, 'longitude': -86.78636},\n",
       "   'transactions': ['delivery', 'pickup'],\n",
       "   'price': '$$',\n",
       "   'location': {'address1': '1120 Mcgavock St',\n",
       "    'address2': '',\n",
       "    'address3': '',\n",
       "    'city': 'Nashville',\n",
       "    'zip_code': '37203',\n",
       "    'country': 'US',\n",
       "    'state': 'TN',\n",
       "    'display_address': ['1120 Mcgavock St', 'Nashville, TN 37203']},\n",
       "   'phone': '+16157365301',\n",
       "   'display_phone': '(615) 736-5301',\n",
       "   'distance': 2266.841456456933}],\n",
       " 'total': 2200,\n",
       " 'region': {'center': {'longitude': -86.7755126953125,\n",
       "   'latitude': 36.137698356986476}}}"
      ]
     },
     "execution_count": 13,
     "metadata": {},
     "output_type": "execute_result"
    }
   ],
   "source": [
    "nash_vegan.json()"
   ]
  },
  {
   "cell_type": "code",
   "execution_count": 14,
   "metadata": {},
   "outputs": [
    {
     "data": {
      "text/plain": [
       "<Response [200]>"
      ]
     },
     "execution_count": 14,
     "metadata": {},
     "output_type": "execute_result"
    }
   ],
   "source": [
    "nash_vegan"
   ]
  },
  {
   "cell_type": "code",
   "execution_count": 15,
   "metadata": {},
   "outputs": [
    {
     "data": {
      "text/plain": [
       "requests.models.Response"
      ]
     },
     "execution_count": 15,
     "metadata": {},
     "output_type": "execute_result"
    }
   ],
   "source": [
    "type(nash_vegan)"
   ]
  },
  {
   "cell_type": "code",
   "execution_count": 16,
   "metadata": {},
   "outputs": [
    {
     "data": {
      "text/plain": [
       "'{\"businesses\": [{\"id\": \"rx4fcNjuqoaEugMPq5PBfw\", \"alias\": \"gabbys-burgers-nashville\", \"name\": \"Gabby\\'s Burgers\", \"image_url\": \"https://s3-media3.fl.yelpcdn.com/bphoto/hEg2doK5BZwlgLN7anhMPw/o.jpg\", \"is_closed\": false, \"url\": \"https://www.yelp.com/biz/gabbys-burgers-nashville?adjust_creative=vzMDis5BrNmM2sntvA6iLQ&utm_campaign=yelp_api_v3&utm_medium=api_v3_business_search&utm_source=vzMDis5BrNmM2sntvA6iLQ\", \"review_count\": 487, \"categories\": [{\"alias\": \"burgers\", \"title\": \"Burgers\"}], \"rating\": 4.5, \"coordinates\": {\"latitude\": 36.142017364502, \"longitude\": -86.7714691162109}, \"transactions\": [\"delivery\"], \"price\": \"$\", \"location\": {\"address1\": \"493 Humphreys St\", \"address2\": \"\", \"address3\": \"\", \"city\": \"Nashville\", \"zip_code\": \"37203\", \"country\": \"US\", \"state\": \"TN\", \"display_address\": [\"493 Humphreys St\", \"Nashville, TN 37203\"]}, \"phone\": \"+16157333119\", \"display_phone\": \"(615) 733-3119\", \"distance\": 598.7718954374001}, {\"id\": \"HvBLY3-R1KxocZapeAAvZQ\", \"alias\": \"barcelona-wine-bar-nashville\", \"name\": \"Barcelona Wine Bar\", \"image_url\": \"https://s3-media2.fl.yelpcdn.com/bphoto/zZyQzUdpOqbB_uhT1Pxlwg/o.jpg\", \"is_closed\": false, \"url\": \"https://www.yelp.com/biz/barcelona-wine-bar-nashville?adjust_creative=vzMDis5BrNmM2sntvA6iLQ&utm_campaign=yelp_api_v3&utm_medium=api_v3_business_search&utm_source=vzMDis5BrNmM2sntvA6iLQ\", \"review_count\": 434, \"categories\": [{\"alias\": \"tapas\", \"title\": \"Tapas Bars\"}, {\"alias\": \"wine_bars\", \"title\": \"Wine Bars\"}, {\"alias\": \"spanish\", \"title\": \"Spanish\"}], \"rating\": 4.5, \"coordinates\": {\"latitude\": 36.14271, \"longitude\": -86.79167}, \"transactions\": [\"delivery\"], \"price\": \"$$\", \"location\": {\"address1\": \"1200 Villa Pl\", \"address2\": \"Ste 110\", \"address3\": \"\", \"city\": \"Nashville\", \"zip_code\": \"37212\", \"country\": \"US\", \"state\": \"TN\", \"display_address\": [\"1200 Villa Pl\", \"Ste 110\", \"Nashville, TN 37212\"]}, \"phone\": \"+16153270600\", \"display_phone\": \"(615) 327-0600\", \"distance\": 1553.1193850861268}, {\"id\": \"7pwFfnB6FH4lflXWrQ2Tqw\", \"alias\": \"jacks-bar-b-que-nashville\", \"name\": \"Jack\\'s Bar-B-Que\", \"image_url\": \"https://s3-media2.fl.yelpcdn.com/bphoto/b_jMar6PSIbov__tuWyeJg/o.jpg\", \"is_closed\": false, \"url\": \"https://www.yelp.com/biz/jacks-bar-b-que-nashville?adjust_creative=vzMDis5BrNmM2sntvA6iLQ&utm_campaign=yelp_api_v3&utm_medium=api_v3_business_search&utm_source=vzMDis5BrNmM2sntvA6iLQ\", \"review_count\": 1492, \"categories\": [{\"alias\": \"bbq\", \"title\": \"Barbeque\"}, {\"alias\": \"southern\", \"title\": \"Southern\"}], \"rating\": 3.5, \"coordinates\": {\"latitude\": 36.16103, \"longitude\": -86.778}, \"transactions\": [\"delivery\"], \"price\": \"$$\", \"location\": {\"address1\": \"416 Broadway\", \"address2\": \"\", \"address3\": \"\", \"city\": \"Nashville\", \"zip_code\": \"37203\", \"country\": \"US\", \"state\": \"TN\", \"display_address\": [\"416 Broadway\", \"Nashville, TN 37203\"]}, \"phone\": \"+16152545715\", \"display_phone\": \"(615) 254-5715\", \"distance\": 2603.472879326756}, {\"id\": \"4HE6POeYQtB_k6ziyRoqlg\", \"alias\": \"nashville-jam-caf\\\\u00e9-nashville\", \"name\": \"Nashville Jam Caf\\\\u00e9\", \"image_url\": \"https://s3-media4.fl.yelpcdn.com/bphoto/M_KuOdnjMswltclvDgU_Vg/o.jpg\", \"is_closed\": false, \"url\": \"https://www.yelp.com/biz/nashville-jam-caf%C3%A9-nashville?adjust_creative=vzMDis5BrNmM2sntvA6iLQ&utm_campaign=yelp_api_v3&utm_medium=api_v3_business_search&utm_source=vzMDis5BrNmM2sntvA6iLQ\", \"review_count\": 475, \"categories\": [{\"alias\": \"breakfast_brunch\", \"title\": \"Breakfast & Brunch\"}, {\"alias\": \"southern\", \"title\": \"Southern\"}, {\"alias\": \"bbq\", \"title\": \"Barbeque\"}], \"rating\": 4.5, \"coordinates\": {\"latitude\": 36.1155367, \"longitude\": -86.7648253}, \"transactions\": [\"delivery\", \"pickup\"], \"price\": \"$$\", \"location\": {\"address1\": \"2806 Columbine Pl\", \"address2\": \"\", \"address3\": \"\", \"city\": \"Nashville\", \"zip_code\": \"37204\", \"country\": \"US\", \"state\": \"TN\", \"display_address\": [\"2806 Columbine Pl\", \"Nashville, TN 37204\"]}, \"phone\": \"+16159426465\", \"display_phone\": \"(615) 942-6465\", \"distance\": 2644.6066721393818}, {\"id\": \"01Vuw9VgqJVIwThiGg3sRA\", \"alias\": \"mitchell-delicatessen-nashville-2\", \"name\": \"Mitchell Delicatessen\", \"image_url\": \"https://s3-media2.fl.yelpcdn.com/bphoto/gKNPfNcAJx8HkQlqFdjXCg/o.jpg\", \"is_closed\": false, \"url\": \"https://www.yelp.com/biz/mitchell-delicatessen-nashville-2?adjust_creative=vzMDis5BrNmM2sntvA6iLQ&utm_campaign=yelp_api_v3&utm_medium=api_v3_business_search&utm_source=vzMDis5BrNmM2sntvA6iLQ\", \"review_count\": 464, \"categories\": [{\"alias\": \"delis\", \"title\": \"Delis\"}, {\"alias\": \"sandwiches\", \"title\": \"Sandwiches\"}, {\"alias\": \"breakfast_brunch\", \"title\": \"Breakfast & Brunch\"}], \"rating\": 4.5, \"coordinates\": {\"latitude\": 36.2042208138805, \"longitude\": -86.7249304706754}, \"transactions\": [\"delivery\"], \"price\": \"$\", \"location\": {\"address1\": \"1306 McGavock Pike\", \"address2\": \"\", \"address3\": \"\", \"city\": \"Nashville\", \"zip_code\": \"37216\", \"country\": \"US\", \"state\": \"TN\", \"display_address\": [\"1306 McGavock Pike\", \"Nashville, TN 37216\"]}, \"phone\": \"+16152629862\", \"display_phone\": \"(615) 262-9862\", \"distance\": 8679.300633027588}, {\"id\": \"FGGDERcsTDYt6uLHPWEKrw\", \"alias\": \"martins-bar-b-que-joint-nashville\", \"name\": \"Martin\\'s Bar-B-Que Joint\", \"image_url\": \"https://s3-media2.fl.yelpcdn.com/bphoto/wfiln6Vixrij9Qiz1uqbjA/o.jpg\", \"is_closed\": false, \"url\": \"https://www.yelp.com/biz/martins-bar-b-que-joint-nashville?adjust_creative=vzMDis5BrNmM2sntvA6iLQ&utm_campaign=yelp_api_v3&utm_medium=api_v3_business_search&utm_source=vzMDis5BrNmM2sntvA6iLQ\", \"review_count\": 765, \"categories\": [{\"alias\": \"bbq\", \"title\": \"Barbeque\"}], \"rating\": 4.0, \"coordinates\": {\"latitude\": 36.118062, \"longitude\": -86.796567}, \"transactions\": [\"delivery\"], \"price\": \"$$\", \"location\": {\"address1\": \"3108 Belmont Blvd\", \"address2\": \"\", \"address3\": \"\", \"city\": \"Nashville\", \"zip_code\": \"37212\", \"country\": \"US\", \"state\": \"TN\", \"display_address\": [\"3108 Belmont Blvd\", \"Nashville, TN 37212\"]}, \"phone\": \"+16152001181\", \"display_phone\": \"(615) 200-1181\", \"distance\": 2888.450308714294}, {\"id\": \"2Z8YwDy6fUUTFFSSNXbLBg\", \"alias\": \"avo-nashville-3\", \"name\": \"Avo\", \"image_url\": \"https://s3-media1.fl.yelpcdn.com/bphoto/0s0fI9kSGRIsm2VCSlcWJg/o.jpg\", \"is_closed\": false, \"url\": \"https://www.yelp.com/biz/avo-nashville-3?adjust_creative=vzMDis5BrNmM2sntvA6iLQ&utm_campaign=yelp_api_v3&utm_medium=api_v3_business_search&utm_source=vzMDis5BrNmM2sntvA6iLQ\", \"review_count\": 460, \"categories\": [{\"alias\": \"vegan\", \"title\": \"Vegan\"}], \"rating\": 4.5, \"coordinates\": {\"latitude\": 36.1526743487556, \"longitude\": -86.8200841625656}, \"transactions\": [\"delivery\"], \"price\": \"$$\", \"location\": {\"address1\": \"3 City Ave\", \"address2\": \"Ste 200\", \"address3\": \"\", \"city\": \"Nashville\", \"zip_code\": \"37209\", \"country\": \"US\", \"state\": \"TN\", \"display_address\": [\"3 City Ave\", \"Ste 200\", \"Nashville, TN 37209\"]}, \"phone\": \"+16153292377\", \"display_phone\": \"(615) 329-2377\", \"distance\": 4334.808659302416}, {\"id\": \"63wsqoXuGgehnuGrTW4y7g\", \"alias\": \"the-farm-house-nashville\", \"name\": \"The Farm House\", \"image_url\": \"https://s3-media4.fl.yelpcdn.com/bphoto/d6mFQeQ-fNB2eCx8zh5Vpg/o.jpg\", \"is_closed\": false, \"url\": \"https://www.yelp.com/biz/the-farm-house-nashville?adjust_creative=vzMDis5BrNmM2sntvA6iLQ&utm_campaign=yelp_api_v3&utm_medium=api_v3_business_search&utm_source=vzMDis5BrNmM2sntvA6iLQ\", \"review_count\": 796, \"categories\": [{\"alias\": \"southern\", \"title\": \"Southern\"}, {\"alias\": \"newamerican\", \"title\": \"American (New)\"}], \"rating\": 4.0, \"coordinates\": {\"latitude\": 36.1590990661171, \"longitude\": -86.7750539508915}, \"transactions\": [\"delivery\"], \"price\": \"$$\", \"location\": {\"address1\": \"210 Almond St\", \"address2\": \"\", \"address3\": \"\", \"city\": \"Nashville\", \"zip_code\": \"37201\", \"country\": \"US\", \"state\": \"TN\", \"display_address\": [\"210 Almond St\", \"Nashville, TN 37201\"]}, \"phone\": \"+16155220688\", \"display_phone\": \"(615) 522-0688\", \"distance\": 2380.0041034048827}, {\"id\": \"6TUOsIU1vNNQcoauKrZFCw\", \"alias\": \"417-union-nashville\", \"name\": \"417 Union\", \"image_url\": \"https://s3-media2.fl.yelpcdn.com/bphoto/46lk5LnbIQ69JAW1nZ3-Ew/o.jpg\", \"is_closed\": false, \"url\": \"https://www.yelp.com/biz/417-union-nashville?adjust_creative=vzMDis5BrNmM2sntvA6iLQ&utm_campaign=yelp_api_v3&utm_medium=api_v3_business_search&utm_source=vzMDis5BrNmM2sntvA6iLQ\", \"review_count\": 853, \"categories\": [{\"alias\": \"breakfast_brunch\", \"title\": \"Breakfast & Brunch\"}, {\"alias\": \"southern\", \"title\": \"Southern\"}], \"rating\": 4.0, \"coordinates\": {\"latitude\": 36.16457, \"longitude\": -86.7804}, \"transactions\": [\"pickup\"], \"price\": \"$$\", \"location\": {\"address1\": \"417 Union St\", \"address2\": \"\", \"address3\": \"\", \"city\": \"Nashville\", \"zip_code\": \"37219\", \"country\": \"US\", \"state\": \"TN\", \"display_address\": [\"417 Union St\", \"Nashville, TN 37219\"]}, \"phone\": \"+16154017241\", \"display_phone\": \"(615) 401-7241\", \"distance\": 3020.7800534561557}, {\"id\": \"ooUI-JC2tu0J-vavmOHZYQ\", \"alias\": \"vn-pho-and-deli-nashville\", \"name\": \"VN Pho & Deli\", \"image_url\": \"https://s3-media2.fl.yelpcdn.com/bphoto/wtZnHpPKBNBUNOSbdFYdRg/o.jpg\", \"is_closed\": false, \"url\": \"https://www.yelp.com/biz/vn-pho-and-deli-nashville?adjust_creative=vzMDis5BrNmM2sntvA6iLQ&utm_campaign=yelp_api_v3&utm_medium=api_v3_business_search&utm_source=vzMDis5BrNmM2sntvA6iLQ\", \"review_count\": 390, \"categories\": [{\"alias\": \"vietnamese\", \"title\": \"Vietnamese\"}, {\"alias\": \"sandwiches\", \"title\": \"Sandwiches\"}, {\"alias\": \"coffee\", \"title\": \"Coffee & Tea\"}], \"rating\": 4.5, \"coordinates\": {\"latitude\": 36.14921, \"longitude\": -86.86406}, \"transactions\": [\"delivery\"], \"price\": \"$$\", \"location\": {\"address1\": \"5906 Charlotte Pike\", \"address2\": \"Ste C\", \"address3\": \"\", \"city\": \"Nashville\", \"zip_code\": \"37209\", \"country\": \"US\", \"state\": \"TN\", \"display_address\": [\"5906 Charlotte Pike\", \"Ste C\", \"Nashville, TN 37209\"]}, \"phone\": \"+16153565995\", \"display_phone\": \"(615) 356-5995\", \"distance\": 8057.4839622957925}, {\"id\": \"G8I9weN2VpCAHs2UEmwf2g\", \"alias\": \"joeys-house-of-pizza-nashville\", \"name\": \"Joey\\'s House Of Pizza\", \"image_url\": \"https://s3-media2.fl.yelpcdn.com/bphoto/_uCidginPfexjB2RgsE9Eg/o.jpg\", \"is_closed\": false, \"url\": \"https://www.yelp.com/biz/joeys-house-of-pizza-nashville?adjust_creative=vzMDis5BrNmM2sntvA6iLQ&utm_campaign=yelp_api_v3&utm_medium=api_v3_business_search&utm_source=vzMDis5BrNmM2sntvA6iLQ\", \"review_count\": 341, \"categories\": [{\"alias\": \"pizza\", \"title\": \"Pizza\"}, {\"alias\": \"italian\", \"title\": \"Italian\"}], \"rating\": 4.5, \"coordinates\": {\"latitude\": 36.14417, \"longitude\": -86.74212}, \"transactions\": [\"delivery\"], \"price\": \"$$\", \"location\": {\"address1\": \"897 Elm Hill Pike\", \"address2\": \"\", \"address3\": \"\", \"city\": \"Nashville\", \"zip_code\": \"37210\", \"country\": \"US\", \"state\": \"TN\", \"display_address\": [\"897 Elm Hill Pike\", \"Nashville, TN 37210\"]}, \"phone\": \"+16152545639\", \"display_phone\": \"(615) 254-5639\", \"distance\": 3090.133428119491}, {\"id\": \"CTZEnTsW2JYN2NH1BCAaZw\", \"alias\": \"darfons-restaurant-and-lounge-nashville\", \"name\": \"Darfons Restaurant & Lounge\", \"image_url\": \"https://s3-media3.fl.yelpcdn.com/bphoto/nrMBowUmseiz-QsX0jBgIQ/o.jpg\", \"is_closed\": false, \"url\": \"https://www.yelp.com/biz/darfons-restaurant-and-lounge-nashville?adjust_creative=vzMDis5BrNmM2sntvA6iLQ&utm_campaign=yelp_api_v3&utm_medium=api_v3_business_search&utm_source=vzMDis5BrNmM2sntvA6iLQ\", \"review_count\": 724, \"categories\": [{\"alias\": \"tradamerican\", \"title\": \"American (Traditional)\"}, {\"alias\": \"lounges\", \"title\": \"Lounges\"}, {\"alias\": \"newamerican\", \"title\": \"American (New)\"}], \"rating\": 4.5, \"coordinates\": {\"latitude\": 36.1488609, \"longitude\": -86.6649704}, \"transactions\": [\"delivery\"], \"price\": \"$$\", \"location\": {\"address1\": \"2810 Elm Hill Pike\", \"address2\": \"\", \"address3\": \"\", \"city\": \"Nashville\", \"zip_code\": \"37214\", \"country\": \"US\", \"state\": \"TN\", \"display_address\": [\"2810 Elm Hill Pike\", \"Nashville, TN 37214\"]}, \"phone\": \"+16158893032\", \"display_phone\": \"(615) 889-3032\", \"distance\": 10007.461567016097}, {\"id\": \"lLOuLDox8qPV0Q5jCX9qtw\", \"alias\": \"the-cupcake-collection-nashville\", \"name\": \"The Cupcake Collection\", \"image_url\": \"https://s3-media2.fl.yelpcdn.com/bphoto/WEWk3aujhidiUDkQvMx-2Q/o.jpg\", \"is_closed\": false, \"url\": \"https://www.yelp.com/biz/the-cupcake-collection-nashville?adjust_creative=vzMDis5BrNmM2sntvA6iLQ&utm_campaign=yelp_api_v3&utm_medium=api_v3_business_search&utm_source=vzMDis5BrNmM2sntvA6iLQ\", \"review_count\": 331, \"categories\": [{\"alias\": \"bakeries\", \"title\": \"Bakeries\"}, {\"alias\": \"cupcakes\", \"title\": \"Cupcakes\"}], \"rating\": 4.5, \"coordinates\": {\"latitude\": 36.174955, \"longitude\": -86.789843}, \"transactions\": [\"delivery\"], \"price\": \"$\", \"location\": {\"address1\": \"1213 6th Ave N\", \"address2\": \"\", \"address3\": \"\", \"city\": \"Nashville\", \"zip_code\": \"37208\", \"country\": \"US\", \"state\": \"TN\", \"display_address\": [\"1213 6th Ave N\", \"Nashville, TN 37208\"]}, \"phone\": \"+16152442900\", \"display_phone\": \"(615) 244-2900\", \"distance\": 4337.926336947053}, {\"id\": \"6FX09pOrazvGT9s6_nQ7CQ\", \"alias\": \"frothy-monkey-nashville-4\", \"name\": \"Frothy Monkey\", \"image_url\": \"https://s3-media2.fl.yelpcdn.com/bphoto/1gNb8h_cXhVkgUz9YhU2pg/o.jpg\", \"is_closed\": false, \"url\": \"https://www.yelp.com/biz/frothy-monkey-nashville-4?adjust_creative=vzMDis5BrNmM2sntvA6iLQ&utm_campaign=yelp_api_v3&utm_medium=api_v3_business_search&utm_source=vzMDis5BrNmM2sntvA6iLQ\", \"review_count\": 887, \"categories\": [{\"alias\": \"newamerican\", \"title\": \"American (New)\"}, {\"alias\": \"breakfast_brunch\", \"title\": \"Breakfast & Brunch\"}, {\"alias\": \"sandwiches\", \"title\": \"Sandwiches\"}], \"rating\": 4.0, \"coordinates\": {\"latitude\": 36.164, \"longitude\": -86.78115}, \"transactions\": [\"delivery\", \"pickup\"], \"price\": \"$$\", \"location\": {\"address1\": \"235 5th Ave N\", \"address2\": \"\", \"address3\": \"\", \"city\": \"Nashville\", \"zip_code\": \"37219\", \"country\": \"US\", \"state\": \"TN\", \"display_address\": [\"235 5th Ave N\", \"Nashville, TN 37219\"]}, \"phone\": \"+16158911015\", \"display_phone\": \"(615) 891-1015\", \"distance\": 2971.581528243373}, {\"id\": \"JWqbjm0wtbbciu_Gb6Eqyw\", \"alias\": \"mcnamaras-irish-pub-and-restaurant-nashville\", \"name\": \"Mcnamara\\'s Irish Pub and Restaurant\", \"image_url\": \"https://s3-media2.fl.yelpcdn.com/bphoto/1mzq21Yb2SK7zGJ6QvOPBw/o.jpg\", \"is_closed\": false, \"url\": \"https://www.yelp.com/biz/mcnamaras-irish-pub-and-restaurant-nashville?adjust_creative=vzMDis5BrNmM2sntvA6iLQ&utm_campaign=yelp_api_v3&utm_medium=api_v3_business_search&utm_source=vzMDis5BrNmM2sntvA6iLQ\", \"review_count\": 661, \"categories\": [{\"alias\": \"irish_pubs\", \"title\": \"Irish Pub\"}, {\"alias\": \"irish\", \"title\": \"Irish\"}], \"rating\": 4.5, \"coordinates\": {\"latitude\": 36.16886, \"longitude\": -86.66446}, \"transactions\": [], \"price\": \"$$\", \"location\": {\"address1\": \"2740 Old Lebanon Rd\", \"address2\": null, \"address3\": null, \"city\": \"Nashville\", \"zip_code\": \"37214\", \"country\": \"US\", \"state\": \"TN\", \"display_address\": [\"2740 Old Lebanon Rd\", \"Nashville, TN 37214\"]}, \"phone\": \"+16158857262\", \"display_phone\": \"(615) 885-7262\", \"distance\": 10555.602194548514}, {\"id\": \"NT5S6JV5wPwKOd3s3Yh1zQ\", \"alias\": \"burger-up-nashville\", \"name\": \"Burger Up\", \"image_url\": \"https://s3-media1.fl.yelpcdn.com/bphoto/bTh-XgSmds5zTX2AnPtVEQ/o.jpg\", \"is_closed\": false, \"url\": \"https://www.yelp.com/biz/burger-up-nashville?adjust_creative=vzMDis5BrNmM2sntvA6iLQ&utm_campaign=yelp_api_v3&utm_medium=api_v3_business_search&utm_source=vzMDis5BrNmM2sntvA6iLQ\", \"review_count\": 818, \"categories\": [{\"alias\": \"newamerican\", \"title\": \"American (New)\"}, {\"alias\": \"burgers\", \"title\": \"Burgers\"}], \"rating\": 4.0, \"coordinates\": {\"latitude\": 36.12158, \"longitude\": -86.79057}, \"transactions\": [\"delivery\"], \"price\": \"$$\", \"location\": {\"address1\": \"2901 12th Ave S\", \"address2\": \"\", \"address3\": \"\", \"city\": \"Nashville\", \"zip_code\": \"37212\", \"country\": \"US\", \"state\": \"TN\", \"display_address\": [\"2901 12th Ave S\", \"Nashville, TN 37212\"]}, \"phone\": \"+16152793767\", \"display_phone\": \"(615) 279-3767\", \"distance\": 2241.571747676826}, {\"id\": \"YV83252nBml7BmQLdAniYg\", \"alias\": \"lockeland-table-nashville\", \"name\": \"Lockeland Table\", \"image_url\": \"https://s3-media2.fl.yelpcdn.com/bphoto/0RXDG_jDrKQMWpnmi1p8fQ/o.jpg\", \"is_closed\": false, \"url\": \"https://www.yelp.com/biz/lockeland-table-nashville?adjust_creative=vzMDis5BrNmM2sntvA6iLQ&utm_campaign=yelp_api_v3&utm_medium=api_v3_business_search&utm_source=vzMDis5BrNmM2sntvA6iLQ\", \"review_count\": 506, \"categories\": [{\"alias\": \"newamerican\", \"title\": \"American (New)\"}], \"rating\": 4.5, \"coordinates\": {\"latitude\": 36.1767768859863, \"longitude\": -86.7420883178711}, \"transactions\": [\"delivery\"], \"price\": \"$$\", \"location\": {\"address1\": \"1520 Woodland St\", \"address2\": \"\", \"address3\": \"\", \"city\": \"Nashville\", \"zip_code\": \"37206\", \"country\": \"US\", \"state\": \"TN\", \"display_address\": [\"1520 Woodland St\", \"Nashville, TN 37206\"]}, \"phone\": \"+16152284864\", \"display_phone\": \"(615) 228-4864\", \"distance\": 5280.784620680541}, {\"id\": \"wP2ok4O0GsR9td7Iiv1zKA\", \"alias\": \"subculture-urban-cuisine-and-cafe-nashville-4\", \"name\": \"Subculture Urban Cuisine And Cafe\", \"image_url\": \"https://s3-media1.fl.yelpcdn.com/bphoto/wO8BKrMFkt7zlfEXWLT9YA/o.jpg\", \"is_closed\": false, \"url\": \"https://www.yelp.com/biz/subculture-urban-cuisine-and-cafe-nashville-4?adjust_creative=vzMDis5BrNmM2sntvA6iLQ&utm_campaign=yelp_api_v3&utm_medium=api_v3_business_search&utm_source=vzMDis5BrNmM2sntvA6iLQ\", \"review_count\": 326, \"categories\": [{\"alias\": \"sandwiches\", \"title\": \"Sandwiches\"}, {\"alias\": \"newamerican\", \"title\": \"American (New)\"}, {\"alias\": \"beerbar\", \"title\": \"Beer Bar\"}], \"rating\": 4.5, \"coordinates\": {\"latitude\": 36.0477024018988, \"longitude\": -86.7149514342108}, \"transactions\": [\"delivery\", \"pickup\"], \"price\": \"$$\", \"location\": {\"address1\": \"5737 Nolensville Pike\", \"address2\": null, \"address3\": \"\", \"city\": \"Nashville\", \"zip_code\": \"37211\", \"country\": \"US\", \"state\": \"TN\", \"display_address\": [\"5737 Nolensville Pike\", \"Nashville, TN 37211\"]}, \"phone\": \"+16159551223\", \"display_phone\": \"(615) 955-1223\", \"distance\": 11390.89834948115}, {\"id\": \"vwrdjcP5pAhpANbSPEzAmw\", \"alias\": \"grillshack-fries-and-burgers-east-nashville-nashville\", \"name\": \"Grillshack Fries and Burgers - East Nashville\", \"image_url\": \"https://s3-media2.fl.yelpcdn.com/bphoto/1hmKNmfBMuPn1CgSa9XidA/o.jpg\", \"is_closed\": false, \"url\": \"https://www.yelp.com/biz/grillshack-fries-and-burgers-east-nashville-nashville?adjust_creative=vzMDis5BrNmM2sntvA6iLQ&utm_campaign=yelp_api_v3&utm_medium=api_v3_business_search&utm_source=vzMDis5BrNmM2sntvA6iLQ\", \"review_count\": 321, \"categories\": [{\"alias\": \"burgers\", \"title\": \"Burgers\"}, {\"alias\": \"breakfast_brunch\", \"title\": \"Breakfast & Brunch\"}, {\"alias\": \"chicken_wings\", \"title\": \"Chicken Wings\"}], \"rating\": 4.5, \"coordinates\": {\"latitude\": 36.1868887671046, \"longitude\": -86.7264403866297}, \"transactions\": [\"delivery\"], \"price\": \"$\", \"location\": {\"address1\": \"1000 Riverside Dr\", \"address2\": \"\", \"address3\": \"\", \"city\": \"Nashville\", \"zip_code\": \"37206\", \"country\": \"US\", \"state\": \"TN\", \"display_address\": [\"1000 Riverside Dr\", \"Nashville, TN 37206\"]}, \"phone\": \"+16158734402\", \"display_phone\": \"(615) 873-4402\", \"distance\": 7023.181514054164}, {\"id\": \"yE1raqkLX7OZsjmX3qKIKg\", \"alias\": \"butcher-and-bee-nashville\", \"name\": \"Butcher & Bee\", \"image_url\": \"https://s3-media2.fl.yelpcdn.com/bphoto/FWChDdiVFyp8XdvvDBEyAg/o.jpg\", \"is_closed\": false, \"url\": \"https://www.yelp.com/biz/butcher-and-bee-nashville?adjust_creative=vzMDis5BrNmM2sntvA6iLQ&utm_campaign=yelp_api_v3&utm_medium=api_v3_business_search&utm_source=vzMDis5BrNmM2sntvA6iLQ\", \"review_count\": 764, \"categories\": [{\"alias\": \"newamerican\", \"title\": \"American (New)\"}, {\"alias\": \"southern\", \"title\": \"Southern\"}, {\"alias\": \"mideastern\", \"title\": \"Middle Eastern\"}], \"rating\": 4.0, \"coordinates\": {\"latitude\": 36.1759081, \"longitude\": -86.7569761}, \"transactions\": [\"delivery\"], \"price\": \"$$\", \"location\": {\"address1\": \"902 Main St\", \"address2\": \"\", \"address3\": \"\", \"city\": \"Nashville\", \"zip_code\": \"37206\", \"country\": \"US\", \"state\": \"TN\", \"display_address\": [\"902 Main St\", \"Nashville, TN 37206\"]}, \"phone\": \"+16152263322\", \"display_phone\": \"(615) 226-3322\", \"distance\": 4566.873088837054}, {\"id\": \"8jwsNjvVNJiYN7AnxHdMLA\", \"alias\": \"yeast-nashville-nashville\", \"name\": \"Yeast Nashville\", \"image_url\": \"https://s3-media2.fl.yelpcdn.com/bphoto/UkqhtPSBtp4eccwCLeJATQ/o.jpg\", \"is_closed\": false, \"url\": \"https://www.yelp.com/biz/yeast-nashville-nashville?adjust_creative=vzMDis5BrNmM2sntvA6iLQ&utm_campaign=yelp_api_v3&utm_medium=api_v3_business_search&utm_source=vzMDis5BrNmM2sntvA6iLQ\", \"review_count\": 364, \"categories\": [{\"alias\": \"bakeries\", \"title\": \"Bakeries\"}, {\"alias\": \"coffee\", \"title\": \"Coffee & Tea\"}, {\"alias\": \"breakfast_brunch\", \"title\": \"Breakfast & Brunch\"}], \"rating\": 4.5, \"coordinates\": {\"latitude\": 36.174365, \"longitude\": -86.7584621}, \"transactions\": [\"delivery\"], \"price\": \"$\", \"location\": {\"address1\": \"805 Woodland St\", \"address2\": \"Ste 300\", \"address3\": \"\", \"city\": \"Nashville\", \"zip_code\": \"37206\", \"country\": \"US\", \"state\": \"TN\", \"display_address\": [\"805 Woodland St\", \"Ste 300\", \"Nashville, TN 37206\"]}, \"phone\": \"+16156784592\", \"display_phone\": \"(615) 678-4592\", \"distance\": 4404.6853552916855}, {\"id\": \"QRzaTTTE7QrqjW2GOQIrtA\", \"alias\": \"vege-licious-nashville\", \"name\": \"Vege-licious\", \"image_url\": \"https://s3-media2.fl.yelpcdn.com/bphoto/7wOCNclol5LRK72aS3vxXg/o.jpg\", \"is_closed\": false, \"url\": \"https://www.yelp.com/biz/vege-licious-nashville?adjust_creative=vzMDis5BrNmM2sntvA6iLQ&utm_campaign=yelp_api_v3&utm_medium=api_v3_business_search&utm_source=vzMDis5BrNmM2sntvA6iLQ\", \"review_count\": 268, \"categories\": [{\"alias\": \"vegan\", \"title\": \"Vegan\"}, {\"alias\": \"vegetarian\", \"title\": \"Vegetarian\"}, {\"alias\": \"breakfast_brunch\", \"title\": \"Breakfast & Brunch\"}], \"rating\": 4.5, \"coordinates\": {\"latitude\": 36.160499, \"longitude\": -86.800702}, \"transactions\": [\"delivery\", \"pickup\"], \"price\": \"$$\", \"location\": {\"address1\": \"513B Fisk St\", \"address2\": null, \"address3\": \"\", \"city\": \"Nashville\", \"zip_code\": \"37203\", \"country\": \"US\", \"state\": \"TN\", \"display_address\": [\"513B Fisk St\", \"Nashville, TN 37203\"]}, \"phone\": \"+16159426978\", \"display_phone\": \"(615) 942-6978\", \"distance\": 3397.513500988304}, {\"id\": \"dNFGbezaxeBR71BdpspKqQ\", \"alias\": \"proper-bagel-nashville\", \"name\": \"Proper Bagel\", \"image_url\": \"https://s3-media4.fl.yelpcdn.com/bphoto/YK1lQZUTB4CmHJgfTX2GuQ/o.jpg\", \"is_closed\": false, \"url\": \"https://www.yelp.com/biz/proper-bagel-nashville?adjust_creative=vzMDis5BrNmM2sntvA6iLQ&utm_campaign=yelp_api_v3&utm_medium=api_v3_business_search&utm_source=vzMDis5BrNmM2sntvA6iLQ\", \"review_count\": 444, \"categories\": [{\"alias\": \"bagels\", \"title\": \"Bagels\"}, {\"alias\": \"breakfast_brunch\", \"title\": \"Breakfast & Brunch\"}, {\"alias\": \"delis\", \"title\": \"Delis\"}], \"rating\": 4.5, \"coordinates\": {\"latitude\": 36.13187, \"longitude\": -86.7958699}, \"transactions\": [\"delivery\"], \"price\": \"$$\", \"location\": {\"address1\": \"2011 Belmont Blvd\", \"address2\": \"\", \"address3\": \"\", \"city\": \"Nashville\", \"zip_code\": \"37212\", \"country\": \"US\", \"state\": \"TN\", \"display_address\": [\"2011 Belmont Blvd\", \"Nashville, TN 37212\"]}, \"phone\": \"+16159287276\", \"display_phone\": \"(615) 928-7276\", \"distance\": 1936.9409654254675}, {\"id\": \"d4ZPdoYxDnT6f70AZPGrcw\", \"alias\": \"sky-blue-cafe-nashville\", \"name\": \"Sky Blue Cafe\", \"image_url\": \"https://s3-media3.fl.yelpcdn.com/bphoto/IawhIw77bhtE0LWHZtplow/o.jpg\", \"is_closed\": false, \"url\": \"https://www.yelp.com/biz/sky-blue-cafe-nashville?adjust_creative=vzMDis5BrNmM2sntvA6iLQ&utm_campaign=yelp_api_v3&utm_medium=api_v3_business_search&utm_source=vzMDis5BrNmM2sntvA6iLQ\", \"review_count\": 790, \"categories\": [{\"alias\": \"coffee\", \"title\": \"Coffee & Tea\"}, {\"alias\": \"tradamerican\", \"title\": \"American (Traditional)\"}, {\"alias\": \"breakfast_brunch\", \"title\": \"Breakfast & Brunch\"}], \"rating\": 4.0, \"coordinates\": {\"latitude\": 36.1713600158691, \"longitude\": -86.7588958740234}, \"transactions\": [\"delivery\"], \"price\": \"$$\", \"location\": {\"address1\": \"700 Fatherland St\", \"address2\": \"\", \"address3\": \"\", \"city\": \"Nashville\", \"zip_code\": \"37206\", \"country\": \"US\", \"state\": \"TN\", \"display_address\": [\"700 Fatherland St\", \"Nashville, TN 37206\"]}, \"phone\": \"+16157707097\", \"display_phone\": \"(615) 770-7097\", \"distance\": 4035.099196506927}, {\"id\": \"w520vYWEpEYBf90rSr9NVA\", \"alias\": \"the-smiling-elephant-nashville\", \"name\": \"The Smiling Elephant\", \"image_url\": \"https://s3-media2.fl.yelpcdn.com/bphoto/_nYUA8CFOfWhmr3t0L79fA/o.jpg\", \"is_closed\": false, \"url\": \"https://www.yelp.com/biz/the-smiling-elephant-nashville?adjust_creative=vzMDis5BrNmM2sntvA6iLQ&utm_campaign=yelp_api_v3&utm_medium=api_v3_business_search&utm_source=vzMDis5BrNmM2sntvA6iLQ\", \"review_count\": 559, \"categories\": [{\"alias\": \"thai\", \"title\": \"Thai\"}, {\"alias\": \"chinese\", \"title\": \"Chinese\"}, {\"alias\": \"seafood\", \"title\": \"Seafood\"}], \"rating\": 4.0, \"coordinates\": {\"latitude\": 36.12933, \"longitude\": -86.77861}, \"transactions\": [\"delivery\"], \"price\": \"$$\", \"location\": {\"address1\": \"2213 8th Ave S\", \"address2\": \"\", \"address3\": \"\", \"city\": \"Nashville\", \"zip_code\": \"37204\", \"country\": \"US\", \"state\": \"TN\", \"display_address\": [\"2213 8th Ave S\", \"Nashville, TN 37204\"]}, \"phone\": \"+16158914488\", \"display_phone\": \"(615) 891-4488\", \"distance\": 957.6665509984907}, {\"id\": \"t-RHwZzlTAZeTcgrrbRtqg\", \"alias\": \"the-grilled-cheeserie-nashville-6\", \"name\": \"The Grilled Cheeserie\", \"image_url\": \"https://s3-media3.fl.yelpcdn.com/bphoto/4Z49DU0XrrVIrmKJWzNR8A/o.jpg\", \"is_closed\": false, \"url\": \"https://www.yelp.com/biz/the-grilled-cheeserie-nashville-6?adjust_creative=vzMDis5BrNmM2sntvA6iLQ&utm_campaign=yelp_api_v3&utm_medium=api_v3_business_search&utm_source=vzMDis5BrNmM2sntvA6iLQ\", \"review_count\": 513, \"categories\": [{\"alias\": \"sandwiches\", \"title\": \"Sandwiches\"}, {\"alias\": \"foodtrucks\", \"title\": \"Food Trucks\"}, {\"alias\": \"cheese\", \"title\": \"Cheese Shops\"}], \"rating\": 4.0, \"coordinates\": {\"latitude\": 36.136726176345, \"longitude\": -86.7996668485396}, \"transactions\": [\"delivery\", \"pickup\"], \"price\": \"$$\", \"location\": {\"address1\": \"2003 Belcourt Ave\", \"address2\": \"\", \"address3\": \"\", \"city\": \"Nashville\", \"zip_code\": \"37212\", \"country\": \"US\", \"state\": \"TN\", \"display_address\": [\"2003 Belcourt Ave\", \"Nashville, TN 37212\"]}, \"phone\": \"+16152030351\", \"display_phone\": \"(615) 203-0351\", \"distance\": 2186.276308971196}, {\"id\": \"5eayf0Y0TY1ufCWXAk_a3Q\", \"alias\": \"baja-burrito-nashville-2\", \"name\": \"Baja Burrito\", \"image_url\": \"https://s3-media4.fl.yelpcdn.com/bphoto/FFaGyB_WLoddyegPyefMkw/o.jpg\", \"is_closed\": false, \"url\": \"https://www.yelp.com/biz/baja-burrito-nashville-2?adjust_creative=vzMDis5BrNmM2sntvA6iLQ&utm_campaign=yelp_api_v3&utm_medium=api_v3_business_search&utm_source=vzMDis5BrNmM2sntvA6iLQ\", \"review_count\": 431, \"categories\": [{\"alias\": \"mexican\", \"title\": \"Mexican\"}], \"rating\": 4.5, \"coordinates\": {\"latitude\": 36.11248, \"longitude\": -86.76611}, \"transactions\": [\"delivery\"], \"price\": \"$\", \"location\": {\"address1\": \"722 Thompson Ln\", \"address2\": \"\", \"address3\": null, \"city\": \"Nashville\", \"zip_code\": \"37217\", \"country\": \"US\", \"state\": \"TN\", \"display_address\": [\"722 Thompson Ln\", \"Nashville, TN 37217\"]}, \"phone\": \"+16153832252\", \"display_phone\": \"(615) 383-2252\", \"distance\": 2924.5281214841475}, {\"id\": \"8C-G2bwZJLyThpUL5hzg9w\", \"alias\": \"epice-nashville\", \"name\": \"Epice\", \"image_url\": \"https://s3-media2.fl.yelpcdn.com/bphoto/JPDW_HQWC8Tz77bdP_Tz0g/o.jpg\", \"is_closed\": false, \"url\": \"https://www.yelp.com/biz/epice-nashville?adjust_creative=vzMDis5BrNmM2sntvA6iLQ&utm_campaign=yelp_api_v3&utm_medium=api_v3_business_search&utm_source=vzMDis5BrNmM2sntvA6iLQ\", \"review_count\": 380, \"categories\": [{\"alias\": \"lebanese\", \"title\": \"Lebanese\"}], \"rating\": 4.5, \"coordinates\": {\"latitude\": 36.1212469, \"longitude\": -86.790155}, \"transactions\": [\"delivery\"], \"price\": \"$$\", \"location\": {\"address1\": \"2902 12th Ave S\", \"address2\": \"\", \"address3\": \"\", \"city\": \"Nashville\", \"zip_code\": \"37204\", \"country\": \"US\", \"state\": \"TN\", \"display_address\": [\"2902 12th Ave S\", \"Nashville, TN 37204\"]}, \"phone\": \"+16157206765\", \"display_phone\": \"(615) 720-6765\", \"distance\": 2252.934169309272}, {\"id\": \"vC2Yt0Cdm5x0K-a78vQU8g\", \"alias\": \"jeff-rubys-steakhouse-nashville-nashville\", \"name\": \"Jeff Ruby\\'s Steakhouse- Nashville\", \"image_url\": \"https://s3-media4.fl.yelpcdn.com/bphoto/d-cYszh9KUJFT3cTRk_jMw/o.jpg\", \"is_closed\": false, \"url\": \"https://www.yelp.com/biz/jeff-rubys-steakhouse-nashville-nashville?adjust_creative=vzMDis5BrNmM2sntvA6iLQ&utm_campaign=yelp_api_v3&utm_medium=api_v3_business_search&utm_source=vzMDis5BrNmM2sntvA6iLQ\", \"review_count\": 351, \"categories\": [{\"alias\": \"seafood\", \"title\": \"Seafood\"}, {\"alias\": \"steak\", \"title\": \"Steakhouses\"}, {\"alias\": \"sushi\", \"title\": \"Sushi Bars\"}], \"rating\": 4.5, \"coordinates\": {\"latitude\": 36.165389, \"longitude\": -86.779405}, \"transactions\": [\"delivery\"], \"price\": \"$$$\", \"location\": {\"address1\": \"300 4th Ave N\", \"address2\": null, \"address3\": \"\", \"city\": \"Nashville\", \"zip_code\": \"37219\", \"country\": \"US\", \"state\": \"TN\", \"display_address\": [\"300 4th Ave N\", \"Nashville, TN 37219\"]}, \"phone\": \"+16154344300\", \"display_phone\": \"(615) 434-4300\", \"distance\": 3098.824601105331}, {\"id\": \"w1rUV5W_TJ0M0MRwwrseWQ\", \"alias\": \"the-southern-v-nashville\", \"name\": \"The Southern V\", \"image_url\": \"https://s3-media3.fl.yelpcdn.com/bphoto/fpOecWj_hN1wiC-YDrO9fQ/o.jpg\", \"is_closed\": false, \"url\": \"https://www.yelp.com/biz/the-southern-v-nashville?adjust_creative=vzMDis5BrNmM2sntvA6iLQ&utm_campaign=yelp_api_v3&utm_medium=api_v3_business_search&utm_source=vzMDis5BrNmM2sntvA6iLQ\", \"review_count\": 229, \"categories\": [{\"alias\": \"vegan\", \"title\": \"Vegan\"}, {\"alias\": \"southern\", \"title\": \"Southern\"}, {\"alias\": \"vegetarian\", \"title\": \"Vegetarian\"}], \"rating\": 4.5, \"coordinates\": {\"latitude\": 36.1804356, \"longitude\": -86.8070067}, \"transactions\": [\"delivery\"], \"price\": \"$$\", \"location\": {\"address1\": \"1200 Buchanan St\", \"address2\": null, \"address3\": \"\", \"city\": \"Nashville\", \"zip_code\": \"37208\", \"country\": \"US\", \"state\": \"TN\", \"display_address\": [\"1200 Buchanan St\", \"Nashville, TN 37208\"]}, \"phone\": \"+16158028136\", \"display_phone\": \"(615) 802-8136\", \"distance\": 5529.680198215533}, {\"id\": \"5DJ2sDvM_XRndlB24DnxYw\", \"alias\": \"adeles-nashville-7\", \"name\": \"Adele\\'s\", \"image_url\": \"https://s3-media3.fl.yelpcdn.com/bphoto/3nt_vTqCB2BgLaw16xfKnQ/o.jpg\", \"is_closed\": false, \"url\": \"https://www.yelp.com/biz/adeles-nashville-7?adjust_creative=vzMDis5BrNmM2sntvA6iLQ&utm_campaign=yelp_api_v3&utm_medium=api_v3_business_search&utm_source=vzMDis5BrNmM2sntvA6iLQ\", \"review_count\": 731, \"categories\": [{\"alias\": \"newamerican\", \"title\": \"American (New)\"}, {\"alias\": \"italian\", \"title\": \"Italian\"}, {\"alias\": \"breakfast_brunch\", \"title\": \"Breakfast & Brunch\"}], \"rating\": 4.0, \"coordinates\": {\"latitude\": 36.1556871024354, \"longitude\": -86.7876210785389}, \"transactions\": [\"delivery\", \"pickup\"], \"price\": \"$$\", \"location\": {\"address1\": \"1210 McGavock St\", \"address2\": \"\", \"address3\": \"\", \"city\": \"Nashville\", \"zip_code\": \"37203\", \"country\": \"US\", \"state\": \"TN\", \"display_address\": [\"1210 McGavock St\", \"Nashville, TN 37203\"]}, \"phone\": \"+16159889700\", \"display_phone\": \"(615) 988-9700\", \"distance\": 2276.6361026526306}, {\"id\": \"DOoJrrsqGzZN2FqzvllKnQ\", \"alias\": \"taco-mamacita-nashville\", \"name\": \"Taco Mamacita\", \"image_url\": \"https://s3-media3.fl.yelpcdn.com/bphoto/DsJ4uLC5ScOdHlmXZaP4bA/o.jpg\", \"is_closed\": false, \"url\": \"https://www.yelp.com/biz/taco-mamacita-nashville?adjust_creative=vzMDis5BrNmM2sntvA6iLQ&utm_campaign=yelp_api_v3&utm_medium=api_v3_business_search&utm_source=vzMDis5BrNmM2sntvA6iLQ\", \"review_count\": 784, \"categories\": [{\"alias\": \"tacos\", \"title\": \"Tacos\"}], \"rating\": 4.0, \"coordinates\": {\"latitude\": 36.142981, \"longitude\": -86.791603}, \"transactions\": [\"delivery\"], \"price\": \"$$\", \"location\": {\"address1\": \"1200 Villa Pl\", \"address2\": \"\", \"address3\": \"\", \"city\": \"Nashville\", \"zip_code\": \"37212\", \"country\": \"US\", \"state\": \"TN\", \"display_address\": [\"1200 Villa Pl\", \"Nashville, TN 37212\"]}, \"phone\": \"+16157308552\", \"display_phone\": \"(615) 730-8552\", \"distance\": 1559.7171552622744}, {\"id\": \"z2FRDJSxRR3mmC9syR25xA\", \"alias\": \"the-parthenon-nashville\", \"name\": \"The Parthenon\", \"image_url\": \"https://s3-media2.fl.yelpcdn.com/bphoto/juyVpfGYbyfqXlwhrXA7GQ/o.jpg\", \"is_closed\": false, \"url\": \"https://www.yelp.com/biz/the-parthenon-nashville?adjust_creative=vzMDis5BrNmM2sntvA6iLQ&utm_campaign=yelp_api_v3&utm_medium=api_v3_business_search&utm_source=vzMDis5BrNmM2sntvA6iLQ\", \"review_count\": 420, \"categories\": [{\"alias\": \"landmarks\", \"title\": \"Landmarks & Historical Buildings\"}, {\"alias\": \"artmuseums\", \"title\": \"Art Museums\"}], \"rating\": 4.0, \"coordinates\": {\"latitude\": 36.14943, \"longitude\": -86.81293}, \"transactions\": [], \"location\": {\"address1\": \"2500 West End Ave\", \"address2\": \"\", \"address3\": \"Centennial Park\", \"city\": \"Nashville\", \"zip_code\": \"37203\", \"country\": \"US\", \"state\": \"TN\", \"display_address\": [\"2500 West End Ave\", \"Centennial Park\", \"Nashville, TN 37203\"]}, \"phone\": \"+16158628431\", \"display_phone\": \"(615) 862-8431\", \"distance\": 3594.6539028904203}, {\"id\": \"mnwTbHyIgpMvOG9705zqWA\", \"alias\": \"country-music-hall-of-fame-and-museum-nashville-3\", \"name\": \"Country Music Hall of Fame and Museum\", \"image_url\": \"https://s3-media1.fl.yelpcdn.com/bphoto/tu_EGBdIFxUbNnKFDrVNJg/o.jpg\", \"is_closed\": false, \"url\": \"https://www.yelp.com/biz/country-music-hall-of-fame-and-museum-nashville-3?adjust_creative=vzMDis5BrNmM2sntvA6iLQ&utm_campaign=yelp_api_v3&utm_medium=api_v3_business_search&utm_source=vzMDis5BrNmM2sntvA6iLQ\", \"review_count\": 616, \"categories\": [{\"alias\": \"museums\", \"title\": \"Museums\"}], \"rating\": 4.0, \"coordinates\": {\"latitude\": 36.158266, \"longitude\": -86.776126}, \"transactions\": [], \"location\": {\"address1\": \"222 5th Ave S\", \"address2\": \"\", \"address3\": \"\", \"city\": \"Nashville\", \"zip_code\": \"37203\", \"country\": \"US\", \"state\": \"TN\", \"display_address\": [\"222 5th Ave S\", \"Nashville, TN 37203\"]}, \"phone\": \"+16154162001\", \"display_phone\": \"(615) 416-2001\", \"distance\": 2287.6779081963846}, {\"id\": \"jSYu2apG1uYq3eNzSA-OHw\", \"alias\": \"johnny-cash-museum-nashville-4\", \"name\": \"Johnny Cash Museum and Bongo Java Cafe\", \"image_url\": \"https://s3-media4.fl.yelpcdn.com/bphoto/y1qZKQFLuj7eQVcyFiU4kw/o.jpg\", \"is_closed\": false, \"url\": \"https://www.yelp.com/biz/johnny-cash-museum-nashville-4?adjust_creative=vzMDis5BrNmM2sntvA6iLQ&utm_campaign=yelp_api_v3&utm_medium=api_v3_business_search&utm_source=vzMDis5BrNmM2sntvA6iLQ\", \"review_count\": 383, \"categories\": [{\"alias\": \"museums\", \"title\": \"Museums\"}], \"rating\": 4.0, \"coordinates\": {\"latitude\": 36.1608, \"longitude\": -86.7759}, \"transactions\": [], \"location\": {\"address1\": \"119 3rd Ave S\", \"address2\": \"\", \"address3\": \"\", \"city\": \"Nashville\", \"zip_code\": \"37201\", \"country\": \"US\", \"state\": \"TN\", \"display_address\": [\"119 3rd Ave S\", \"Nashville, TN 37201\"]}, \"phone\": \"+16152561777\", \"display_phone\": \"(615) 256-1777\", \"distance\": 2569.0180282814845}, {\"id\": \"nYuwfmjaYdeJgZU_Q_ugaA\", \"alias\": \"bangkokville-thai-cuisine-nashville-2\", \"name\": \"Bangkokville Thai Cuisine\", \"image_url\": \"https://s3-media4.fl.yelpcdn.com/bphoto/FYef8lFRSyiluyF_ubhjOg/o.jpg\", \"is_closed\": false, \"url\": \"https://www.yelp.com/biz/bangkokville-thai-cuisine-nashville-2?adjust_creative=vzMDis5BrNmM2sntvA6iLQ&utm_campaign=yelp_api_v3&utm_medium=api_v3_business_search&utm_source=vzMDis5BrNmM2sntvA6iLQ\", \"review_count\": 306, \"categories\": [{\"alias\": \"thai\", \"title\": \"Thai\"}], \"rating\": 4.5, \"coordinates\": {\"latitude\": 36.0684127807617, \"longitude\": -86.7179489135742}, \"transactions\": [\"delivery\", \"pickup\"], \"price\": \"$$\", \"location\": {\"address1\": \"395 Haywood Ln\", \"address2\": null, \"address3\": \"\", \"city\": \"Nashville\", \"zip_code\": \"37211\", \"country\": \"US\", \"state\": \"TN\", \"display_address\": [\"395 Haywood Ln\", \"Nashville, TN 37211\"]}, \"phone\": \"+16158349250\", \"display_phone\": \"(615) 834-9250\", \"distance\": 9274.696334193495}, {\"id\": \"MXTV7gLn1GcgBIskfIXwMg\", \"alias\": \"sedona-taphouse-nashville-2\", \"name\": \"Sedona Taphouse\", \"image_url\": \"https://s3-media2.fl.yelpcdn.com/bphoto/SEhp6efaST4_95WccLRxBw/o.jpg\", \"is_closed\": false, \"url\": \"https://www.yelp.com/biz/sedona-taphouse-nashville-2?adjust_creative=vzMDis5BrNmM2sntvA6iLQ&utm_campaign=yelp_api_v3&utm_medium=api_v3_business_search&utm_source=vzMDis5BrNmM2sntvA6iLQ\", \"review_count\": 322, \"categories\": [{\"alias\": \"newamerican\", \"title\": \"American (New)\"}, {\"alias\": \"beer_and_wine\", \"title\": \"Beer, Wine & Spirits\"}], \"rating\": 4.5, \"coordinates\": {\"latitude\": 36.1757655, \"longitude\": -86.7847052}, \"transactions\": [\"delivery\"], \"price\": \"$$\", \"location\": {\"address1\": \"1120 3rd Ave N\", \"address2\": \"\", \"address3\": null, \"city\": \"Nashville\", \"zip_code\": \"37208\", \"country\": \"US\", \"state\": \"TN\", \"display_address\": [\"1120 3rd Ave N\", \"Nashville, TN 37208\"]}, \"phone\": \"+16159334260\", \"display_phone\": \"(615) 933-4260\", \"distance\": 4312.57359058168}, {\"id\": \"v63vLjagqV609L5NweBJ6w\", \"alias\": \"merengue-cafe-nashville\", \"name\": \"Merengue Cafe\", \"image_url\": \"https://s3-media3.fl.yelpcdn.com/bphoto/4npDZAKJm7UcMfdvOHvcKg/o.jpg\", \"is_closed\": false, \"url\": \"https://www.yelp.com/biz/merengue-cafe-nashville?adjust_creative=vzMDis5BrNmM2sntvA6iLQ&utm_campaign=yelp_api_v3&utm_medium=api_v3_business_search&utm_source=vzMDis5BrNmM2sntvA6iLQ\", \"review_count\": 206, \"categories\": [{\"alias\": \"dominican\", \"title\": \"Dominican\"}, {\"alias\": \"puertorican\", \"title\": \"Puerto Rican\"}, {\"alias\": \"cuban\", \"title\": \"Cuban\"}], \"rating\": 4.5, \"coordinates\": {\"latitude\": 36.1134892578468, \"longitude\": -86.768437418801}, \"transactions\": [\"delivery\", \"pickup\"], \"price\": \"$$\", \"location\": {\"address1\": \"654 W Iris Dr\", \"address2\": \"\", \"address3\": null, \"city\": \"Nashville\", \"zip_code\": \"37204\", \"country\": \"US\", \"state\": \"TN\", \"display_address\": [\"654 W Iris Dr\", \"Nashville, TN 37204\"]}, \"phone\": \"+16159153642\", \"display_phone\": \"(615) 915-3642\", \"distance\": 2765.914436232924}, {\"id\": \"XnbuS6ieFxsDSH9go88juw\", \"alias\": \"the-donut-dog-nashville\", \"name\": \"The Donut + Dog\", \"image_url\": \"https://s3-media1.fl.yelpcdn.com/bphoto/J6ZFMc_MLOWONGqgQ46Vsw/o.jpg\", \"is_closed\": false, \"url\": \"https://www.yelp.com/biz/the-donut-dog-nashville?adjust_creative=vzMDis5BrNmM2sntvA6iLQ&utm_campaign=yelp_api_v3&utm_medium=api_v3_business_search&utm_source=vzMDis5BrNmM2sntvA6iLQ\", \"review_count\": 244, \"categories\": [{\"alias\": \"donuts\", \"title\": \"Donuts\"}, {\"alias\": \"hotdog\", \"title\": \"Hot Dogs\"}, {\"alias\": \"coffee\", \"title\": \"Coffee & Tea\"}], \"rating\": 4.5, \"coordinates\": {\"latitude\": 36.13658, \"longitude\": -86.8032}, \"transactions\": [\"delivery\", \"pickup\"], \"price\": \"$$\", \"location\": {\"address1\": \"2127 Belcourt Ave\", \"address2\": null, \"address3\": \"\", \"city\": \"Nashville\", \"zip_code\": \"37212\", \"country\": \"US\", \"state\": \"TN\", \"display_address\": [\"2127 Belcourt Ave\", \"Nashville, TN 37212\"]}, \"phone\": \"+16154571476\", \"display_phone\": \"(615) 457-1476\", \"distance\": 2492.714154928585}, {\"id\": \"CBo-YlPMKs3vdYJQRtuznQ\", \"alias\": \"monells-at-the-manor-nashville-2\", \"name\": \"Monell\\'s at the Manor\", \"image_url\": \"https://s3-media3.fl.yelpcdn.com/bphoto/PnW1dgHoC4sV_rNJKrZuZQ/o.jpg\", \"is_closed\": false, \"url\": \"https://www.yelp.com/biz/monells-at-the-manor-nashville-2?adjust_creative=vzMDis5BrNmM2sntvA6iLQ&utm_campaign=yelp_api_v3&utm_medium=api_v3_business_search&utm_source=vzMDis5BrNmM2sntvA6iLQ\", \"review_count\": 435, \"categories\": [{\"alias\": \"southern\", \"title\": \"Southern\"}, {\"alias\": \"soulfood\", \"title\": \"Soul Food\"}, {\"alias\": \"breakfast_brunch\", \"title\": \"Breakfast & Brunch\"}], \"rating\": 4.5, \"coordinates\": {\"latitude\": 36.115335, \"longitude\": -86.690199}, \"transactions\": [], \"price\": \"$$\", \"location\": {\"address1\": \"1400 Murfreesboro Pike\", \"address2\": \"\", \"address3\": \"\", \"city\": \"Nashville\", \"zip_code\": \"37217\", \"country\": \"US\", \"state\": \"TN\", \"display_address\": [\"1400 Murfreesboro Pike\", \"Nashville, TN 37217\"]}, \"phone\": \"+16153651414\", \"display_phone\": \"(615) 365-1414\", \"distance\": 8055.766356714652}, {\"id\": \"OJEiB_a2I_gxC-ZeayI94A\", \"alias\": \"another-broken-egg-cafe-nashville\", \"name\": \"Another Broken Egg Cafe\", \"image_url\": \"https://s3-media4.fl.yelpcdn.com/bphoto/-BZ_6Zjj6oBpTdxb_BNqxw/o.jpg\", \"is_closed\": false, \"url\": \"https://www.yelp.com/biz/another-broken-egg-cafe-nashville?adjust_creative=vzMDis5BrNmM2sntvA6iLQ&utm_campaign=yelp_api_v3&utm_medium=api_v3_business_search&utm_source=vzMDis5BrNmM2sntvA6iLQ\", \"review_count\": 667, \"categories\": [{\"alias\": \"breakfast_brunch\", \"title\": \"Breakfast & Brunch\"}, {\"alias\": \"cafes\", \"title\": \"Cafes\"}, {\"alias\": \"tradamerican\", \"title\": \"American (Traditional)\"}], \"rating\": 4.0, \"coordinates\": {\"latitude\": 36.1632843, \"longitude\": -86.7762604}, \"transactions\": [\"delivery\"], \"price\": \"$$\", \"location\": {\"address1\": \"208 Commerce St\", \"address2\": null, \"address3\": null, \"city\": \"Nashville\", \"zip_code\": \"37201\", \"country\": \"US\", \"state\": \"TN\", \"display_address\": [\"208 Commerce St\", \"Nashville, TN 37201\"]}, \"phone\": \"+16159133923\", \"display_phone\": \"(615) 913-3923\", \"distance\": 2850.7430551040325}, {\"id\": \"avivi8rQFEaR9iH_CZ1iBA\", \"alias\": \"henrietta-red-nashville\", \"name\": \"Henrietta Red\", \"image_url\": \"https://s3-media4.fl.yelpcdn.com/bphoto/8gbaZCk7rcUZzeKphq6ebQ/o.jpg\", \"is_closed\": false, \"url\": \"https://www.yelp.com/biz/henrietta-red-nashville?adjust_creative=vzMDis5BrNmM2sntvA6iLQ&utm_campaign=yelp_api_v3&utm_medium=api_v3_business_search&utm_source=vzMDis5BrNmM2sntvA6iLQ\", \"review_count\": 352, \"categories\": [{\"alias\": \"newamerican\", \"title\": \"American (New)\"}, {\"alias\": \"seafood\", \"title\": \"Seafood\"}, {\"alias\": \"bars\", \"title\": \"Bars\"}], \"rating\": 4.5, \"coordinates\": {\"latitude\": 36.17604, \"longitude\": -86.78677}, \"transactions\": [], \"price\": \"$$$\", \"location\": {\"address1\": \"1200 4th Ave N\", \"address2\": \"\", \"address3\": \"\", \"city\": \"Nashville\", \"zip_code\": \"37208\", \"country\": \"US\", \"state\": \"TN\", \"display_address\": [\"1200 4th Ave N\", \"Nashville, TN 37208\"]}, \"phone\": \"+16154908042\", \"display_phone\": \"(615) 490-8042\", \"distance\": 4382.778121450303}, {\"id\": \"15c8IT8faI1-Qz4V-1lxiQ\", \"alias\": \"jenis-splendid-ice-creams-nashville-7\", \"name\": \"Jeni\\'s Splendid Ice Creams\", \"image_url\": \"https://s3-media4.fl.yelpcdn.com/bphoto/C0gA-abeGFSEdbmKokENhA/o.jpg\", \"is_closed\": false, \"url\": \"https://www.yelp.com/biz/jenis-splendid-ice-creams-nashville-7?adjust_creative=vzMDis5BrNmM2sntvA6iLQ&utm_campaign=yelp_api_v3&utm_medium=api_v3_business_search&utm_source=vzMDis5BrNmM2sntvA6iLQ\", \"review_count\": 207, \"categories\": [{\"alias\": \"icecream\", \"title\": \"Ice Cream & Frozen Yogurt\"}], \"rating\": 4.5, \"coordinates\": {\"latitude\": 36.1357709030377, \"longitude\": -86.8011597660714}, \"transactions\": [\"delivery\", \"pickup\"], \"price\": \"$$\", \"location\": {\"address1\": \"1819 21st Ave S\", \"address2\": \"\", \"address3\": \"\", \"city\": \"Nashville\", \"zip_code\": \"37212\", \"country\": \"US\", \"state\": \"TN\", \"display_address\": [\"1819 21st Ave S\", \"Nashville, TN 37212\"]}, \"phone\": \"+16152928636\", \"display_phone\": \"(615) 292-8636\", \"distance\": 2313.11523140557}, {\"id\": \"6KoyHbN2qSUsioqrjXLeEg\", \"alias\": \"answer-nashville\", \"name\": \"Answer\", \"image_url\": \"https://s3-media2.fl.yelpcdn.com/bphoto/NXXWxt25kdGxZJ9bHEx-nw/o.jpg\", \"is_closed\": false, \"url\": \"https://www.yelp.com/biz/answer-nashville?adjust_creative=vzMDis5BrNmM2sntvA6iLQ&utm_campaign=yelp_api_v3&utm_medium=api_v3_business_search&utm_source=vzMDis5BrNmM2sntvA6iLQ\", \"review_count\": 225, \"categories\": [{\"alias\": \"tapasmallplates\", \"title\": \"Tapas/Small Plates\"}, {\"alias\": \"newamerican\", \"title\": \"American (New)\"}, {\"alias\": \"cocktailbars\", \"title\": \"Cocktail Bars\"}], \"rating\": 4.5, \"coordinates\": {\"latitude\": 36.14403, \"longitude\": -86.84143}, \"transactions\": [\"delivery\"], \"price\": \"$$\", \"location\": {\"address1\": \"132 46th Ave N\", \"address2\": \"\", \"address3\": null, \"city\": \"Nashville\", \"zip_code\": \"37209\", \"country\": \"US\", \"state\": \"TN\", \"display_address\": [\"132 46th Ave N\", \"Nashville, TN 37209\"]}, \"phone\": \"+16159420866\", \"display_phone\": \"(615) 942-0866\", \"distance\": 5970.814402581683}, {\"id\": \"XqSLir6xs3I6ntf-xIQzrQ\", \"alias\": \"city-house-nashville\", \"name\": \"City House\", \"image_url\": \"https://s3-media4.fl.yelpcdn.com/bphoto/TCSkoXclMhA8nwAfHMaJxw/o.jpg\", \"is_closed\": false, \"url\": \"https://www.yelp.com/biz/city-house-nashville?adjust_creative=vzMDis5BrNmM2sntvA6iLQ&utm_campaign=yelp_api_v3&utm_medium=api_v3_business_search&utm_source=vzMDis5BrNmM2sntvA6iLQ\", \"review_count\": 687, \"categories\": [{\"alias\": \"italian\", \"title\": \"Italian\"}, {\"alias\": \"southern\", \"title\": \"Southern\"}], \"rating\": 4.0, \"coordinates\": {\"latitude\": 36.17696, \"longitude\": -86.78711}, \"transactions\": [\"delivery\"], \"price\": \"$$\", \"location\": {\"address1\": \"1222 4th Ave N\", \"address2\": \"\", \"address3\": \"\", \"city\": \"Nashville\", \"zip_code\": \"37208\", \"country\": \"US\", \"state\": \"TN\", \"display_address\": [\"1222 4th Ave N\", \"Nashville, TN 37208\"]}, \"phone\": \"+16157365838\", \"display_phone\": \"(615) 736-5838\", \"distance\": 4487.3080303841}, {\"id\": \"5quqExjLtFNhykec_na8pg\", \"alias\": \"bombay-palace-restaurant-nashville\", \"name\": \"Bombay Palace Restaurant\", \"image_url\": \"https://s3-media2.fl.yelpcdn.com/bphoto/tfUmkmEv1F-GyD85VMXUBA/o.jpg\", \"is_closed\": false, \"url\": \"https://www.yelp.com/biz/bombay-palace-restaurant-nashville?adjust_creative=vzMDis5BrNmM2sntvA6iLQ&utm_campaign=yelp_api_v3&utm_medium=api_v3_business_search&utm_source=vzMDis5BrNmM2sntvA6iLQ\", \"review_count\": 439, \"categories\": [{\"alias\": \"indpak\", \"title\": \"Indian\"}, {\"alias\": \"seafood\", \"title\": \"Seafood\"}], \"rating\": 4.0, \"coordinates\": {\"latitude\": 36.1445, \"longitude\": -86.81392}, \"transactions\": [\"delivery\", \"pickup\"], \"price\": \"$$\", \"location\": {\"address1\": \"2912 W End Ave\", \"address2\": \"\", \"address3\": \"\", \"city\": \"Nashville\", \"zip_code\": \"37203\", \"country\": \"US\", \"state\": \"TN\", \"display_address\": [\"2912 W End Ave\", \"Nashville, TN 37203\"]}, \"phone\": \"+16153216140\", \"display_phone\": \"(615) 321-6140\", \"distance\": 3519.316275682484}, {\"id\": \"xwjUyOwIQuFNaBCxhedwLA\", \"alias\": \"edleys-bar-b-que-nashville-2\", \"name\": \"Edley\\'s Bar-B-Que\", \"image_url\": \"https://s3-media3.fl.yelpcdn.com/bphoto/11oetFG6_052ftID7u5NFg/o.jpg\", \"is_closed\": false, \"url\": \"https://www.yelp.com/biz/edleys-bar-b-que-nashville-2?adjust_creative=vzMDis5BrNmM2sntvA6iLQ&utm_campaign=yelp_api_v3&utm_medium=api_v3_business_search&utm_source=vzMDis5BrNmM2sntvA6iLQ\", \"review_count\": 674, \"categories\": [{\"alias\": \"bbq\", \"title\": \"Barbeque\"}, {\"alias\": \"southern\", \"title\": \"Southern\"}, {\"alias\": \"cocktailbars\", \"title\": \"Cocktail Bars\"}], \"rating\": 4.0, \"coordinates\": {\"latitude\": 36.1761265, \"longitude\": -86.7567142}, \"transactions\": [\"delivery\", \"pickup\"], \"price\": \"$$\", \"location\": {\"address1\": \"908 Main St\", \"address2\": \"\", \"address3\": \"\", \"city\": \"Nashville\", \"zip_code\": \"37206\", \"country\": \"US\", \"state\": \"TN\", \"display_address\": [\"908 Main St\", \"Nashville, TN 37206\"]}, \"phone\": \"+16158734085\", \"display_phone\": \"(615) 873-4085\", \"distance\": 4594.234183577667}, {\"id\": \"LF8UjsBRaQ4Aqwu3ARxnBg\", \"alias\": \"rodizio-grill-the-brazilian-steakhouse-nashville-2\", \"name\": \"Rodizio Grill The Brazilian Steakhouse\", \"image_url\": \"https://s3-media2.fl.yelpcdn.com/bphoto/3DpNDPYTvGx6hhSH_m6AsQ/o.jpg\", \"is_closed\": false, \"url\": \"https://www.yelp.com/biz/rodizio-grill-the-brazilian-steakhouse-nashville-2?adjust_creative=vzMDis5BrNmM2sntvA6iLQ&utm_campaign=yelp_api_v3&utm_medium=api_v3_business_search&utm_source=vzMDis5BrNmM2sntvA6iLQ\", \"review_count\": 505, \"categories\": [{\"alias\": \"steak\", \"title\": \"Steakhouses\"}, {\"alias\": \"gluten_free\", \"title\": \"Gluten-Free\"}, {\"alias\": \"brazilian\", \"title\": \"Brazilian\"}], \"rating\": 4.0, \"coordinates\": {\"latitude\": 36.1640098, \"longitude\": -86.7760299}, \"transactions\": [\"delivery\", \"pickup\"], \"price\": \"$$$\", \"location\": {\"address1\": \"166 2nd Ave N\", \"address2\": \"Ste C\", \"address3\": \"\", \"city\": \"Nashville\", \"zip_code\": \"37201\", \"country\": \"US\", \"state\": \"TN\", \"display_address\": [\"166 2nd Ave N\", \"Ste C\", \"Nashville, TN 37201\"]}, \"phone\": \"+16157308358\", \"display_phone\": \"(615) 730-8358\", \"distance\": 2926.064247044298}, {\"id\": \"3NmMVlz6sFsBJsVaPtm12A\", \"alias\": \"tasty-and-delicious-nashville-2\", \"name\": \"Tasty And Delicious\", \"image_url\": \"https://s3-media2.fl.yelpcdn.com/bphoto/8XtlgYnDzu97NEdHamuaCQ/o.jpg\", \"is_closed\": false, \"url\": \"https://www.yelp.com/biz/tasty-and-delicious-nashville-2?adjust_creative=vzMDis5BrNmM2sntvA6iLQ&utm_campaign=yelp_api_v3&utm_medium=api_v3_business_search&utm_source=vzMDis5BrNmM2sntvA6iLQ\", \"review_count\": 203, \"categories\": [{\"alias\": \"tradamerican\", \"title\": \"American (Traditional)\"}, {\"alias\": \"burgers\", \"title\": \"Burgers\"}], \"rating\": 5.0, \"coordinates\": {\"latitude\": 36.06533197307316, \"longitude\": -86.71786196529865}, \"transactions\": [\"delivery\", \"pickup\"], \"price\": \"$\", \"location\": {\"address1\": \"4813 Nolensville Pike\", \"address2\": \"Ste 206A\", \"address3\": null, \"city\": \"Nashville\", \"zip_code\": \"37211\", \"country\": \"US\", \"state\": \"TN\", \"display_address\": [\"4813 Nolensville Pike\", \"Ste 206A\", \"Nashville, TN 37211\"]}, \"phone\": \"+16156001007\", \"display_phone\": \"(615) 600-1007\", \"distance\": 9569.614857641303}, {\"id\": \"-ejuzGbu3ZHUndhLTQafJg\", \"alias\": \"saint-anejo-nashville\", \"name\": \"Saint Anejo\", \"image_url\": \"https://s3-media2.fl.yelpcdn.com/bphoto/uiMdjCt8tHvMD9n0rlPHlA/o.jpg\", \"is_closed\": false, \"url\": \"https://www.yelp.com/biz/saint-anejo-nashville?adjust_creative=vzMDis5BrNmM2sntvA6iLQ&utm_campaign=yelp_api_v3&utm_medium=api_v3_business_search&utm_source=vzMDis5BrNmM2sntvA6iLQ\", \"review_count\": 787, \"categories\": [{\"alias\": \"cocktailbars\", \"title\": \"Cocktail Bars\"}, {\"alias\": \"mexican\", \"title\": \"Mexican\"}, {\"alias\": \"breakfast_brunch\", \"title\": \"Breakfast & Brunch\"}], \"rating\": 4.0, \"coordinates\": {\"latitude\": 36.15608, \"longitude\": -86.78636}, \"transactions\": [\"delivery\", \"pickup\"], \"price\": \"$$\", \"location\": {\"address1\": \"1120 Mcgavock St\", \"address2\": \"\", \"address3\": \"\", \"city\": \"Nashville\", \"zip_code\": \"37203\", \"country\": \"US\", \"state\": \"TN\", \"display_address\": [\"1120 Mcgavock St\", \"Nashville, TN 37203\"]}, \"phone\": \"+16157365301\", \"display_phone\": \"(615) 736-5301\", \"distance\": 2266.841456456933}], \"total\": 2200, \"region\": {\"center\": {\"longitude\": -86.7755126953125, \"latitude\": 36.137698356986476}}}'"
      ]
     },
     "execution_count": 16,
     "metadata": {},
     "output_type": "execute_result"
    }
   ],
   "source": [
    "nash_vegan.text"
   ]
  },
  {
   "cell_type": "code",
   "execution_count": 17,
   "metadata": {},
   "outputs": [],
   "source": [
    "nash_vegan = nash_vegan.json()"
   ]
  },
  {
   "cell_type": "code",
   "execution_count": 18,
   "metadata": {},
   "outputs": [],
   "source": [
    "#nash_vegan2 = nash_vegan2.json()"
   ]
  },
  {
   "cell_type": "code",
   "execution_count": 19,
   "metadata": {},
   "outputs": [
    {
     "data": {
      "text/plain": [
       "dict_keys(['businesses', 'total', 'region'])"
      ]
     },
     "execution_count": 19,
     "metadata": {},
     "output_type": "execute_result"
    }
   ],
   "source": [
    "nash_vegan.keys()"
   ]
  },
  {
   "cell_type": "code",
   "execution_count": 20,
   "metadata": {},
   "outputs": [
    {
     "data": {
      "text/plain": [
       "dict"
      ]
     },
     "execution_count": 20,
     "metadata": {},
     "output_type": "execute_result"
    }
   ],
   "source": [
    "type(nash_vegan)"
   ]
  },
  {
   "cell_type": "code",
   "execution_count": 21,
   "metadata": {},
   "outputs": [
    {
     "data": {
      "text/plain": [
       "2200"
      ]
     },
     "execution_count": 21,
     "metadata": {},
     "output_type": "execute_result"
    }
   ],
   "source": [
    "nash_vegan['total']"
   ]
  },
  {
   "cell_type": "code",
   "execution_count": 22,
   "metadata": {},
   "outputs": [
    {
     "data": {
      "text/plain": [
       "{'id': 'rx4fcNjuqoaEugMPq5PBfw',\n",
       " 'alias': 'gabbys-burgers-nashville',\n",
       " 'name': \"Gabby's Burgers\",\n",
       " 'image_url': 'https://s3-media3.fl.yelpcdn.com/bphoto/hEg2doK5BZwlgLN7anhMPw/o.jpg',\n",
       " 'is_closed': False,\n",
       " 'url': 'https://www.yelp.com/biz/gabbys-burgers-nashville?adjust_creative=vzMDis5BrNmM2sntvA6iLQ&utm_campaign=yelp_api_v3&utm_medium=api_v3_business_search&utm_source=vzMDis5BrNmM2sntvA6iLQ',\n",
       " 'review_count': 487,\n",
       " 'categories': [{'alias': 'burgers', 'title': 'Burgers'}],\n",
       " 'rating': 4.5,\n",
       " 'coordinates': {'latitude': 36.142017364502, 'longitude': -86.7714691162109},\n",
       " 'transactions': ['delivery'],\n",
       " 'price': '$',\n",
       " 'location': {'address1': '493 Humphreys St',\n",
       "  'address2': '',\n",
       "  'address3': '',\n",
       "  'city': 'Nashville',\n",
       "  'zip_code': '37203',\n",
       "  'country': 'US',\n",
       "  'state': 'TN',\n",
       "  'display_address': ['493 Humphreys St', 'Nashville, TN 37203']},\n",
       " 'phone': '+16157333119',\n",
       " 'display_phone': '(615) 733-3119',\n",
       " 'distance': 598.7718954374001}"
      ]
     },
     "execution_count": 22,
     "metadata": {},
     "output_type": "execute_result"
    }
   ],
   "source": [
    "Graze = nash_vegan['businesses'][0]\n",
    "Graze"
   ]
  },
  {
   "cell_type": "code",
   "execution_count": 23,
   "metadata": {},
   "outputs": [
    {
     "data": {
      "text/plain": [
       "\"Gabby's Burgers\""
      ]
     },
     "execution_count": 23,
     "metadata": {},
     "output_type": "execute_result"
    }
   ],
   "source": [
    "name = Graze['name']\n",
    "name"
   ]
  },
  {
   "cell_type": "code",
   "execution_count": 24,
   "metadata": {},
   "outputs": [
    {
     "data": {
      "text/plain": [
       "487"
      ]
     },
     "execution_count": 24,
     "metadata": {},
     "output_type": "execute_result"
    }
   ],
   "source": [
    "review_count = Graze['review_count']\n",
    "review_count"
   ]
  },
  {
   "cell_type": "code",
   "execution_count": 25,
   "metadata": {},
   "outputs": [],
   "source": [
    "def extract_restaurant_info(store):\n",
    "    categories = []\n",
    "    for cat in store['categories']:\n",
    "        categories.append(cat['alias'])\n",
    "    if 'vegan' in categories or 'vegetarian' in categories :\n",
    "        name = store['name']\n",
    "        #categories = [a['title':'Vegan'] for a in store['categories']]\n",
    "        rating = store['rating']\n",
    "        latitude = store['coordinates']['latitude']\n",
    "        longitude = store['coordinates']['longitude']\n",
    "        address = store['location']['address1']\n",
    "        city = store['location']['city']\n",
    "        state = store['location']['state']\n",
    "        zip_code = store['location']['zip_code']\n",
    "        output_dict = {'name':name,\n",
    "                      'categories':categories,\n",
    "                      'rating':rating,\n",
    "                      'latitude':latitude,\n",
    "                      'longitude':longitude,\n",
    "                      'address':address,\n",
    "                      'city':city,\n",
    "                      'state':state,\n",
    "                      'zip_code':zip_code}\n",
    "        return output_dict\n"
   ]
  },
  {
   "cell_type": "code",
   "execution_count": 26,
   "metadata": {},
   "outputs": [],
   "source": [
    "#pd.DataFrame([extract_restaurant_info(Graze)])"
   ]
  },
  {
   "cell_type": "code",
   "execution_count": 27,
   "metadata": {},
   "outputs": [],
   "source": [
    "store_list = []\n",
    "params_offset = 0\n",
    "for i in range(0, 1000, 50):\n",
    "    params_nash = {'location':'Nashville', 'terms':'Vegan,Vegetarian','limit':50,'offset':params_offset}  \n",
    "    response = requests.get(url= end_point_nash, params = params_nash, headers=header_nash)\n",
    "    nash_vegan = response.json()\n",
    "    for business in nash_vegan['businesses']:\n",
    "        business_dict = extract_restaurant_info(business)\n",
    "        if business_dict:\n",
    "            store_list.append(business_dict)\n",
    "    params_offset += 50"
   ]
  },
  {
   "cell_type": "code",
   "execution_count": 28,
   "metadata": {},
   "outputs": [],
   "source": [
    "def search_city(city):\n",
    "    store_list = []\n",
    "    params_offset = 0\n",
    "    for i in range(0, 1000, 50):\n",
    "        params_nash = {'location': city, 'terms':'Vegan,Vegetarian','limit':50,'offset':params_offset}  \n",
    "        response = requests.get(url= end_point_nash, params = params_nash, headers=header_nash)\n",
    "        nash_vegan = response.json()\n",
    "        for business in nash_vegan['businesses']:\n",
    "            business_dict = extract_restaurant_info(business)\n",
    "            if business_dict:\n",
    "                store_list.append(business_dict)\n",
    "        params_offset += 50\n",
    "    return store_list"
   ]
  },
  {
   "cell_type": "code",
   "execution_count": 29,
   "metadata": {},
   "outputs": [],
   "source": [
    "#store_list2 = []\n",
    "#for business in nash_vegan2['businesses']:\n",
    "    #business_dict = extract_restaurant_info(business)\n",
    "    #if business_dict:\n",
    "        #store_list2.append(business_dict)"
   ]
  },
  {
   "cell_type": "code",
   "execution_count": 30,
   "metadata": {},
   "outputs": [],
   "source": [
    "store_list2 = []"
   ]
  },
  {
   "cell_type": "code",
   "execution_count": 205,
   "metadata": {},
   "outputs": [
    {
     "ename": "KeyError",
     "evalue": "'businesses'",
     "output_type": "error",
     "traceback": [
      "\u001b[0;31m---------------------------------------------------------------------------\u001b[0m",
      "\u001b[0;31mKeyError\u001b[0m                                  Traceback (most recent call last)",
      "\u001b[0;32m<ipython-input-205-84458035a363>\u001b[0m in \u001b[0;36m<module>\u001b[0;34m\u001b[0m\n\u001b[1;32m      1\u001b[0m \u001b[0mcities\u001b[0m \u001b[0;34m=\u001b[0m \u001b[0;34m[\u001b[0m\u001b[0;34m'Ann Arbor'\u001b[0m\u001b[0;34m,\u001b[0m\u001b[0;34m'Battle Creek'\u001b[0m\u001b[0;34m]\u001b[0m\u001b[0;31m#,'Berkley','Berrien Springs']\u001b[0m\u001b[0;34m\u001b[0m\u001b[0;34m\u001b[0m\u001b[0m\n\u001b[1;32m      2\u001b[0m \u001b[0;32mfor\u001b[0m \u001b[0mcity\u001b[0m \u001b[0;32min\u001b[0m \u001b[0mcities\u001b[0m\u001b[0;34m:\u001b[0m\u001b[0;34m\u001b[0m\u001b[0;34m\u001b[0m\u001b[0m\n\u001b[0;32m----> 3\u001b[0;31m     \u001b[0mbusinesses_list\u001b[0m \u001b[0;34m=\u001b[0m \u001b[0msearch_city\u001b[0m\u001b[0;34m(\u001b[0m\u001b[0mcity\u001b[0m\u001b[0;34m)\u001b[0m\u001b[0;34m\u001b[0m\u001b[0;34m\u001b[0m\u001b[0m\n\u001b[0m\u001b[1;32m      4\u001b[0m     \u001b[0mstore_list69\u001b[0m\u001b[0;34m.\u001b[0m\u001b[0mextend\u001b[0m\u001b[0;34m(\u001b[0m\u001b[0mbusinesses_list\u001b[0m\u001b[0;34m)\u001b[0m\u001b[0;34m\u001b[0m\u001b[0;34m\u001b[0m\u001b[0m\n",
      "\u001b[0;32m<ipython-input-28-0148ebf37d59>\u001b[0m in \u001b[0;36msearch_city\u001b[0;34m(city)\u001b[0m\n\u001b[1;32m      6\u001b[0m         \u001b[0mresponse\u001b[0m \u001b[0;34m=\u001b[0m \u001b[0mrequests\u001b[0m\u001b[0;34m.\u001b[0m\u001b[0mget\u001b[0m\u001b[0;34m(\u001b[0m\u001b[0murl\u001b[0m\u001b[0;34m=\u001b[0m \u001b[0mend_point_nash\u001b[0m\u001b[0;34m,\u001b[0m \u001b[0mparams\u001b[0m \u001b[0;34m=\u001b[0m \u001b[0mparams_nash\u001b[0m\u001b[0;34m,\u001b[0m \u001b[0mheaders\u001b[0m\u001b[0;34m=\u001b[0m\u001b[0mheader_nash\u001b[0m\u001b[0;34m)\u001b[0m\u001b[0;34m\u001b[0m\u001b[0;34m\u001b[0m\u001b[0m\n\u001b[1;32m      7\u001b[0m         \u001b[0mnash_vegan\u001b[0m \u001b[0;34m=\u001b[0m \u001b[0mresponse\u001b[0m\u001b[0;34m.\u001b[0m\u001b[0mjson\u001b[0m\u001b[0;34m(\u001b[0m\u001b[0;34m)\u001b[0m\u001b[0;34m\u001b[0m\u001b[0;34m\u001b[0m\u001b[0m\n\u001b[0;32m----> 8\u001b[0;31m         \u001b[0;32mfor\u001b[0m \u001b[0mbusiness\u001b[0m \u001b[0;32min\u001b[0m \u001b[0mnash_vegan\u001b[0m\u001b[0;34m[\u001b[0m\u001b[0;34m'businesses'\u001b[0m\u001b[0;34m]\u001b[0m\u001b[0;34m:\u001b[0m\u001b[0;34m\u001b[0m\u001b[0;34m\u001b[0m\u001b[0m\n\u001b[0m\u001b[1;32m      9\u001b[0m             \u001b[0mbusiness_dict\u001b[0m \u001b[0;34m=\u001b[0m \u001b[0mextract_restaurant_info\u001b[0m\u001b[0;34m(\u001b[0m\u001b[0mbusiness\u001b[0m\u001b[0;34m)\u001b[0m\u001b[0;34m\u001b[0m\u001b[0;34m\u001b[0m\u001b[0m\n\u001b[1;32m     10\u001b[0m             \u001b[0;32mif\u001b[0m \u001b[0mbusiness_dict\u001b[0m\u001b[0;34m:\u001b[0m\u001b[0;34m\u001b[0m\u001b[0;34m\u001b[0m\u001b[0m\n",
      "\u001b[0;31mKeyError\u001b[0m: 'businesses'"
     ]
    }
   ],
   "source": [
    "cities = ['']\n",
    "for city in cities:\n",
    "    businesses_list = search_city(city)\n",
    "    store_list69.extend(businesses_list)"
   ]
  },
  {
   "cell_type": "code",
   "execution_count": null,
   "metadata": {},
   "outputs": [],
   "source": [
    "store_list3 = []"
   ]
  },
  {
   "cell_type": "code",
   "execution_count": null,
   "metadata": {},
   "outputs": [],
   "source": [
    "store_list4 = []"
   ]
  },
  {
   "cell_type": "code",
   "execution_count": null,
   "metadata": {},
   "outputs": [],
   "source": [
    "store_list5 = []"
   ]
  },
  {
   "cell_type": "code",
   "execution_count": null,
   "metadata": {},
   "outputs": [],
   "source": [
    "store_list6 = []"
   ]
  },
  {
   "cell_type": "code",
   "execution_count": null,
   "metadata": {},
   "outputs": [],
   "source": [
    "store_list7 = []"
   ]
  },
  {
   "cell_type": "code",
   "execution_count": null,
   "metadata": {},
   "outputs": [],
   "source": [
    "store_list8 = []"
   ]
  },
  {
   "cell_type": "code",
   "execution_count": null,
   "metadata": {},
   "outputs": [],
   "source": [
    "store_list9 = []"
   ]
  },
  {
   "cell_type": "code",
   "execution_count": null,
   "metadata": {},
   "outputs": [],
   "source": [
    "store_list10 = []"
   ]
  },
  {
   "cell_type": "code",
   "execution_count": null,
   "metadata": {},
   "outputs": [],
   "source": [
    "store_list11 = []"
   ]
  },
  {
   "cell_type": "code",
   "execution_count": null,
   "metadata": {},
   "outputs": [],
   "source": [
    "store_list12 = []"
   ]
  },
  {
   "cell_type": "code",
   "execution_count": null,
   "metadata": {},
   "outputs": [],
   "source": [
    "store_list13 = []"
   ]
  },
  {
   "cell_type": "code",
   "execution_count": null,
   "metadata": {},
   "outputs": [],
   "source": [
    "store_list14 = []"
   ]
  },
  {
   "cell_type": "code",
   "execution_count": null,
   "metadata": {},
   "outputs": [],
   "source": [
    "store_list15 = []"
   ]
  },
  {
   "cell_type": "code",
   "execution_count": null,
   "metadata": {},
   "outputs": [],
   "source": [
    "store_list16 = []"
   ]
  },
  {
   "cell_type": "code",
   "execution_count": null,
   "metadata": {},
   "outputs": [],
   "source": [
    "store_list17 = []"
   ]
  },
  {
   "cell_type": "code",
   "execution_count": null,
   "metadata": {},
   "outputs": [],
   "source": [
    "store_list18 = []"
   ]
  },
  {
   "cell_type": "code",
   "execution_count": null,
   "metadata": {},
   "outputs": [],
   "source": [
    "store_list19 = []"
   ]
  },
  {
   "cell_type": "code",
   "execution_count": null,
   "metadata": {},
   "outputs": [],
   "source": [
    "store_list20 = []"
   ]
  },
  {
   "cell_type": "code",
   "execution_count": 51,
   "metadata": {},
   "outputs": [],
   "source": [
    "store_list21 = []"
   ]
  },
  {
   "cell_type": "code",
   "execution_count": 56,
   "metadata": {},
   "outputs": [],
   "source": [
    "store_list22 = []"
   ]
  },
  {
   "cell_type": "code",
   "execution_count": 62,
   "metadata": {},
   "outputs": [],
   "source": [
    "store_list23 = []"
   ]
  },
  {
   "cell_type": "code",
   "execution_count": 69,
   "metadata": {},
   "outputs": [],
   "source": [
    "store_list24 = []"
   ]
  },
  {
   "cell_type": "code",
   "execution_count": 74,
   "metadata": {},
   "outputs": [],
   "source": [
    "store_list25 = []"
   ]
  },
  {
   "cell_type": "code",
   "execution_count": 79,
   "metadata": {},
   "outputs": [],
   "source": [
    "store_list26 = []"
   ]
  },
  {
   "cell_type": "code",
   "execution_count": 84,
   "metadata": {},
   "outputs": [],
   "source": [
    "store_list27 = []"
   ]
  },
  {
   "cell_type": "code",
   "execution_count": 89,
   "metadata": {},
   "outputs": [],
   "source": [
    "store_list28 = []"
   ]
  },
  {
   "cell_type": "code",
   "execution_count": 94,
   "metadata": {},
   "outputs": [],
   "source": [
    "store_list29 = []"
   ]
  },
  {
   "cell_type": "code",
   "execution_count": 99,
   "metadata": {},
   "outputs": [],
   "source": [
    "store_list30 = []"
   ]
  },
  {
   "cell_type": "code",
   "execution_count": 107,
   "metadata": {},
   "outputs": [],
   "source": [
    "store_list31 = []"
   ]
  },
  {
   "cell_type": "code",
   "execution_count": 112,
   "metadata": {},
   "outputs": [],
   "source": [
    "store_list32 = []"
   ]
  },
  {
   "cell_type": "code",
   "execution_count": 117,
   "metadata": {},
   "outputs": [],
   "source": [
    "store_list33 = []"
   ]
  },
  {
   "cell_type": "code",
   "execution_count": 123,
   "metadata": {},
   "outputs": [],
   "source": [
    "store_list34 = []"
   ]
  },
  {
   "cell_type": "code",
   "execution_count": 128,
   "metadata": {},
   "outputs": [],
   "source": [
    "store_list35 = []"
   ]
  },
  {
   "cell_type": "code",
   "execution_count": 134,
   "metadata": {},
   "outputs": [],
   "source": [
    "store_list36 = []"
   ]
  },
  {
   "cell_type": "code",
   "execution_count": 140,
   "metadata": {},
   "outputs": [],
   "source": [
    "store_list37 = []"
   ]
  },
  {
   "cell_type": "code",
   "execution_count": 146,
   "metadata": {},
   "outputs": [],
   "source": [
    "store_list38 = []"
   ]
  },
  {
   "cell_type": "code",
   "execution_count": 31,
   "metadata": {},
   "outputs": [],
   "source": [
    "store_list39 = []"
   ]
  },
  {
   "cell_type": "code",
   "execution_count": 36,
   "metadata": {},
   "outputs": [],
   "source": [
    "store_list40 = []"
   ]
  },
  {
   "cell_type": "code",
   "execution_count": 41,
   "metadata": {},
   "outputs": [],
   "source": [
    "store_list41 = []"
   ]
  },
  {
   "cell_type": "code",
   "execution_count": 46,
   "metadata": {},
   "outputs": [],
   "source": [
    "store_list42 = []"
   ]
  },
  {
   "cell_type": "code",
   "execution_count": 52,
   "metadata": {},
   "outputs": [],
   "source": [
    "store_list43 = []"
   ]
  },
  {
   "cell_type": "code",
   "execution_count": 57,
   "metadata": {},
   "outputs": [],
   "source": [
    "store_list44 = []"
   ]
  },
  {
   "cell_type": "code",
   "execution_count": 62,
   "metadata": {},
   "outputs": [],
   "source": [
    "store_list45 = []"
   ]
  },
  {
   "cell_type": "code",
   "execution_count": 67,
   "metadata": {},
   "outputs": [],
   "source": [
    "store_list46 = []"
   ]
  },
  {
   "cell_type": "code",
   "execution_count": 72,
   "metadata": {},
   "outputs": [],
   "source": [
    "store_list47 = []"
   ]
  },
  {
   "cell_type": "code",
   "execution_count": 77,
   "metadata": {},
   "outputs": [],
   "source": [
    "store_list48 = []"
   ]
  },
  {
   "cell_type": "code",
   "execution_count": 82,
   "metadata": {},
   "outputs": [],
   "source": [
    "store_list49 = []"
   ]
  },
  {
   "cell_type": "code",
   "execution_count": 88,
   "metadata": {},
   "outputs": [],
   "source": [
    "store_list50 = []"
   ]
  },
  {
   "cell_type": "code",
   "execution_count": 95,
   "metadata": {},
   "outputs": [],
   "source": [
    "store_list51 = []"
   ]
  },
  {
   "cell_type": "code",
   "execution_count": 102,
   "metadata": {},
   "outputs": [],
   "source": [
    "store_list52 = []"
   ]
  },
  {
   "cell_type": "code",
   "execution_count": 107,
   "metadata": {},
   "outputs": [],
   "source": [
    "store_list53 = []"
   ]
  },
  {
   "cell_type": "code",
   "execution_count": 112,
   "metadata": {},
   "outputs": [],
   "source": [
    "store_list54 = []"
   ]
  },
  {
   "cell_type": "code",
   "execution_count": 118,
   "metadata": {},
   "outputs": [],
   "source": [
    "store_list55 = []"
   ]
  },
  {
   "cell_type": "code",
   "execution_count": 125,
   "metadata": {},
   "outputs": [],
   "source": [
    "store_list56 = []"
   ]
  },
  {
   "cell_type": "code",
   "execution_count": 131,
   "metadata": {},
   "outputs": [],
   "source": [
    "store_list57 = []"
   ]
  },
  {
   "cell_type": "code",
   "execution_count": 139,
   "metadata": {},
   "outputs": [],
   "source": [
    "store_list58 = []"
   ]
  },
  {
   "cell_type": "code",
   "execution_count": 144,
   "metadata": {},
   "outputs": [],
   "source": [
    "store_list59 = []"
   ]
  },
  {
   "cell_type": "code",
   "execution_count": 150,
   "metadata": {},
   "outputs": [],
   "source": [
    "store_list60 = []"
   ]
  },
  {
   "cell_type": "code",
   "execution_count": 157,
   "metadata": {},
   "outputs": [],
   "source": [
    "store_list61 = []"
   ]
  },
  {
   "cell_type": "code",
   "execution_count": 163,
   "metadata": {},
   "outputs": [],
   "source": [
    "store_list62 = []"
   ]
  },
  {
   "cell_type": "code",
   "execution_count": 169,
   "metadata": {},
   "outputs": [],
   "source": [
    "store_list63 = []"
   ]
  },
  {
   "cell_type": "code",
   "execution_count": 175,
   "metadata": {},
   "outputs": [],
   "source": [
    "store_list64 = []"
   ]
  },
  {
   "cell_type": "code",
   "execution_count": 180,
   "metadata": {},
   "outputs": [],
   "source": [
    "store_list65 = []"
   ]
  },
  {
   "cell_type": "code",
   "execution_count": 187,
   "metadata": {},
   "outputs": [],
   "source": [
    "store_list66 = []"
   ]
  },
  {
   "cell_type": "code",
   "execution_count": 192,
   "metadata": {},
   "outputs": [],
   "source": [
    "store_list67 = []"
   ]
  },
  {
   "cell_type": "code",
   "execution_count": 197,
   "metadata": {},
   "outputs": [],
   "source": [
    "store_list68 = []"
   ]
  },
  {
   "cell_type": "code",
   "execution_count": 202,
   "metadata": {},
   "outputs": [],
   "source": [
    "store_list69 = []"
   ]
  },
  {
   "cell_type": "code",
   "execution_count": null,
   "metadata": {},
   "outputs": [],
   "source": []
  },
  {
   "cell_type": "code",
   "execution_count": null,
   "metadata": {},
   "outputs": [],
   "source": []
  },
  {
   "cell_type": "code",
   "execution_count": null,
   "metadata": {},
   "outputs": [],
   "source": []
  },
  {
   "cell_type": "code",
   "execution_count": 199,
   "metadata": {},
   "outputs": [
    {
     "data": {
      "text/plain": [
       "2"
      ]
     },
     "execution_count": 199,
     "metadata": {},
     "output_type": "execute_result"
    }
   ],
   "source": [
    "len(store_list68)"
   ]
  },
  {
   "cell_type": "code",
   "execution_count": null,
   "metadata": {},
   "outputs": [],
   "source": [
    "type(store_list)"
   ]
  },
  {
   "cell_type": "code",
   "execution_count": 200,
   "metadata": {},
   "outputs": [
    {
     "data": {
      "text/plain": [
       "[{'name': 'Earth Flow + Fire and Earth Candy',\n",
       "  'categories': ['yoga', 'juicebars', 'vegan'],\n",
       "  'rating': 4.0,\n",
       "  'latitude': 44.103983090593,\n",
       "  'longitude': -69.1083925317452,\n",
       "  'address': '385 Main St',\n",
       "  'city': 'Rockland',\n",
       "  'state': 'ME',\n",
       "  'zip_code': '04841'},\n",
       " {'name': 'Namaste Indian Food',\n",
       "  'categories': ['indpak', 'vegetarian'],\n",
       "  'rating': 5.0,\n",
       "  'latitude': 44.139214,\n",
       "  'longitude': -69.090313,\n",
       "  'address': '930 Commercial St',\n",
       "  'city': 'Rockport',\n",
       "  'state': 'ME',\n",
       "  'zip_code': '04856'}]"
      ]
     },
     "execution_count": 200,
     "metadata": {},
     "output_type": "execute_result"
    }
   ],
   "source": [
    "store_list68"
   ]
  },
  {
   "cell_type": "code",
   "execution_count": null,
   "metadata": {},
   "outputs": [],
   "source": []
  },
  {
   "cell_type": "code",
   "execution_count": null,
   "metadata": {},
   "outputs": [],
   "source": [
    "nashville_vegan = pd.DataFrame(store_list)\n",
    "#nashville_vegan"
   ]
  },
  {
   "cell_type": "code",
   "execution_count": null,
   "metadata": {},
   "outputs": [],
   "source": [
    "bham_denver_vegan = pd.DataFrame(store_list2)"
   ]
  },
  {
   "cell_type": "code",
   "execution_count": null,
   "metadata": {},
   "outputs": [],
   "source": [
    "alaska_bama_vegan = pd.DataFrame(store_list3)"
   ]
  },
  {
   "cell_type": "code",
   "execution_count": null,
   "metadata": {},
   "outputs": [],
   "source": [
    "ar_az_vegan = pd.DataFrame(store_list4)"
   ]
  },
  {
   "cell_type": "code",
   "execution_count": null,
   "metadata": {},
   "outputs": [],
   "source": [
    "az_vegan = pd.DataFrame(store_list5)"
   ]
  },
  {
   "cell_type": "code",
   "execution_count": null,
   "metadata": {},
   "outputs": [],
   "source": [
    "ca_bev_hills_vegan = pd.DataFrame(store_list6)\n"
   ]
  },
  {
   "cell_type": "code",
   "execution_count": null,
   "metadata": {},
   "outputs": [],
   "source": [
    "ca_chino_hills_vegan = pd.DataFrame(store_list7)"
   ]
  },
  {
   "cell_type": "code",
   "execution_count": null,
   "metadata": {},
   "outputs": [],
   "source": [
    "ca_cortemadera_vegan = pd.DataFrame(store_list8)\n",
    "#ca_cortemadera_vegan.head()"
   ]
  },
  {
   "cell_type": "code",
   "execution_count": null,
   "metadata": {},
   "outputs": [],
   "source": [
    "ca_dublin_vegan = pd.DataFrame(store_list9)\n",
    "#ca_dublin_vegan.head()"
   ]
  },
  {
   "cell_type": "code",
   "execution_count": null,
   "metadata": {},
   "outputs": [],
   "source": [
    "ca_fountain_valley = pd.DataFrame(store_list10)"
   ]
  },
  {
   "cell_type": "code",
   "execution_count": null,
   "metadata": {},
   "outputs": [],
   "source": [
    "ca_hawthorne = pd.DataFrame(store_list11)"
   ]
  },
  {
   "cell_type": "code",
   "execution_count": null,
   "metadata": {},
   "outputs": [],
   "source": [
    "ca_huntington = pd.DataFrame(store_list12)"
   ]
  },
  {
   "cell_type": "code",
   "execution_count": null,
   "metadata": {},
   "outputs": [],
   "source": [
    "ca_lancaster = pd.DataFrame(store_list13)"
   ]
  },
  {
   "cell_type": "code",
   "execution_count": null,
   "metadata": {},
   "outputs": [],
   "source": [
    "ca_milpitas = pd.DataFrame(store_list14)"
   ]
  },
  {
   "cell_type": "code",
   "execution_count": null,
   "metadata": {},
   "outputs": [],
   "source": [
    "ca_newark = pd.DataFrame(store_list15)"
   ]
  },
  {
   "cell_type": "code",
   "execution_count": null,
   "metadata": {},
   "outputs": [],
   "source": [
    "ca_palm_springs = pd.DataFrame(store_list16)"
   ]
  },
  {
   "cell_type": "code",
   "execution_count": null,
   "metadata": {},
   "outputs": [],
   "source": [
    "ca_rancho = pd.DataFrame(store_list17)"
   ]
  },
  {
   "cell_type": "code",
   "execution_count": null,
   "metadata": {},
   "outputs": [],
   "source": [
    "ca_san = pd.DataFrame(store_list18)"
   ]
  },
  {
   "cell_type": "code",
   "execution_count": null,
   "metadata": {},
   "outputs": [],
   "source": [
    "ca_san_ramon = pd.DataFrame(store_list19)"
   ]
  },
  {
   "cell_type": "code",
   "execution_count": null,
   "metadata": {},
   "outputs": [],
   "source": [
    "ca_sherman = pd.DataFrame(store_list20)"
   ]
  },
  {
   "cell_type": "code",
   "execution_count": null,
   "metadata": {},
   "outputs": [],
   "source": [
    "veggie_df = nashville_vegan.append([bham_denver_vegan, alaska_bama_vegan, ar_az_vegan, az_vegan,\n",
    "                                     ca_bev_hills_vegan, ca_chino_hills_vegan, ca_cortemadera_vegan,\n",
    "                                     ca_dublin_vegan, ca_fountain_valley, ca_hawthorne, ca_huntington,\n",
    "                                     ca_lancaster, ca_milpitas, ca_newark, ca_palm_springs, ca_rancho,\n",
    "                                     ca_san, ca_san_ramon, ca_sherman])\n",
    "veggie_df.tail()\n",
    "veggie_df.shape\n",
    "veggie_df.to_csv('veggie_df.csv')"
   ]
  },
  {
   "cell_type": "code",
   "execution_count": 55,
   "metadata": {},
   "outputs": [],
   "source": [
    "ca_thousand = pd.DataFrame(store_list21)"
   ]
  },
  {
   "cell_type": "code",
   "execution_count": 61,
   "metadata": {},
   "outputs": [],
   "source": [
    "ca_venice = pd.DataFrame(store_list22)"
   ]
  },
  {
   "cell_type": "code",
   "execution_count": 68,
   "metadata": {},
   "outputs": [],
   "source": [
    "ca_west_la = pd.DataFrame(store_list23)"
   ]
  },
  {
   "cell_type": "code",
   "execution_count": 73,
   "metadata": {},
   "outputs": [],
   "source": [
    "co_copper = pd.DataFrame(store_list24)"
   ]
  },
  {
   "cell_type": "code",
   "execution_count": 78,
   "metadata": {},
   "outputs": [],
   "source": [
    "co_end = pd.DataFrame(store_list25)"
   ]
  },
  {
   "cell_type": "code",
   "execution_count": 83,
   "metadata": {},
   "outputs": [],
   "source": [
    "ct_new_canaan = pd.DataFrame(store_list26)"
   ]
  },
  {
   "cell_type": "code",
   "execution_count": 88,
   "metadata": {},
   "outputs": [],
   "source": [
    "fl_first = pd.DataFrame(store_list27)"
   ]
  },
  {
   "cell_type": "code",
   "execution_count": 93,
   "metadata": {},
   "outputs": [],
   "source": [
    "fl_daytona = pd.DataFrame(store_list28)"
   ]
  },
  {
   "cell_type": "code",
   "execution_count": 98,
   "metadata": {},
   "outputs": [],
   "source": [
    "fl_grayton = pd.DataFrame(store_list29)"
   ]
  },
  {
   "cell_type": "code",
   "execution_count": 106,
   "metadata": {},
   "outputs": [],
   "source": [
    "fl_indian = pd.DataFrame(store_list30)"
   ]
  },
  {
   "cell_type": "code",
   "execution_count": 111,
   "metadata": {},
   "outputs": [],
   "source": [
    "fl_marathon = pd.DataFrame(store_list31)"
   ]
  },
  {
   "cell_type": "code",
   "execution_count": 116,
   "metadata": {},
   "outputs": [],
   "source": [
    "fl_naples = pd.DataFrame(store_list32)"
   ]
  },
  {
   "cell_type": "code",
   "execution_count": 122,
   "metadata": {},
   "outputs": [],
   "source": [
    "fl_palm_bay = pd.DataFrame(store_list33)"
   ]
  },
  {
   "cell_type": "code",
   "execution_count": 127,
   "metadata": {},
   "outputs": [],
   "source": [
    "fl_siesta = pd.DataFrame(store_list34)"
   ]
  },
  {
   "cell_type": "code",
   "execution_count": 133,
   "metadata": {},
   "outputs": [],
   "source": [
    "fl_tampa = pd.DataFrame(store_list35)"
   ]
  },
  {
   "cell_type": "code",
   "execution_count": 139,
   "metadata": {},
   "outputs": [],
   "source": [
    "fl_wilton = pd.DataFrame(store_list36)"
   ]
  },
  {
   "cell_type": "code",
   "execution_count": 145,
   "metadata": {},
   "outputs": [],
   "source": [
    "ga_atlanta = pd.DataFrame(store_list37)"
   ]
  },
  {
   "cell_type": "code",
   "execution_count": 152,
   "metadata": {},
   "outputs": [],
   "source": [
    "ga_decatur = pd.DataFrame(store_list38)"
   ]
  },
  {
   "cell_type": "code",
   "execution_count": 164,
   "metadata": {},
   "outputs": [],
   "source": [
    "veggie_df2 = ca_thousand.append([ca_venice, ca_west_la, co_copper, co_end, ct_new_canaan, \n",
    "                                fl_first, fl_daytona, fl_grayton, fl_indian, fl_marathon,\n",
    "                                fl_naples, fl_palm_bay, fl_siesta, fl_tampa, fl_wilton,\n",
    "                                ga_atlanta, ga_decatur])\n",
    "veggie_df2.shape\n",
    "veggie_df2.to_csv('veggie_df2.csv')"
   ]
  },
  {
   "cell_type": "code",
   "execution_count": 35,
   "metadata": {},
   "outputs": [],
   "source": [
    "ga_morrow = pd.DataFrame(store_list39)"
   ]
  },
  {
   "cell_type": "code",
   "execution_count": 40,
   "metadata": {},
   "outputs": [],
   "source": [
    "ga = pd.DataFrame(store_list40)"
   ]
  },
  {
   "cell_type": "code",
   "execution_count": 45,
   "metadata": {},
   "outputs": [],
   "source": [
    "il_alton = pd.DataFrame(store_list41)"
   ]
  },
  {
   "cell_type": "code",
   "execution_count": 51,
   "metadata": {},
   "outputs": [],
   "source": [
    "chicago = pd.DataFrame(store_list42)"
   ]
  },
  {
   "cell_type": "code",
   "execution_count": 56,
   "metadata": {},
   "outputs": [],
   "source": [
    "il_highland = pd.DataFrame(store_list43)"
   ]
  },
  {
   "cell_type": "code",
   "execution_count": 61,
   "metadata": {},
   "outputs": [],
   "source": [
    "orland = pd.DataFrame(store_list44)"
   ]
  },
  {
   "cell_type": "code",
   "execution_count": 66,
   "metadata": {},
   "outputs": [],
   "source": [
    "bloomington = pd.DataFrame(store_list45)"
   ]
  },
  {
   "cell_type": "code",
   "execution_count": 71,
   "metadata": {},
   "outputs": [],
   "source": [
    "new_albany = pd.DataFrame(store_list46)"
   ]
  },
  {
   "cell_type": "code",
   "execution_count": 76,
   "metadata": {},
   "outputs": [],
   "source": [
    "lexington = pd.DataFrame(store_list47)"
   ]
  },
  {
   "cell_type": "code",
   "execution_count": 81,
   "metadata": {},
   "outputs": [],
   "source": [
    "amherst = pd.DataFrame(store_list48)"
   ]
  },
  {
   "cell_type": "code",
   "execution_count": 87,
   "metadata": {},
   "outputs": [],
   "source": [
    "bridge = pd.DataFrame(store_list49)"
   ]
  },
  {
   "cell_type": "code",
   "execution_count": 94,
   "metadata": {},
   "outputs": [],
   "source": [
    "cambridge = pd.DataFrame(store_list50)"
   ]
  },
  {
   "cell_type": "code",
   "execution_count": 101,
   "metadata": {},
   "outputs": [],
   "source": [
    "dracut = pd.DataFrame(store_list51)"
   ]
  },
  {
   "cell_type": "code",
   "execution_count": 106,
   "metadata": {},
   "outputs": [],
   "source": [
    "hawich = pd.DataFrame(store_list52)"
   ]
  },
  {
   "cell_type": "code",
   "execution_count": 111,
   "metadata": {},
   "outputs": [],
   "source": [
    "oakbluff = pd.DataFrame(store_list53)"
   ]
  },
  {
   "cell_type": "code",
   "execution_count": 117,
   "metadata": {},
   "outputs": [],
   "source": [
    "somerville = pd.DataFrame(store_list54)"
   ]
  },
  {
   "cell_type": "code",
   "execution_count": 124,
   "metadata": {},
   "outputs": [],
   "source": [
    "walthum = pd.DataFrame(store_list55)"
   ]
  },
  {
   "cell_type": "code",
   "execution_count": 130,
   "metadata": {},
   "outputs": [],
   "source": [
    "worcester = pd.DataFrame(store_list56)"
   ]
  },
  {
   "cell_type": "code",
   "execution_count": 138,
   "metadata": {},
   "outputs": [],
   "source": [
    "baltimore = pd.DataFrame(store_list57)"
   ]
  },
  {
   "cell_type": "code",
   "execution_count": 143,
   "metadata": {},
   "outputs": [],
   "source": [
    "chestertown = pd.DataFrame(store_list58)"
   ]
  },
  {
   "cell_type": "code",
   "execution_count": 149,
   "metadata": {},
   "outputs": [],
   "source": [
    "hagerstown = pd.DataFrame(store_list59)"
   ]
  },
  {
   "cell_type": "code",
   "execution_count": 156,
   "metadata": {},
   "outputs": [],
   "source": [
    "langpark = pd.DataFrame(store_list60)"
   ]
  },
  {
   "cell_type": "code",
   "execution_count": 162,
   "metadata": {},
   "outputs": [],
   "source": [
    "parkville = pd.DataFrame(store_list61)"
   ]
  },
  {
   "cell_type": "code",
   "execution_count": 168,
   "metadata": {},
   "outputs": [],
   "source": [
    "riverdale = pd.DataFrame(store_list62)"
   ]
  },
  {
   "cell_type": "code",
   "execution_count": 174,
   "metadata": {},
   "outputs": [],
   "source": [
    "bangor = pd.DataFrame(store_list63)"
   ]
  },
  {
   "cell_type": "code",
   "execution_count": 179,
   "metadata": {},
   "outputs": [],
   "source": [
    "belfast = pd.DataFrame(store_list64)"
   ]
  },
  {
   "cell_type": "code",
   "execution_count": 186,
   "metadata": {},
   "outputs": [],
   "source": [
    "kenn = pd.DataFrame(store_list65)"
   ]
  },
  {
   "cell_type": "code",
   "execution_count": 191,
   "metadata": {},
   "outputs": [],
   "source": [
    "oj = pd.DataFrame(store_list66)"
   ]
  },
  {
   "cell_type": "code",
   "execution_count": 196,
   "metadata": {},
   "outputs": [],
   "source": [
    "portland = pd.DataFrame(store_list67)"
   ]
  },
  {
   "cell_type": "code",
   "execution_count": 201,
   "metadata": {},
   "outputs": [],
   "source": [
    "rockland = pd.DataFrame(store_list68)"
   ]
  },
  {
   "cell_type": "code",
   "execution_count": 208,
   "metadata": {},
   "outputs": [],
   "source": [
    "veggie_df3 = ga_morrow.append([ga, il_alton,chicago, il_highland, orland, bloomington,\n",
    "                              new_albany, lexington, amherst, bridge, cambridge, dracut, \n",
    "                              hawich, oakbluff, somerville, walthum, worcester,baltimore,\n",
    "                              chestertown, hagerstown, langpark, parkville, riverdale, bangor,\n",
    "                              belfast, kenn, oj, portland, rockland])"
   ]
  },
  {
   "cell_type": "code",
   "execution_count": 210,
   "metadata": {},
   "outputs": [],
   "source": [
    "veggie_df3.shape\n",
    "veggie_df3.to_csv('veggie_df3.csv')"
   ]
  },
  {
   "cell_type": "code",
   "execution_count": null,
   "metadata": {},
   "outputs": [],
   "source": []
  }
 ],
 "metadata": {
  "kernelspec": {
   "display_name": "Python 3",
   "language": "python",
   "name": "python3"
  },
  "language_info": {
   "codemirror_mode": {
    "name": "ipython",
    "version": 3
   },
   "file_extension": ".py",
   "mimetype": "text/x-python",
   "name": "python",
   "nbconvert_exporter": "python",
   "pygments_lexer": "ipython3",
   "version": "3.8.5"
  }
 },
 "nbformat": 4,
 "nbformat_minor": 4
}
