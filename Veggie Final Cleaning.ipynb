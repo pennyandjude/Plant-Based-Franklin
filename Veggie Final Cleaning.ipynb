{
 "cells": [
  {
   "cell_type": "code",
   "execution_count": 56,
   "metadata": {},
   "outputs": [],
   "source": [
    "from shapely.geometry import Point\n",
    "import pandas as pd\n",
    "import geopandas as gpd\n",
    "from geopandas import GeoDataFrame\n",
    "import matplotlib.pyplot as plt\n",
    "import folium\n",
    "from folium.plugins import MarkerCluster\n",
    "from folium.plugins import FastMarkerCluster"
   ]
  },
  {
   "cell_type": "code",
   "execution_count": 57,
   "metadata": {},
   "outputs": [
    {
     "data": {
      "text/html": [
       "<div>\n",
       "<style scoped>\n",
       "    .dataframe tbody tr th:only-of-type {\n",
       "        vertical-align: middle;\n",
       "    }\n",
       "\n",
       "    .dataframe tbody tr th {\n",
       "        vertical-align: top;\n",
       "    }\n",
       "\n",
       "    .dataframe thead th {\n",
       "        text-align: right;\n",
       "    }\n",
       "</style>\n",
       "<table border=\"1\" class=\"dataframe\">\n",
       "  <thead>\n",
       "    <tr style=\"text-align: right;\">\n",
       "      <th></th>\n",
       "      <th>Unnamed: 0</th>\n",
       "      <th>Unnamed: 0.1</th>\n",
       "      <th>name</th>\n",
       "      <th>categories</th>\n",
       "      <th>rating</th>\n",
       "      <th>latitude</th>\n",
       "      <th>longitude</th>\n",
       "      <th>address</th>\n",
       "      <th>city</th>\n",
       "      <th>state</th>\n",
       "      <th>zip_code</th>\n",
       "    </tr>\n",
       "  </thead>\n",
       "  <tbody>\n",
       "    <tr>\n",
       "      <th>0</th>\n",
       "      <td>0</td>\n",
       "      <td>0</td>\n",
       "      <td>The Wild Cow</td>\n",
       "      <td>['vegetarian', 'newamerican', 'vegan']</td>\n",
       "      <td>4.5</td>\n",
       "      <td>36.173823</td>\n",
       "      <td>-86.750055</td>\n",
       "      <td>1100 Fatherland St</td>\n",
       "      <td>Nashville</td>\n",
       "      <td>TN</td>\n",
       "      <td>37206</td>\n",
       "    </tr>\n",
       "    <tr>\n",
       "      <th>1</th>\n",
       "      <td>1</td>\n",
       "      <td>1</td>\n",
       "      <td>Sunflower Cafe</td>\n",
       "      <td>['cafes', 'vegetarian', 'vegan']</td>\n",
       "      <td>4.5</td>\n",
       "      <td>36.113197</td>\n",
       "      <td>-86.767731</td>\n",
       "      <td>2834 Azalea Pl</td>\n",
       "      <td>Nashville</td>\n",
       "      <td>TN</td>\n",
       "      <td>37204</td>\n",
       "    </tr>\n",
       "    <tr>\n",
       "      <th>2</th>\n",
       "      <td>2</td>\n",
       "      <td>2</td>\n",
       "      <td>Graze Nashville</td>\n",
       "      <td>['vegan', 'newamerican']</td>\n",
       "      <td>4.5</td>\n",
       "      <td>36.182320</td>\n",
       "      <td>-86.735500</td>\n",
       "      <td>1888 Eastland Ave</td>\n",
       "      <td>Nashville</td>\n",
       "      <td>TN</td>\n",
       "      <td>37206</td>\n",
       "    </tr>\n",
       "    <tr>\n",
       "      <th>3</th>\n",
       "      <td>3</td>\n",
       "      <td>3</td>\n",
       "      <td>Avo</td>\n",
       "      <td>['vegan']</td>\n",
       "      <td>4.5</td>\n",
       "      <td>36.152674</td>\n",
       "      <td>-86.820084</td>\n",
       "      <td>3 City Ave</td>\n",
       "      <td>Nashville</td>\n",
       "      <td>TN</td>\n",
       "      <td>37209</td>\n",
       "    </tr>\n",
       "    <tr>\n",
       "      <th>4</th>\n",
       "      <td>4</td>\n",
       "      <td>4</td>\n",
       "      <td>Vege-licious</td>\n",
       "      <td>['vegan', 'vegetarian', 'breakfast_brunch']</td>\n",
       "      <td>4.5</td>\n",
       "      <td>36.160499</td>\n",
       "      <td>-86.800702</td>\n",
       "      <td>513B Fisk St</td>\n",
       "      <td>Nashville</td>\n",
       "      <td>TN</td>\n",
       "      <td>37203</td>\n",
       "    </tr>\n",
       "  </tbody>\n",
       "</table>\n",
       "</div>"
      ],
      "text/plain": [
       "   Unnamed: 0  Unnamed: 0.1             name  \\\n",
       "0           0             0     The Wild Cow   \n",
       "1           1             1   Sunflower Cafe   \n",
       "2           2             2  Graze Nashville   \n",
       "3           3             3              Avo   \n",
       "4           4             4     Vege-licious   \n",
       "\n",
       "                                    categories  rating   latitude  longitude  \\\n",
       "0       ['vegetarian', 'newamerican', 'vegan']     4.5  36.173823 -86.750055   \n",
       "1             ['cafes', 'vegetarian', 'vegan']     4.5  36.113197 -86.767731   \n",
       "2                     ['vegan', 'newamerican']     4.5  36.182320 -86.735500   \n",
       "3                                    ['vegan']     4.5  36.152674 -86.820084   \n",
       "4  ['vegan', 'vegetarian', 'breakfast_brunch']     4.5  36.160499 -86.800702   \n",
       "\n",
       "              address       city state zip_code  \n",
       "0  1100 Fatherland St  Nashville    TN    37206  \n",
       "1      2834 Azalea Pl  Nashville    TN    37204  \n",
       "2   1888 Eastland Ave  Nashville    TN    37206  \n",
       "3          3 City Ave  Nashville    TN    37209  \n",
       "4        513B Fisk St  Nashville    TN    37203  "
      ]
     },
     "execution_count": 57,
     "metadata": {},
     "output_type": "execute_result"
    }
   ],
   "source": [
    "veggie = pd.read_csv('Desktop/git/final_veggie.csv')\n",
    "veggie.head()"
   ]
  },
  {
   "cell_type": "code",
   "execution_count": 58,
   "metadata": {},
   "outputs": [],
   "source": [
    "veggie.drop('Unnamed: 0', axis=1, inplace=True)"
   ]
  },
  {
   "cell_type": "code",
   "execution_count": 59,
   "metadata": {},
   "outputs": [],
   "source": [
    "veggie.drop('Unnamed: 0.1', axis=1, inplace=True)"
   ]
  },
  {
   "cell_type": "code",
   "execution_count": 60,
   "metadata": {},
   "outputs": [
    {
     "data": {
      "text/html": [
       "<div>\n",
       "<style scoped>\n",
       "    .dataframe tbody tr th:only-of-type {\n",
       "        vertical-align: middle;\n",
       "    }\n",
       "\n",
       "    .dataframe tbody tr th {\n",
       "        vertical-align: top;\n",
       "    }\n",
       "\n",
       "    .dataframe thead th {\n",
       "        text-align: right;\n",
       "    }\n",
       "</style>\n",
       "<table border=\"1\" class=\"dataframe\">\n",
       "  <thead>\n",
       "    <tr style=\"text-align: right;\">\n",
       "      <th></th>\n",
       "      <th>name</th>\n",
       "      <th>categories</th>\n",
       "      <th>rating</th>\n",
       "      <th>latitude</th>\n",
       "      <th>longitude</th>\n",
       "      <th>address</th>\n",
       "      <th>city</th>\n",
       "      <th>state</th>\n",
       "      <th>zip_code</th>\n",
       "    </tr>\n",
       "  </thead>\n",
       "  <tbody>\n",
       "    <tr>\n",
       "      <th>11735</th>\n",
       "      <td>Spice Connexion</td>\n",
       "      <td>['indpak', 'vegan', 'buffets']</td>\n",
       "      <td>4.5</td>\n",
       "      <td>39.453121</td>\n",
       "      <td>-77.987884</td>\n",
       "      <td>796 Foxcroft Ave</td>\n",
       "      <td>Martinsburg</td>\n",
       "      <td>WV</td>\n",
       "      <td>25401</td>\n",
       "    </tr>\n",
       "    <tr>\n",
       "      <th>11736</th>\n",
       "      <td>Earth Based Cafe</td>\n",
       "      <td>['vegan']</td>\n",
       "      <td>5.0</td>\n",
       "      <td>39.455503</td>\n",
       "      <td>-77.972349</td>\n",
       "      <td>329 Winchester Ave</td>\n",
       "      <td>Martinsburg</td>\n",
       "      <td>WV</td>\n",
       "      <td>25401</td>\n",
       "    </tr>\n",
       "    <tr>\n",
       "      <th>11737</th>\n",
       "      <td>Paramount Ballroom</td>\n",
       "      <td>['vegetarian', 'lounges', 'cocktailbars']</td>\n",
       "      <td>4.5</td>\n",
       "      <td>41.133169</td>\n",
       "      <td>-104.815396</td>\n",
       "      <td>1609 Capitol Ave</td>\n",
       "      <td>Cheyenne</td>\n",
       "      <td>WY</td>\n",
       "      <td>82001</td>\n",
       "    </tr>\n",
       "    <tr>\n",
       "      <th>11738</th>\n",
       "      <td>Hi Sushi</td>\n",
       "      <td>['japanese', 'sushi', 'vegetarian']</td>\n",
       "      <td>3.0</td>\n",
       "      <td>41.138199</td>\n",
       "      <td>-104.785695</td>\n",
       "      <td>2543 E Lincolnway</td>\n",
       "      <td>Cheyenne</td>\n",
       "      <td>WY</td>\n",
       "      <td>82001</td>\n",
       "    </tr>\n",
       "    <tr>\n",
       "      <th>11739</th>\n",
       "      <td>Sweet Melissa's</td>\n",
       "      <td>['vegetarian', 'bars']</td>\n",
       "      <td>4.5</td>\n",
       "      <td>41.311570</td>\n",
       "      <td>-105.595935</td>\n",
       "      <td>213 S 1st St</td>\n",
       "      <td>Laramie</td>\n",
       "      <td>WY</td>\n",
       "      <td>82070</td>\n",
       "    </tr>\n",
       "  </tbody>\n",
       "</table>\n",
       "</div>"
      ],
      "text/plain": [
       "                     name                                 categories  rating  \\\n",
       "11735     Spice Connexion             ['indpak', 'vegan', 'buffets']     4.5   \n",
       "11736    Earth Based Cafe                                  ['vegan']     5.0   \n",
       "11737  Paramount Ballroom  ['vegetarian', 'lounges', 'cocktailbars']     4.5   \n",
       "11738            Hi Sushi        ['japanese', 'sushi', 'vegetarian']     3.0   \n",
       "11739     Sweet Melissa's                     ['vegetarian', 'bars']     4.5   \n",
       "\n",
       "        latitude   longitude             address         city state zip_code  \n",
       "11735  39.453121  -77.987884    796 Foxcroft Ave  Martinsburg    WV    25401  \n",
       "11736  39.455503  -77.972349  329 Winchester Ave  Martinsburg    WV    25401  \n",
       "11737  41.133169 -104.815396    1609 Capitol Ave     Cheyenne    WY    82001  \n",
       "11738  41.138199 -104.785695   2543 E Lincolnway     Cheyenne    WY    82001  \n",
       "11739  41.311570 -105.595935        213 S 1st St      Laramie    WY    82070  "
      ]
     },
     "execution_count": 60,
     "metadata": {},
     "output_type": "execute_result"
    }
   ],
   "source": [
    "veggie.tail()"
   ]
  },
  {
   "cell_type": "code",
   "execution_count": 61,
   "metadata": {},
   "outputs": [],
   "source": [
    "veggie['categories'] = veggie['categories'].str.strip('[]')"
   ]
  },
  {
   "cell_type": "code",
   "execution_count": 62,
   "metadata": {},
   "outputs": [
    {
     "data": {
      "text/html": [
       "<div>\n",
       "<style scoped>\n",
       "    .dataframe tbody tr th:only-of-type {\n",
       "        vertical-align: middle;\n",
       "    }\n",
       "\n",
       "    .dataframe tbody tr th {\n",
       "        vertical-align: top;\n",
       "    }\n",
       "\n",
       "    .dataframe thead th {\n",
       "        text-align: right;\n",
       "    }\n",
       "</style>\n",
       "<table border=\"1\" class=\"dataframe\">\n",
       "  <thead>\n",
       "    <tr style=\"text-align: right;\">\n",
       "      <th></th>\n",
       "      <th>name</th>\n",
       "      <th>categories</th>\n",
       "      <th>rating</th>\n",
       "      <th>latitude</th>\n",
       "      <th>longitude</th>\n",
       "      <th>address</th>\n",
       "      <th>city</th>\n",
       "      <th>state</th>\n",
       "      <th>zip_code</th>\n",
       "    </tr>\n",
       "  </thead>\n",
       "  <tbody>\n",
       "    <tr>\n",
       "      <th>0</th>\n",
       "      <td>The Wild Cow</td>\n",
       "      <td>'vegetarian', 'newamerican', 'vegan'</td>\n",
       "      <td>4.5</td>\n",
       "      <td>36.173823</td>\n",
       "      <td>-86.750055</td>\n",
       "      <td>1100 Fatherland St</td>\n",
       "      <td>Nashville</td>\n",
       "      <td>TN</td>\n",
       "      <td>37206</td>\n",
       "    </tr>\n",
       "  </tbody>\n",
       "</table>\n",
       "</div>"
      ],
      "text/plain": [
       "           name                            categories  rating   latitude  \\\n",
       "0  The Wild Cow  'vegetarian', 'newamerican', 'vegan'     4.5  36.173823   \n",
       "\n",
       "   longitude             address       city state zip_code  \n",
       "0 -86.750055  1100 Fatherland St  Nashville    TN    37206  "
      ]
     },
     "execution_count": 62,
     "metadata": {},
     "output_type": "execute_result"
    }
   ],
   "source": [
    "veggie.head(1)"
   ]
  },
  {
   "cell_type": "code",
   "execution_count": 63,
   "metadata": {},
   "outputs": [
    {
     "name": "stdout",
     "output_type": "stream",
     "text": [
      "<class 'pandas.core.frame.DataFrame'>\n",
      "RangeIndex: 11740 entries, 0 to 11739\n",
      "Data columns (total 9 columns):\n",
      " #   Column      Non-Null Count  Dtype  \n",
      "---  ------      --------------  -----  \n",
      " 0   name        11740 non-null  object \n",
      " 1   categories  11740 non-null  object \n",
      " 2   rating      11740 non-null  float64\n",
      " 3   latitude    11740 non-null  float64\n",
      " 4   longitude   11740 non-null  float64\n",
      " 5   address     11462 non-null  object \n",
      " 6   city        11740 non-null  object \n",
      " 7   state       11740 non-null  object \n",
      " 8   zip_code    11737 non-null  object \n",
      "dtypes: float64(3), object(6)\n",
      "memory usage: 825.6+ KB\n"
     ]
    }
   ],
   "source": [
    "veggie.info()"
   ]
  },
  {
   "cell_type": "code",
   "execution_count": 64,
   "metadata": {},
   "outputs": [],
   "source": [
    "#veggie['categories'] = veggie['categories'].str.strip('''''')"
   ]
  },
  {
   "cell_type": "code",
   "execution_count": 65,
   "metadata": {
    "scrolled": true
   },
   "outputs": [
    {
     "data": {
      "text/html": [
       "<div>\n",
       "<style scoped>\n",
       "    .dataframe tbody tr th:only-of-type {\n",
       "        vertical-align: middle;\n",
       "    }\n",
       "\n",
       "    .dataframe tbody tr th {\n",
       "        vertical-align: top;\n",
       "    }\n",
       "\n",
       "    .dataframe thead th {\n",
       "        text-align: right;\n",
       "    }\n",
       "</style>\n",
       "<table border=\"1\" class=\"dataframe\">\n",
       "  <thead>\n",
       "    <tr style=\"text-align: right;\">\n",
       "      <th></th>\n",
       "      <th>name</th>\n",
       "      <th>categories</th>\n",
       "      <th>rating</th>\n",
       "      <th>latitude</th>\n",
       "      <th>longitude</th>\n",
       "      <th>address</th>\n",
       "      <th>city</th>\n",
       "      <th>state</th>\n",
       "      <th>zip_code</th>\n",
       "      <th>geometry</th>\n",
       "    </tr>\n",
       "  </thead>\n",
       "  <tbody>\n",
       "    <tr>\n",
       "      <th>0</th>\n",
       "      <td>The Wild Cow</td>\n",
       "      <td>'vegetarian', 'newamerican', 'vegan'</td>\n",
       "      <td>4.5</td>\n",
       "      <td>36.173823</td>\n",
       "      <td>-86.750055</td>\n",
       "      <td>1100 Fatherland St</td>\n",
       "      <td>Nashville</td>\n",
       "      <td>TN</td>\n",
       "      <td>37206</td>\n",
       "      <td>POINT (-86.750055 36.173823)</td>\n",
       "    </tr>\n",
       "    <tr>\n",
       "      <th>1</th>\n",
       "      <td>Sunflower Cafe</td>\n",
       "      <td>'cafes', 'vegetarian', 'vegan'</td>\n",
       "      <td>4.5</td>\n",
       "      <td>36.113197</td>\n",
       "      <td>-86.767731</td>\n",
       "      <td>2834 Azalea Pl</td>\n",
       "      <td>Nashville</td>\n",
       "      <td>TN</td>\n",
       "      <td>37204</td>\n",
       "      <td>POINT (-86.76773071289058 36.11319732666021)</td>\n",
       "    </tr>\n",
       "    <tr>\n",
       "      <th>2</th>\n",
       "      <td>Graze Nashville</td>\n",
       "      <td>'vegan', 'newamerican'</td>\n",
       "      <td>4.5</td>\n",
       "      <td>36.182320</td>\n",
       "      <td>-86.735500</td>\n",
       "      <td>1888 Eastland Ave</td>\n",
       "      <td>Nashville</td>\n",
       "      <td>TN</td>\n",
       "      <td>37206</td>\n",
       "      <td>POINT (-86.7355 36.18232)</td>\n",
       "    </tr>\n",
       "  </tbody>\n",
       "</table>\n",
       "</div>"
      ],
      "text/plain": [
       "              name                            categories  rating   latitude  \\\n",
       "0     The Wild Cow  'vegetarian', 'newamerican', 'vegan'     4.5  36.173823   \n",
       "1   Sunflower Cafe        'cafes', 'vegetarian', 'vegan'     4.5  36.113197   \n",
       "2  Graze Nashville                'vegan', 'newamerican'     4.5  36.182320   \n",
       "\n",
       "   longitude             address       city state zip_code  \\\n",
       "0 -86.750055  1100 Fatherland St  Nashville    TN    37206   \n",
       "1 -86.767731      2834 Azalea Pl  Nashville    TN    37204   \n",
       "2 -86.735500   1888 Eastland Ave  Nashville    TN    37206   \n",
       "\n",
       "                                       geometry  \n",
       "0                  POINT (-86.750055 36.173823)  \n",
       "1  POINT (-86.76773071289058 36.11319732666021)  \n",
       "2                     POINT (-86.7355 36.18232)  "
      ]
     },
     "execution_count": 65,
     "metadata": {},
     "output_type": "execute_result"
    }
   ],
   "source": [
    "veggie['geometry'] = veggie.apply(lambda x: Point((float(x.longitude), \n",
    "                                                         float(x.latitude))), \n",
    "                                        axis=1)\n",
    "veggie.head(3)"
   ]
  },
  {
   "cell_type": "code",
   "execution_count": 66,
   "metadata": {},
   "outputs": [
    {
     "data": {
      "text/plain": [
       "pandas.core.frame.DataFrame"
      ]
     },
     "execution_count": 66,
     "metadata": {},
     "output_type": "execute_result"
    }
   ],
   "source": [
    "type(veggie)"
   ]
  },
  {
   "cell_type": "code",
   "execution_count": 69,
   "metadata": {},
   "outputs": [],
   "source": [
    "veggie_geo = gpd.GeoDataFrame(veggie,\n",
    "                             crs = 'EPSG:4326',\n",
    "                             geometry = veggie['geometry'])"
   ]
  },
  {
   "cell_type": "code",
   "execution_count": 70,
   "metadata": {},
   "outputs": [
    {
     "data": {
      "text/plain": [
       "geopandas.geodataframe.GeoDataFrame"
      ]
     },
     "execution_count": 70,
     "metadata": {},
     "output_type": "execute_result"
    }
   ],
   "source": [
    "type(veggie_geo)"
   ]
  },
  {
   "cell_type": "code",
   "execution_count": 71,
   "metadata": {},
   "outputs": [
    {
     "data": {
      "image/png": "[encoded data removed]",
      "text/plain": [
       "<Figure size 432x288 with 1 Axes>"
      ]
     },
     "metadata": {
      "needs_background": "light"
     },
     "output_type": "display_data"
    }
   ],
   "source": [
    "veggie_geo.plot();"
   ]
  },
  {
   "cell_type": "code",
   "execution_count": 75,
   "metadata": {},
   "outputs": [
    {
     "data": {
      "text/plain": [
       "city          state\n",
       "Los Angeles   CA       596\n",
       "Philadelphia  PA       219\n",
       "San Diego     CA       179\n",
       "Portland      OR       161\n",
       "Seattle       WA       156\n",
       "                      ... \n",
       "Garwood       NJ         1\n",
       "Pooler        GA         1\n",
       "Gig Harbor    WA         1\n",
       "Glassboro     NJ         1\n",
       "Abbotsford    VIC        1\n",
       "Length: 1267, dtype: int64"
      ]
     },
     "execution_count": 75,
     "metadata": {},
     "output_type": "execute_result"
    }
   ],
   "source": [
    "city_counts = veggie_geo.groupby(['city','state']).size()\n",
    "city_counts.sort_values(ascending = False)"
   ]
  },
  {
   "cell_type": "code",
   "execution_count": 25,
   "metadata": {},
   "outputs": [],
   "source": [
    "#veggie_map = folium.Map(location = [39.8283, -98.5795])\n",
    "\n",
    "#folium.GeoJson(veggie).add_to(veggie_map)\n",
    "\n",
    "#for row_index, row_values in veggie.iterrows():\n",
    "    #loc = [row_values['latitude'], row_values['longitude']]\n",
    "    #pop = str(row_values['name'])\n",
    "    #icon = folium.Icon(color='green',icon='pagelines',prefix='fa')\n",
    "    \n",
    "    #marker = folium.Marker(\n",
    "        #location = loc,\n",
    "        #popup = pop, icon = icon)\n",
    "    \n",
    "    #marker.add_to(veggie_map)\n",
    "    \n",
    "#veggie_map"
   ]
  },
  {
   "cell_type": "code",
   "execution_count": null,
   "metadata": {},
   "outputs": [],
   "source": []
  }
 ],
 "metadata": {
  "kernelspec": {
   "display_name": "Python 3",
   "language": "python",
   "name": "python3"
  },
  "language_info": {
   "codemirror_mode": {
    "name": "ipython",
    "version": 3
   },
   "file_extension": ".py",
   "mimetype": "text/x-python",
   "name": "python",
   "nbconvert_exporter": "python",
   "pygments_lexer": "ipython3",
   "version": "3.8.5"
  }
 },
 "nbformat": 4,
 "nbformat_minor": 4
}
